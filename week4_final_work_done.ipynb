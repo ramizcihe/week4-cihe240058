{
  "nbformat": 4,
  "nbformat_minor": 0,
  "metadata": {
    "colab": {
      "provenance": [],
      "include_colab_link": true
    },
    "kernelspec": {
      "name": "python3",
      "display_name": "Python 3"
    },
    "language_info": {
      "name": "python"
    }
  },
  "cells": [
    {
      "cell_type": "markdown",
      "metadata": {
        "id": "view-in-github",
        "colab_type": "text"
      },
      "source": [
        "<a href=\"https://colab.research.google.com/github/ramizcihe/week4-cihe240058/blob/main/week4_final_work_done.ipynb\" target=\"_parent\"><img src=\"https://colab.research.google.com/assets/colab-badge.svg\" alt=\"Open In Colab\"/></a>"
      ]
    },
    {
      "cell_type": "code",
      "source": [
        "\"\"\"1. Dataset Preparation\n",
        "Import the cyberbullying dataset (e.g., from Kaggle or other public sources).\n",
        "Explore the dataset structure, label distribution, and check for class imbalance.\n",
        "Clean the dataset by removing:\n",
        "Missing or null values\n",
        "Duplicate entries\n",
        "Irrelevant content (e.g., ads, unrelated text)\n",
        "\"\"\""
      ],
      "metadata": {
        "colab": {
          "base_uri": "https://localhost:8080/",
          "height": 53
        },
        "id": "GhPTaHxibrNt",
        "outputId": "cb07901a-6c57-4a7b-8d57-85a467e52911"
      },
      "execution_count": 1,
      "outputs": [
        {
          "output_type": "execute_result",
          "data": {
            "text/plain": [
              "'1. Dataset Preparation\\nImport the cyberbullying dataset (e.g., from Kaggle or other public sources).\\nExplore the dataset structure, label distribution, and check for class imbalance.\\nClean the dataset by removing:\\nMissing or null values\\nDuplicate entries\\nIrrelevant content (e.g., ads, unrelated text)\\n'"
            ],
            "application/vnd.google.colaboratory.intrinsic+json": {
              "type": "string"
            }
          },
          "metadata": {},
          "execution_count": 1
        }
      ]
    },
    {
      "cell_type": "code",
      "execution_count": 2,
      "metadata": {
        "colab": {
          "base_uri": "https://localhost:8080/",
          "height": 206
        },
        "id": "aK45GBciZSNw",
        "outputId": "ddad1cc6-b266-457e-e570-1e881a8b1f59"
      },
      "outputs": [
        {
          "output_type": "execute_result",
          "data": {
            "text/plain": [
              "                                          tweet_text cyberbullying_type\n",
              "0  In other words #katandandre, your food was cra...  not_cyberbullying\n",
              "1  Why is #aussietv so white? #MKR #theblock #ImA...  not_cyberbullying\n",
              "2  @XochitlSuckkks a classy whore? Or more red ve...  not_cyberbullying\n",
              "3  @Jason_Gio meh. :P  thanks for the heads up, b...  not_cyberbullying\n",
              "4  @RudhoeEnglish This is an ISIS account pretend...  not_cyberbullying"
            ],
            "text/html": [
              "\n",
              "  <div id=\"df-065d4404-312a-4351-b09e-f606c1190856\" class=\"colab-df-container\">\n",
              "    <div>\n",
              "<style scoped>\n",
              "    .dataframe tbody tr th:only-of-type {\n",
              "        vertical-align: middle;\n",
              "    }\n",
              "\n",
              "    .dataframe tbody tr th {\n",
              "        vertical-align: top;\n",
              "    }\n",
              "\n",
              "    .dataframe thead th {\n",
              "        text-align: right;\n",
              "    }\n",
              "</style>\n",
              "<table border=\"1\" class=\"dataframe\">\n",
              "  <thead>\n",
              "    <tr style=\"text-align: right;\">\n",
              "      <th></th>\n",
              "      <th>tweet_text</th>\n",
              "      <th>cyberbullying_type</th>\n",
              "    </tr>\n",
              "  </thead>\n",
              "  <tbody>\n",
              "    <tr>\n",
              "      <th>0</th>\n",
              "      <td>In other words #katandandre, your food was cra...</td>\n",
              "      <td>not_cyberbullying</td>\n",
              "    </tr>\n",
              "    <tr>\n",
              "      <th>1</th>\n",
              "      <td>Why is #aussietv so white? #MKR #theblock #ImA...</td>\n",
              "      <td>not_cyberbullying</td>\n",
              "    </tr>\n",
              "    <tr>\n",
              "      <th>2</th>\n",
              "      <td>@XochitlSuckkks a classy whore? Or more red ve...</td>\n",
              "      <td>not_cyberbullying</td>\n",
              "    </tr>\n",
              "    <tr>\n",
              "      <th>3</th>\n",
              "      <td>@Jason_Gio meh. :P  thanks for the heads up, b...</td>\n",
              "      <td>not_cyberbullying</td>\n",
              "    </tr>\n",
              "    <tr>\n",
              "      <th>4</th>\n",
              "      <td>@RudhoeEnglish This is an ISIS account pretend...</td>\n",
              "      <td>not_cyberbullying</td>\n",
              "    </tr>\n",
              "  </tbody>\n",
              "</table>\n",
              "</div>\n",
              "    <div class=\"colab-df-buttons\">\n",
              "\n",
              "  <div class=\"colab-df-container\">\n",
              "    <button class=\"colab-df-convert\" onclick=\"convertToInteractive('df-065d4404-312a-4351-b09e-f606c1190856')\"\n",
              "            title=\"Convert this dataframe to an interactive table.\"\n",
              "            style=\"display:none;\">\n",
              "\n",
              "  <svg xmlns=\"http://www.w3.org/2000/svg\" height=\"24px\" viewBox=\"0 -960 960 960\">\n",
              "    <path d=\"M120-120v-720h720v720H120Zm60-500h600v-160H180v160Zm220 220h160v-160H400v160Zm0 220h160v-160H400v160ZM180-400h160v-160H180v160Zm440 0h160v-160H620v160ZM180-180h160v-160H180v160Zm440 0h160v-160H620v160Z\"/>\n",
              "  </svg>\n",
              "    </button>\n",
              "\n",
              "  <style>\n",
              "    .colab-df-container {\n",
              "      display:flex;\n",
              "      gap: 12px;\n",
              "    }\n",
              "\n",
              "    .colab-df-convert {\n",
              "      background-color: #E8F0FE;\n",
              "      border: none;\n",
              "      border-radius: 50%;\n",
              "      cursor: pointer;\n",
              "      display: none;\n",
              "      fill: #1967D2;\n",
              "      height: 32px;\n",
              "      padding: 0 0 0 0;\n",
              "      width: 32px;\n",
              "    }\n",
              "\n",
              "    .colab-df-convert:hover {\n",
              "      background-color: #E2EBFA;\n",
              "      box-shadow: 0px 1px 2px rgba(60, 64, 67, 0.3), 0px 1px 3px 1px rgba(60, 64, 67, 0.15);\n",
              "      fill: #174EA6;\n",
              "    }\n",
              "\n",
              "    .colab-df-buttons div {\n",
              "      margin-bottom: 4px;\n",
              "    }\n",
              "\n",
              "    [theme=dark] .colab-df-convert {\n",
              "      background-color: #3B4455;\n",
              "      fill: #D2E3FC;\n",
              "    }\n",
              "\n",
              "    [theme=dark] .colab-df-convert:hover {\n",
              "      background-color: #434B5C;\n",
              "      box-shadow: 0px 1px 3px 1px rgba(0, 0, 0, 0.15);\n",
              "      filter: drop-shadow(0px 1px 2px rgba(0, 0, 0, 0.3));\n",
              "      fill: #FFFFFF;\n",
              "    }\n",
              "  </style>\n",
              "\n",
              "    <script>\n",
              "      const buttonEl =\n",
              "        document.querySelector('#df-065d4404-312a-4351-b09e-f606c1190856 button.colab-df-convert');\n",
              "      buttonEl.style.display =\n",
              "        google.colab.kernel.accessAllowed ? 'block' : 'none';\n",
              "\n",
              "      async function convertToInteractive(key) {\n",
              "        const element = document.querySelector('#df-065d4404-312a-4351-b09e-f606c1190856');\n",
              "        const dataTable =\n",
              "          await google.colab.kernel.invokeFunction('convertToInteractive',\n",
              "                                                    [key], {});\n",
              "        if (!dataTable) return;\n",
              "\n",
              "        const docLinkHtml = 'Like what you see? Visit the ' +\n",
              "          '<a target=\"_blank\" href=https://colab.research.google.com/notebooks/data_table.ipynb>data table notebook</a>'\n",
              "          + ' to learn more about interactive tables.';\n",
              "        element.innerHTML = '';\n",
              "        dataTable['output_type'] = 'display_data';\n",
              "        await google.colab.output.renderOutput(dataTable, element);\n",
              "        const docLink = document.createElement('div');\n",
              "        docLink.innerHTML = docLinkHtml;\n",
              "        element.appendChild(docLink);\n",
              "      }\n",
              "    </script>\n",
              "  </div>\n",
              "\n",
              "\n",
              "    <div id=\"df-15af4a8e-1171-4f4a-bca7-7e8038c2e300\">\n",
              "      <button class=\"colab-df-quickchart\" onclick=\"quickchart('df-15af4a8e-1171-4f4a-bca7-7e8038c2e300')\"\n",
              "                title=\"Suggest charts\"\n",
              "                style=\"display:none;\">\n",
              "\n",
              "<svg xmlns=\"http://www.w3.org/2000/svg\" height=\"24px\"viewBox=\"0 0 24 24\"\n",
              "     width=\"24px\">\n",
              "    <g>\n",
              "        <path d=\"M19 3H5c-1.1 0-2 .9-2 2v14c0 1.1.9 2 2 2h14c1.1 0 2-.9 2-2V5c0-1.1-.9-2-2-2zM9 17H7v-7h2v7zm4 0h-2V7h2v10zm4 0h-2v-4h2v4z\"/>\n",
              "    </g>\n",
              "</svg>\n",
              "      </button>\n",
              "\n",
              "<style>\n",
              "  .colab-df-quickchart {\n",
              "      --bg-color: #E8F0FE;\n",
              "      --fill-color: #1967D2;\n",
              "      --hover-bg-color: #E2EBFA;\n",
              "      --hover-fill-color: #174EA6;\n",
              "      --disabled-fill-color: #AAA;\n",
              "      --disabled-bg-color: #DDD;\n",
              "  }\n",
              "\n",
              "  [theme=dark] .colab-df-quickchart {\n",
              "      --bg-color: #3B4455;\n",
              "      --fill-color: #D2E3FC;\n",
              "      --hover-bg-color: #434B5C;\n",
              "      --hover-fill-color: #FFFFFF;\n",
              "      --disabled-bg-color: #3B4455;\n",
              "      --disabled-fill-color: #666;\n",
              "  }\n",
              "\n",
              "  .colab-df-quickchart {\n",
              "    background-color: var(--bg-color);\n",
              "    border: none;\n",
              "    border-radius: 50%;\n",
              "    cursor: pointer;\n",
              "    display: none;\n",
              "    fill: var(--fill-color);\n",
              "    height: 32px;\n",
              "    padding: 0;\n",
              "    width: 32px;\n",
              "  }\n",
              "\n",
              "  .colab-df-quickchart:hover {\n",
              "    background-color: var(--hover-bg-color);\n",
              "    box-shadow: 0 1px 2px rgba(60, 64, 67, 0.3), 0 1px 3px 1px rgba(60, 64, 67, 0.15);\n",
              "    fill: var(--button-hover-fill-color);\n",
              "  }\n",
              "\n",
              "  .colab-df-quickchart-complete:disabled,\n",
              "  .colab-df-quickchart-complete:disabled:hover {\n",
              "    background-color: var(--disabled-bg-color);\n",
              "    fill: var(--disabled-fill-color);\n",
              "    box-shadow: none;\n",
              "  }\n",
              "\n",
              "  .colab-df-spinner {\n",
              "    border: 2px solid var(--fill-color);\n",
              "    border-color: transparent;\n",
              "    border-bottom-color: var(--fill-color);\n",
              "    animation:\n",
              "      spin 1s steps(1) infinite;\n",
              "  }\n",
              "\n",
              "  @keyframes spin {\n",
              "    0% {\n",
              "      border-color: transparent;\n",
              "      border-bottom-color: var(--fill-color);\n",
              "      border-left-color: var(--fill-color);\n",
              "    }\n",
              "    20% {\n",
              "      border-color: transparent;\n",
              "      border-left-color: var(--fill-color);\n",
              "      border-top-color: var(--fill-color);\n",
              "    }\n",
              "    30% {\n",
              "      border-color: transparent;\n",
              "      border-left-color: var(--fill-color);\n",
              "      border-top-color: var(--fill-color);\n",
              "      border-right-color: var(--fill-color);\n",
              "    }\n",
              "    40% {\n",
              "      border-color: transparent;\n",
              "      border-right-color: var(--fill-color);\n",
              "      border-top-color: var(--fill-color);\n",
              "    }\n",
              "    60% {\n",
              "      border-color: transparent;\n",
              "      border-right-color: var(--fill-color);\n",
              "    }\n",
              "    80% {\n",
              "      border-color: transparent;\n",
              "      border-right-color: var(--fill-color);\n",
              "      border-bottom-color: var(--fill-color);\n",
              "    }\n",
              "    90% {\n",
              "      border-color: transparent;\n",
              "      border-bottom-color: var(--fill-color);\n",
              "    }\n",
              "  }\n",
              "</style>\n",
              "\n",
              "      <script>\n",
              "        async function quickchart(key) {\n",
              "          const quickchartButtonEl =\n",
              "            document.querySelector('#' + key + ' button');\n",
              "          quickchartButtonEl.disabled = true;  // To prevent multiple clicks.\n",
              "          quickchartButtonEl.classList.add('colab-df-spinner');\n",
              "          try {\n",
              "            const charts = await google.colab.kernel.invokeFunction(\n",
              "                'suggestCharts', [key], {});\n",
              "          } catch (error) {\n",
              "            console.error('Error during call to suggestCharts:', error);\n",
              "          }\n",
              "          quickchartButtonEl.classList.remove('colab-df-spinner');\n",
              "          quickchartButtonEl.classList.add('colab-df-quickchart-complete');\n",
              "        }\n",
              "        (() => {\n",
              "          let quickchartButtonEl =\n",
              "            document.querySelector('#df-15af4a8e-1171-4f4a-bca7-7e8038c2e300 button');\n",
              "          quickchartButtonEl.style.display =\n",
              "            google.colab.kernel.accessAllowed ? 'block' : 'none';\n",
              "        })();\n",
              "      </script>\n",
              "    </div>\n",
              "\n",
              "    </div>\n",
              "  </div>\n"
            ],
            "application/vnd.google.colaboratory.intrinsic+json": {
              "type": "dataframe",
              "variable_name": "df",
              "summary": "{\n  \"name\": \"df\",\n  \"rows\": 47692,\n  \"fields\": [\n    {\n      \"column\": \"tweet_text\",\n      \"properties\": {\n        \"dtype\": \"string\",\n        \"num_unique_values\": 46017,\n        \"samples\": [\n          \"@AndyEaston85 Love how we are teaching the Bullshitters a lesson in football. Miss Bully and his message board posts.\",\n          \"GYUK | Anti-feminist YouTuber doubles down on vile Jess Phillips rape joke while leaping to the defence ...: In a video uploaded Thursday (April 23), former UKIP candidate Benjamin jumped to the defence of retired gay porn actor turned men's rights\\u2026 http://dlvr.it/RVRS8h\",\n          \"@Truth_Haqq Islam declared war on all mankind 1400 years ago. Now we return the favor. http://t.co/av4B4yCQzY\"\n        ],\n        \"semantic_type\": \"\",\n        \"description\": \"\"\n      }\n    },\n    {\n      \"column\": \"cyberbullying_type\",\n      \"properties\": {\n        \"dtype\": \"category\",\n        \"num_unique_values\": 6,\n        \"samples\": [\n          \"not_cyberbullying\",\n          \"gender\",\n          \"ethnicity\"\n        ],\n        \"semantic_type\": \"\",\n        \"description\": \"\"\n      }\n    }\n  ]\n}"
            }
          },
          "metadata": {},
          "execution_count": 2
        }
      ],
      "source": [
        "import pandas as pd\n",
        "\n",
        "# Load dataset (replace with your dataset path or URL)\n",
        "df = pd.read_csv(\"https://raw.githubusercontent.com/ramizcihe/week4-cihe240058/refs/heads/main/cyberbullying_tweets.csv\")\n",
        "\n",
        "# Show first 5 rows\n",
        "df.head()"
      ]
    },
    {
      "cell_type": "code",
      "source": [
        "print(df.columns)"
      ],
      "metadata": {
        "colab": {
          "base_uri": "https://localhost:8080/"
        },
        "id": "-Qscnx5_aTC4",
        "outputId": "afd82d93-7096-44d1-e2c2-f0efca12cd8b"
      },
      "execution_count": 3,
      "outputs": [
        {
          "output_type": "stream",
          "name": "stdout",
          "text": [
            "Index(['tweet_text', 'cyberbullying_type'], dtype='object')\n"
          ]
        }
      ]
    },
    {
      "cell_type": "code",
      "source": [
        "df['cyberbullying_type'].value_counts()"
      ],
      "metadata": {
        "colab": {
          "base_uri": "https://localhost:8080/",
          "height": 303
        },
        "id": "mIo1qNkxagq7",
        "outputId": "96521ac1-9864-45cf-ecbf-90fa62c127ca"
      },
      "execution_count": 4,
      "outputs": [
        {
          "output_type": "execute_result",
          "data": {
            "text/plain": [
              "cyberbullying_type\n",
              "religion               7998\n",
              "age                    7992\n",
              "gender                 7973\n",
              "ethnicity              7961\n",
              "not_cyberbullying      7945\n",
              "other_cyberbullying    7823\n",
              "Name: count, dtype: int64"
            ],
            "text/html": [
              "<div>\n",
              "<style scoped>\n",
              "    .dataframe tbody tr th:only-of-type {\n",
              "        vertical-align: middle;\n",
              "    }\n",
              "\n",
              "    .dataframe tbody tr th {\n",
              "        vertical-align: top;\n",
              "    }\n",
              "\n",
              "    .dataframe thead th {\n",
              "        text-align: right;\n",
              "    }\n",
              "</style>\n",
              "<table border=\"1\" class=\"dataframe\">\n",
              "  <thead>\n",
              "    <tr style=\"text-align: right;\">\n",
              "      <th></th>\n",
              "      <th>count</th>\n",
              "    </tr>\n",
              "    <tr>\n",
              "      <th>cyberbullying_type</th>\n",
              "      <th></th>\n",
              "    </tr>\n",
              "  </thead>\n",
              "  <tbody>\n",
              "    <tr>\n",
              "      <th>religion</th>\n",
              "      <td>7998</td>\n",
              "    </tr>\n",
              "    <tr>\n",
              "      <th>age</th>\n",
              "      <td>7992</td>\n",
              "    </tr>\n",
              "    <tr>\n",
              "      <th>gender</th>\n",
              "      <td>7973</td>\n",
              "    </tr>\n",
              "    <tr>\n",
              "      <th>ethnicity</th>\n",
              "      <td>7961</td>\n",
              "    </tr>\n",
              "    <tr>\n",
              "      <th>not_cyberbullying</th>\n",
              "      <td>7945</td>\n",
              "    </tr>\n",
              "    <tr>\n",
              "      <th>other_cyberbullying</th>\n",
              "      <td>7823</td>\n",
              "    </tr>\n",
              "  </tbody>\n",
              "</table>\n",
              "</div><br><label><b>dtype:</b> int64</label>"
            ]
          },
          "metadata": {},
          "execution_count": 4
        }
      ]
    },
    {
      "cell_type": "code",
      "source": [
        "X = df['tweet_text']                # features\n",
        "y = df['cyberbullying_type']        # target"
      ],
      "metadata": {
        "id": "rKepe8DaajTk"
      },
      "execution_count": 5,
      "outputs": []
    },
    {
      "cell_type": "code",
      "source": [
        "from sklearn.model_selection import train_test_split\n",
        "\n",
        "X_train, X_test, y_train, y_test = train_test_split(\n",
        "    X, y, test_size=0.2, random_state=42, stratify=y\n",
        ")"
      ],
      "metadata": {
        "id": "RogyW8tnamct"
      },
      "execution_count": 6,
      "outputs": []
    },
    {
      "cell_type": "code",
      "source": [
        "# Remove rows with null values\n",
        "df = df.dropna()\n",
        "\n",
        "print(\"After removing nulls:\", df.shape)"
      ],
      "metadata": {
        "colab": {
          "base_uri": "https://localhost:8080/"
        },
        "id": "YRaPgWYqa3XE",
        "outputId": "2782a5ec-6acb-4499-d1d9-2caf8ddb36a6"
      },
      "execution_count": 7,
      "outputs": [
        {
          "output_type": "stream",
          "name": "stdout",
          "text": [
            "After removing nulls: (47692, 2)\n"
          ]
        }
      ]
    },
    {
      "cell_type": "code",
      "source": [
        "# Remove duplicate rows\n",
        "df = df.drop_duplicates()\n",
        "\n",
        "print(\"After removing duplicates:\", df.shape)"
      ],
      "metadata": {
        "colab": {
          "base_uri": "https://localhost:8080/"
        },
        "id": "4MIlN0wFa8Ve",
        "outputId": "a90c9af0-3e0b-499b-f9bf-5349a6a1bddc"
      },
      "execution_count": 8,
      "outputs": [
        {
          "output_type": "stream",
          "name": "stdout",
          "text": [
            "After removing duplicates: (47656, 2)\n"
          ]
        }
      ]
    },
    {
      "cell_type": "code",
      "source": [
        "df['tweet_text']"
      ],
      "metadata": {
        "colab": {
          "base_uri": "https://localhost:8080/",
          "height": 458
        },
        "id": "SVJ_wLjja_mp",
        "outputId": "ae44217c-1e74-4010-f57b-4730f190b12f"
      },
      "execution_count": 9,
      "outputs": [
        {
          "output_type": "execute_result",
          "data": {
            "text/plain": [
              "0        In other words #katandandre, your food was cra...\n",
              "1        Why is #aussietv so white? #MKR #theblock #ImA...\n",
              "2        @XochitlSuckkks a classy whore? Or more red ve...\n",
              "3        @Jason_Gio meh. :P  thanks for the heads up, b...\n",
              "4        @RudhoeEnglish This is an ISIS account pretend...\n",
              "                               ...                        \n",
              "47687    Black ppl aren't expected to do anything, depe...\n",
              "47688    Turner did not withhold his disappointment. Tu...\n",
              "47689    I swear to God. This dumb nigger bitch. I have...\n",
              "47690    Yea fuck you RT @therealexel: IF YOURE A NIGGE...\n",
              "47691    Bro. U gotta chill RT @CHILLShrammy: Dog FUCK ...\n",
              "Name: tweet_text, Length: 47656, dtype: object"
            ],
            "text/html": [
              "<div>\n",
              "<style scoped>\n",
              "    .dataframe tbody tr th:only-of-type {\n",
              "        vertical-align: middle;\n",
              "    }\n",
              "\n",
              "    .dataframe tbody tr th {\n",
              "        vertical-align: top;\n",
              "    }\n",
              "\n",
              "    .dataframe thead th {\n",
              "        text-align: right;\n",
              "    }\n",
              "</style>\n",
              "<table border=\"1\" class=\"dataframe\">\n",
              "  <thead>\n",
              "    <tr style=\"text-align: right;\">\n",
              "      <th></th>\n",
              "      <th>tweet_text</th>\n",
              "    </tr>\n",
              "  </thead>\n",
              "  <tbody>\n",
              "    <tr>\n",
              "      <th>0</th>\n",
              "      <td>In other words #katandandre, your food was cra...</td>\n",
              "    </tr>\n",
              "    <tr>\n",
              "      <th>1</th>\n",
              "      <td>Why is #aussietv so white? #MKR #theblock #ImA...</td>\n",
              "    </tr>\n",
              "    <tr>\n",
              "      <th>2</th>\n",
              "      <td>@XochitlSuckkks a classy whore? Or more red ve...</td>\n",
              "    </tr>\n",
              "    <tr>\n",
              "      <th>3</th>\n",
              "      <td>@Jason_Gio meh. :P  thanks for the heads up, b...</td>\n",
              "    </tr>\n",
              "    <tr>\n",
              "      <th>4</th>\n",
              "      <td>@RudhoeEnglish This is an ISIS account pretend...</td>\n",
              "    </tr>\n",
              "    <tr>\n",
              "      <th>...</th>\n",
              "      <td>...</td>\n",
              "    </tr>\n",
              "    <tr>\n",
              "      <th>47687</th>\n",
              "      <td>Black ppl aren't expected to do anything, depe...</td>\n",
              "    </tr>\n",
              "    <tr>\n",
              "      <th>47688</th>\n",
              "      <td>Turner did not withhold his disappointment. Tu...</td>\n",
              "    </tr>\n",
              "    <tr>\n",
              "      <th>47689</th>\n",
              "      <td>I swear to God. This dumb nigger bitch. I have...</td>\n",
              "    </tr>\n",
              "    <tr>\n",
              "      <th>47690</th>\n",
              "      <td>Yea fuck you RT @therealexel: IF YOURE A NIGGE...</td>\n",
              "    </tr>\n",
              "    <tr>\n",
              "      <th>47691</th>\n",
              "      <td>Bro. U gotta chill RT @CHILLShrammy: Dog FUCK ...</td>\n",
              "    </tr>\n",
              "  </tbody>\n",
              "</table>\n",
              "<p>47656 rows × 1 columns</p>\n",
              "</div><br><label><b>dtype:</b> object</label>"
            ]
          },
          "metadata": {},
          "execution_count": 9
        }
      ]
    },
    {
      "cell_type": "code",
      "source": [
        "# Correct for your dataset\n",
        "X = df['tweet_text']\n",
        "y = df['cyberbullying_type']"
      ],
      "metadata": {
        "id": "QnrYbzixbP5X"
      },
      "execution_count": 10,
      "outputs": []
    },
    {
      "cell_type": "code",
      "source": [
        "\"\"\"\n",
        "2. Text Preprocessing\n",
        "Lowercase all text.\n",
        "Remove stopwords, punctuation, numbers, and special characters.\n",
        "Tokenize the text into words.\n",
        "Apply stemming or lemmatization.\n",
        "Optionally remove very rare or very frequent words to reduce noise\n",
        "\"\"\""
      ],
      "metadata": {
        "colab": {
          "base_uri": "https://localhost:8080/",
          "height": 53
        },
        "id": "r4-QibBlaC-Q",
        "outputId": "abca4465-7322-4ead-95db-e76f12e2dcf3"
      },
      "execution_count": 11,
      "outputs": [
        {
          "output_type": "execute_result",
          "data": {
            "text/plain": [
              "'\\n2. Text Preprocessing\\nLowercase all text.\\nRemove stopwords, punctuation, numbers, and special characters.\\nTokenize the text into words.\\nApply stemming or lemmatization.\\nOptionally remove very rare or very frequent words to reduce noise\\n'"
            ],
            "application/vnd.google.colaboratory.intrinsic+json": {
              "type": "string"
            }
          },
          "metadata": {},
          "execution_count": 11
        }
      ]
    },
    {
      "cell_type": "code",
      "source": [
        "['tweet_text', 'cyberbullying_type']"
      ],
      "metadata": {
        "colab": {
          "base_uri": "https://localhost:8080/"
        },
        "id": "bhL5HepqcC9n",
        "outputId": "493fb5c8-f3bc-4a31-92fa-d6cdc68c9962"
      },
      "execution_count": 12,
      "outputs": [
        {
          "output_type": "execute_result",
          "data": {
            "text/plain": [
              "['tweet_text', 'cyberbullying_type']"
            ]
          },
          "metadata": {},
          "execution_count": 12
        }
      ]
    },
    {
      "cell_type": "code",
      "source": [
        "df['tweet_text']          # ✅ correct features\n",
        "df['cyberbullying_type']  # ✅ correct labels"
      ],
      "metadata": {
        "colab": {
          "base_uri": "https://localhost:8080/",
          "height": 458
        },
        "id": "VFHRXG5Ncd15",
        "outputId": "d493f1d9-3638-4d05-a6fc-190685cf18b2"
      },
      "execution_count": 13,
      "outputs": [
        {
          "output_type": "execute_result",
          "data": {
            "text/plain": [
              "0        not_cyberbullying\n",
              "1        not_cyberbullying\n",
              "2        not_cyberbullying\n",
              "3        not_cyberbullying\n",
              "4        not_cyberbullying\n",
              "               ...        \n",
              "47687            ethnicity\n",
              "47688            ethnicity\n",
              "47689            ethnicity\n",
              "47690            ethnicity\n",
              "47691            ethnicity\n",
              "Name: cyberbullying_type, Length: 47656, dtype: object"
            ],
            "text/html": [
              "<div>\n",
              "<style scoped>\n",
              "    .dataframe tbody tr th:only-of-type {\n",
              "        vertical-align: middle;\n",
              "    }\n",
              "\n",
              "    .dataframe tbody tr th {\n",
              "        vertical-align: top;\n",
              "    }\n",
              "\n",
              "    .dataframe thead th {\n",
              "        text-align: right;\n",
              "    }\n",
              "</style>\n",
              "<table border=\"1\" class=\"dataframe\">\n",
              "  <thead>\n",
              "    <tr style=\"text-align: right;\">\n",
              "      <th></th>\n",
              "      <th>cyberbullying_type</th>\n",
              "    </tr>\n",
              "  </thead>\n",
              "  <tbody>\n",
              "    <tr>\n",
              "      <th>0</th>\n",
              "      <td>not_cyberbullying</td>\n",
              "    </tr>\n",
              "    <tr>\n",
              "      <th>1</th>\n",
              "      <td>not_cyberbullying</td>\n",
              "    </tr>\n",
              "    <tr>\n",
              "      <th>2</th>\n",
              "      <td>not_cyberbullying</td>\n",
              "    </tr>\n",
              "    <tr>\n",
              "      <th>3</th>\n",
              "      <td>not_cyberbullying</td>\n",
              "    </tr>\n",
              "    <tr>\n",
              "      <th>4</th>\n",
              "      <td>not_cyberbullying</td>\n",
              "    </tr>\n",
              "    <tr>\n",
              "      <th>...</th>\n",
              "      <td>...</td>\n",
              "    </tr>\n",
              "    <tr>\n",
              "      <th>47687</th>\n",
              "      <td>ethnicity</td>\n",
              "    </tr>\n",
              "    <tr>\n",
              "      <th>47688</th>\n",
              "      <td>ethnicity</td>\n",
              "    </tr>\n",
              "    <tr>\n",
              "      <th>47689</th>\n",
              "      <td>ethnicity</td>\n",
              "    </tr>\n",
              "    <tr>\n",
              "      <th>47690</th>\n",
              "      <td>ethnicity</td>\n",
              "    </tr>\n",
              "    <tr>\n",
              "      <th>47691</th>\n",
              "      <td>ethnicity</td>\n",
              "    </tr>\n",
              "  </tbody>\n",
              "</table>\n",
              "<p>47656 rows × 1 columns</p>\n",
              "</div><br><label><b>dtype:</b> object</label>"
            ]
          },
          "metadata": {},
          "execution_count": 13
        }
      ]
    },
    {
      "cell_type": "code",
      "source": [
        "import nltk\n",
        "nltk.download('punkt')\n",
        "nltk.download('punkt_tab')  # new requirement in latest NLTK\n",
        "nltk.download('stopwords')\n",
        "nltk.download('wordnet')"
      ],
      "metadata": {
        "colab": {
          "base_uri": "https://localhost:8080/"
        },
        "id": "IDWIUM6IdnBV",
        "outputId": "44d7617a-4c9e-4d0b-cb37-336b24732b6a"
      },
      "execution_count": 14,
      "outputs": [
        {
          "output_type": "stream",
          "name": "stderr",
          "text": [
            "[nltk_data] Downloading package punkt to /root/nltk_data...\n",
            "[nltk_data]   Unzipping tokenizers/punkt.zip.\n",
            "[nltk_data] Downloading package punkt_tab to /root/nltk_data...\n",
            "[nltk_data]   Unzipping tokenizers/punkt_tab.zip.\n",
            "[nltk_data] Downloading package stopwords to /root/nltk_data...\n",
            "[nltk_data]   Unzipping corpora/stopwords.zip.\n",
            "[nltk_data] Downloading package wordnet to /root/nltk_data...\n"
          ]
        },
        {
          "output_type": "execute_result",
          "data": {
            "text/plain": [
              "True"
            ]
          },
          "metadata": {},
          "execution_count": 14
        }
      ]
    },
    {
      "cell_type": "code",
      "source": [
        "import pandas as pd\n",
        "import re\n",
        "import nltk\n",
        "from nltk.tokenize import word_tokenize\n",
        "from nltk.corpus import stopwords\n",
        "from nltk.stem import WordNetLemmatizer\n",
        "from collections import Counter\n",
        "\n",
        "# Download NLTK resources (only first time)\n",
        "nltk.download('punkt')\n",
        "nltk.download('stopwords')\n",
        "nltk.download('wordnet')\n",
        "nltk.download('omw-1.4')\n",
        "\n",
        "# 1. Lowercase\n",
        "df['clean_text'] = df['tweet_text'].str.lower()\n",
        "\n",
        "# 2. Remove punctuation, numbers, special characters\n",
        "df['clean_text'] = df['clean_text'].apply(lambda x: re.sub(r'[^a-z\\s]', '', x))\n",
        "\n",
        "# 3. Tokenize\n",
        "df['tokens'] = df['clean_text'].apply(word_tokenize)\n",
        "\n",
        "# 4. Remove stopwords\n",
        "stop_words = set(stopwords.words('english'))\n",
        "df['tokens'] = df['tokens'].apply(lambda x: [word for word in x if word not in stop_words])\n",
        "\n",
        "# 5. Lemmatization\n",
        "lemmatizer = WordNetLemmatizer()\n",
        "df['tokens'] = df['tokens'].apply(lambda x: [lemmatizer.lemmatize(word) for word in x])\n",
        "\n",
        "# 6. (Optional) Remove rare and frequent words\n",
        "all_words = [word for tokens in df['tokens'] for word in tokens]\n",
        "word_freq = Counter(all_words)\n",
        "\n",
        "rare_thresh = 2      # words appearing less than 2 times\n",
        "freq_thresh = 0.9    # words appearing in >90% of documents\n",
        "\n",
        "rare_words = {w for w, c in word_freq.items() if c < rare_thresh}\n",
        "total_docs = len(df)\n",
        "freq_words = {w for w, c in word_freq.items() if c/total_docs > freq_thresh}\n",
        "\n",
        "df['tokens'] = df['tokens'].apply(lambda x: [word for word in x if word not in rare_words and word not in freq_words])\n",
        "\n",
        "# 7. (Optional) Reconstruct tokens back into cleaned sentence\n",
        "df['final_text'] = df['tokens'].apply(lambda x: \" \".join(x))\n",
        "\n",
        "# Check sample\n",
        "print(df[['tweet_text','final_text','cyberbullying_type']].head())"
      ],
      "metadata": {
        "colab": {
          "base_uri": "https://localhost:8080/"
        },
        "id": "-kLYMqN7dcgu",
        "outputId": "ba30debf-f9b7-4be5-9438-16906303ef93"
      },
      "execution_count": 15,
      "outputs": [
        {
          "output_type": "stream",
          "name": "stderr",
          "text": [
            "[nltk_data] Downloading package punkt to /root/nltk_data...\n",
            "[nltk_data]   Package punkt is already up-to-date!\n",
            "[nltk_data] Downloading package stopwords to /root/nltk_data...\n",
            "[nltk_data]   Package stopwords is already up-to-date!\n",
            "[nltk_data] Downloading package wordnet to /root/nltk_data...\n",
            "[nltk_data]   Package wordnet is already up-to-date!\n",
            "[nltk_data] Downloading package omw-1.4 to /root/nltk_data...\n"
          ]
        },
        {
          "output_type": "stream",
          "name": "stdout",
          "text": [
            "                                          tweet_text  \\\n",
            "0  In other words #katandandre, your food was cra...   \n",
            "1  Why is #aussietv so white? #MKR #theblock #ImA...   \n",
            "2  @XochitlSuckkks a classy whore? Or more red ve...   \n",
            "3  @Jason_Gio meh. :P  thanks for the heads up, b...   \n",
            "4  @RudhoeEnglish This is an ISIS account pretend...   \n",
            "\n",
            "                                          final_text cyberbullying_type  \n",
            "0                          word katandandre food mkr  not_cyberbullying  \n",
            "1  white mkr theblock imacelebrityau today sunris...  not_cyberbullying  \n",
            "2                    classy whore red velvet cupcake  not_cyberbullying  \n",
            "3  jasongio meh p thanks head concerned another a...  not_cyberbullying  \n",
            "4  rudhoeenglish isi account pretending kurdish a...  not_cyberbullying  \n"
          ]
        }
      ]
    },
    {
      "cell_type": "code",
      "source": [
        "\"\"\"\n",
        "3. Feature Extraction & Selection\n",
        "Represent text as numerical features using:\n",
        "TF-IDF vectors (word-level, n-grams, or character-level)\n",
        "Word embeddings (Word2Vec, GloVe, FastText)\n",
        "Transformer-based embeddings (BERT, DistilBERT)\n",
        "Select relevant features (e.g., Chi-Square test, mutual information) to improve efficiency.\n",
        "\"\"\""
      ],
      "metadata": {
        "colab": {
          "base_uri": "https://localhost:8080/",
          "height": 53
        },
        "id": "meXKDeged9V3",
        "outputId": "a93ef7ec-190d-4eee-ea47-39a3c5053172"
      },
      "execution_count": 16,
      "outputs": [
        {
          "output_type": "execute_result",
          "data": {
            "text/plain": [
              "'\\n3. Feature Extraction & Selection\\nRepresent text as numerical features using:\\nTF-IDF vectors (word-level, n-grams, or character-level)\\nWord embeddings (Word2Vec, GloVe, FastText)\\nTransformer-based embeddings (BERT, DistilBERT)\\nSelect relevant features (e.g., Chi-Square test, mutual information) to improve efficiency.\\n'"
            ],
            "application/vnd.google.colaboratory.intrinsic+json": {
              "type": "string"
            }
          },
          "metadata": {},
          "execution_count": 16
        }
      ]
    },
    {
      "cell_type": "code",
      "source": [
        "# TF-IDF Vectorization\n",
        "from sklearn.feature_extraction.text import TfidfVectorizer\n",
        "\n",
        "# Word-level TF-IDF\n",
        "tfidf = TfidfVectorizer(max_features=5000, ngram_range=(1,2))  # unigrams + bigrams\n",
        "X_tfidf = tfidf.fit_transform(df['final_text'])\n",
        "y = df['cyberbullying_type']\n",
        "\n",
        "print(\"TF-IDF shape:\", X_tfidf.shape)"
      ],
      "metadata": {
        "colab": {
          "base_uri": "https://localhost:8080/"
        },
        "id": "9O2Alme9eBLa",
        "outputId": "67721961-729c-4946-8dc9-222c1ed72ed8"
      },
      "execution_count": 17,
      "outputs": [
        {
          "output_type": "stream",
          "name": "stdout",
          "text": [
            "TF-IDF shape: (47656, 5000)\n"
          ]
        }
      ]
    },
    {
      "cell_type": "code",
      "source": [
        "# Feature Selection\n",
        "# Chi-Square Test\n",
        "from sklearn.feature_selection import SelectKBest, chi2\n",
        "\n",
        "chi2_selector = SelectKBest(chi2, k=2000)  # keep top 2000 features\n",
        "X_chi2 = chi2_selector.fit_transform(X_tfidf, y)\n",
        "\n",
        "print(\"Chi-Square reduced shape:\", X_chi2.shape)"
      ],
      "metadata": {
        "colab": {
          "base_uri": "https://localhost:8080/"
        },
        "id": "9e6vXUGcewER",
        "outputId": "b07b436c-e1c3-42ed-a8ab-9297510e2b28"
      },
      "execution_count": 18,
      "outputs": [
        {
          "output_type": "stream",
          "name": "stdout",
          "text": [
            "Chi-Square reduced shape: (47656, 2000)\n"
          ]
        }
      ]
    },
    {
      "cell_type": "code",
      "source": [
        "\"\"\"\n",
        "4. Model Selection\n",
        "Research suitable algorithms for text classification:\n",
        "Logistic Regression\n",
        "Naive Bayes (MultinomialNB)\n",
        "Support Vector Machine (SVM)\n",
        "Random Forest / Gradient Boosting\n",
        "Deep learning models (LSTM, BiLSTM, Transformer-based models)\n",
        "\"\"\""
      ],
      "metadata": {
        "colab": {
          "base_uri": "https://localhost:8080/",
          "height": 53
        },
        "id": "gfsA7-Tcf5nw",
        "outputId": "4da1c5fa-fba2-4fd8-c001-c66ea8630962"
      },
      "execution_count": 19,
      "outputs": [
        {
          "output_type": "execute_result",
          "data": {
            "text/plain": [
              "'\\n4. Model Selection\\nResearch suitable algorithms for text classification:\\nLogistic Regression\\nNaive Bayes (MultinomialNB)\\nSupport Vector Machine (SVM)\\nRandom Forest / Gradient Boosting\\nDeep learning models (LSTM, BiLSTM, Transformer-based models)\\n'"
            ],
            "application/vnd.google.colaboratory.intrinsic+json": {
              "type": "string"
            }
          },
          "metadata": {},
          "execution_count": 19
        }
      ]
    },
    {
      "cell_type": "code",
      "source": [
        "# ===============================\n",
        "# IMPORTS\n",
        "# ===============================\n",
        "import pandas as pd\n",
        "from sklearn.model_selection import train_test_split\n",
        "from sklearn.preprocessing import LabelEncoder\n",
        "from sklearn.feature_extraction.text import TfidfVectorizer\n",
        "\n",
        "# ===============================\n",
        "# LOAD DATA\n",
        "# ===============================\n",
        "df = pd.read_csv(\"https://raw.githubusercontent.com/ramizcihe/week4-cihe240058/refs/heads/main/cyberbullying_tweets.csv\")  # Replace with your CSV path\n",
        "\n",
        "# ===============================\n",
        "# QUICK CHECK\n",
        "# ===============================\n",
        "print(\"Columns:\", df.columns)\n",
        "print(\"First 5 rows:\\n\", df.head())\n",
        "print(\"Label distribution:\\n\", df['cyberbullying_type'].value_counts())\n",
        "\n",
        "# ===============================\n",
        "# BASIC CLEANING\n",
        "# ===============================\n",
        "# Remove duplicates\n",
        "df = df.drop_duplicates()\n",
        "\n",
        "# Remove rows with empty tweets\n",
        "df = df[df['tweet_text'].str.strip() != \"\"]\n",
        "\n",
        "# ===============================\n",
        "# FEATURE & LABEL\n",
        "# ===============================\n",
        "X = df['tweet_text']                  # Features\n",
        "y = df['cyberbullying_type']          # Target labels\n",
        "\n",
        "# ===============================\n",
        "# LABEL ENCODING\n",
        "# ===============================\n",
        "label_encoder = LabelEncoder()\n",
        "y_encoded = label_encoder.fit_transform(y)\n",
        "print(\"Classes:\", label_encoder.classes_)\n",
        "\n",
        "# ===============================\n",
        "# TRAIN-TEST SPLIT\n",
        "# ===============================\n",
        "X_train, X_test, y_train, y_test = train_test_split(\n",
        "    X, y_encoded, test_size=0.2, random_state=42, stratify=y_encoded\n",
        ")\n",
        "\n",
        "# ===============================\n",
        "# TEXT VECTORIZATION\n",
        "# ===============================\n",
        "tfidf = TfidfVectorizer(\n",
        "    max_features=5000,      # limit to top 5000 words\n",
        "    stop_words='english'\n",
        ")\n",
        "X_train_tfidf = tfidf.fit_transform(X_train)\n",
        "X_test_tfidf = tfidf.transform(X_test)\n",
        "\n",
        "# ===============================\n",
        "# READY FOR MODELING\n",
        "# ===============================\n",
        "print(\"Shape of X_train:\", X_train_tfidf.shape)\n",
        "print(\"Shape of X_test:\", X_test_tfidf.shape)\n",
        "print(\"Shape of y_train:\", y_train.shape)\n",
        "print(\"Shape of y_test:\", y_test.shape)\n"
      ],
      "metadata": {
        "colab": {
          "base_uri": "https://localhost:8080/"
        },
        "id": "KPx_b2Ldf0ju",
        "outputId": "a4e392a1-3551-4c5a-be2d-86f5bac54e5b"
      },
      "execution_count": 20,
      "outputs": [
        {
          "output_type": "stream",
          "name": "stdout",
          "text": [
            "Columns: Index(['tweet_text', 'cyberbullying_type'], dtype='object')\n",
            "First 5 rows:\n",
            "                                           tweet_text cyberbullying_type\n",
            "0  In other words #katandandre, your food was cra...  not_cyberbullying\n",
            "1  Why is #aussietv so white? #MKR #theblock #ImA...  not_cyberbullying\n",
            "2  @XochitlSuckkks a classy whore? Or more red ve...  not_cyberbullying\n",
            "3  @Jason_Gio meh. :P  thanks for the heads up, b...  not_cyberbullying\n",
            "4  @RudhoeEnglish This is an ISIS account pretend...  not_cyberbullying\n",
            "Label distribution:\n",
            " cyberbullying_type\n",
            "religion               7998\n",
            "age                    7992\n",
            "gender                 7973\n",
            "ethnicity              7961\n",
            "not_cyberbullying      7945\n",
            "other_cyberbullying    7823\n",
            "Name: count, dtype: int64\n",
            "Classes: ['age' 'ethnicity' 'gender' 'not_cyberbullying' 'other_cyberbullying'\n",
            " 'religion']\n",
            "Shape of X_train: (38124, 5000)\n",
            "Shape of X_test: (9532, 5000)\n",
            "Shape of y_train: (38124,)\n",
            "Shape of y_test: (9532,)\n"
          ]
        }
      ]
    },
    {
      "cell_type": "code",
      "source": [
        "# ===============================\n",
        "# IMPORTS\n",
        "# ===============================\n",
        "import pandas as pd\n",
        "import numpy as np\n",
        "from sklearn.preprocessing import LabelEncoder\n",
        "from sklearn.model_selection import train_test_split\n",
        "from tensorflow.keras.preprocessing.text import Tokenizer\n",
        "from tensorflow.keras.preprocessing.sequence import pad_sequences\n",
        "from tensorflow.keras.models import Sequential\n",
        "from tensorflow.keras.layers import Embedding, LSTM, Dense, Bidirectional\n",
        "from tensorflow.keras.utils import to_categorical\n",
        "\n",
        "# ===============================\n",
        "# LOAD DATA\n",
        "# ===============================\n",
        "df = pd.read_csv(\"https://raw.githubusercontent.com/ramizcihe/week4-cihe240058/refs/heads/main/cyberbullying_tweets.csv\")  # Replace with your CSV path\n",
        "\n",
        "# ===============================\n",
        "# BASIC CLEANING\n",
        "# ===============================\n",
        "df = df.drop_duplicates()\n",
        "df = df[df['tweet_text'].str.strip() != \"\"]\n",
        "\n",
        "# ===============================\n",
        "# LABEL ENCODING\n",
        "# ===============================\n",
        "label_encoder = LabelEncoder()\n",
        "y = label_encoder.fit_transform(df['cyberbullying_type'])\n",
        "num_classes = len(label_encoder.classes_)\n",
        "y_categorical = to_categorical(y)  # For multi-class classification\n",
        "\n",
        "# ===============================\n",
        "# TRAIN-TEST SPLIT\n",
        "# ===============================\n",
        "X_train, X_test, y_train, y_test = train_test_split(\n",
        "    df['tweet_text'], y_categorical,\n",
        "    test_size=0.2,\n",
        "    random_state=42,\n",
        "    stratify=y\n",
        ")\n",
        "\n",
        "# ===============================\n",
        "# TOKENIZATION & PADDING\n",
        "# ===============================\n",
        "max_words = 10000     # Max number of words to keep in tokenizer\n",
        "max_len = 100         # Max length of sequences (padded)\n",
        "\n",
        "tokenizer = Tokenizer(num_words=max_words, oov_token=\"<OOV>\")\n",
        "tokenizer.fit_on_texts(X_train)\n",
        "\n",
        "X_train_seq = tokenizer.texts_to_sequences(X_train)\n",
        "X_test_seq = tokenizer.texts_to_sequences(X_test)\n",
        "\n",
        "X_train_pad = pad_sequences(X_train_seq, maxlen=max_len, padding='post', truncating='post')\n",
        "X_test_pad = pad_sequences(X_test_seq, maxlen=max_len, padding='post', truncating='post')\n",
        "\n",
        "# ===============================\n",
        "# LSTM / BiLSTM MODEL\n",
        "# ===============================\n",
        "model = Sequential()\n",
        "model.add(Embedding(input_dim=max_words, output_dim=128, input_length=max_len))\n",
        "model.add(Bidirectional(LSTM(64, return_sequences=False)))\n",
        "model.add(Dense(num_classes, activation='softmax'))\n",
        "\n",
        "model.compile(loss='categorical_crossentropy', optimizer='adam', metrics=['accuracy'])\n",
        "model.summary()\n",
        "\n",
        "# ===============================\n",
        "# TRAINING\n",
        "# ===============================\n",
        "history = model.fit(\n",
        "    X_train_pad, y_train,\n",
        "    epochs=5,\n",
        "    batch_size=64,\n",
        "    validation_split=0.1\n",
        ")\n",
        "\n",
        "# ===============================\n",
        "# EVALUATION\n",
        "# ===============================\n",
        "loss, accuracy = model.evaluate(X_test_pad, y_test)\n",
        "print(f\"Test Accuracy: {accuracy*100:.2f}%\")"
      ],
      "metadata": {
        "colab": {
          "base_uri": "https://localhost:8080/",
          "height": 468
        },
        "id": "lcmXb9nIg3yG",
        "outputId": "2b23e0df-9cd4-4f42-fe91-43b6497d0b41"
      },
      "execution_count": 21,
      "outputs": [
        {
          "output_type": "stream",
          "name": "stderr",
          "text": [
            "/usr/local/lib/python3.11/dist-packages/keras/src/layers/core/embedding.py:97: UserWarning: Argument `input_length` is deprecated. Just remove it.\n",
            "  warnings.warn(\n"
          ]
        },
        {
          "output_type": "display_data",
          "data": {
            "text/plain": [
              "\u001b[1mModel: \"sequential\"\u001b[0m\n"
            ],
            "text/html": [
              "<pre style=\"white-space:pre;overflow-x:auto;line-height:normal;font-family:Menlo,'DejaVu Sans Mono',consolas,'Courier New',monospace\"><span style=\"font-weight: bold\">Model: \"sequential\"</span>\n",
              "</pre>\n"
            ]
          },
          "metadata": {}
        },
        {
          "output_type": "display_data",
          "data": {
            "text/plain": [
              "┏━━━━━━━━━━━━━━━━━━━━━━━━━━━━━━━━━┳━━━━━━━━━━━━━━━━━━━━━━━━┳━━━━━━━━━━━━━━━┓\n",
              "┃\u001b[1m \u001b[0m\u001b[1mLayer (type)                   \u001b[0m\u001b[1m \u001b[0m┃\u001b[1m \u001b[0m\u001b[1mOutput Shape          \u001b[0m\u001b[1m \u001b[0m┃\u001b[1m \u001b[0m\u001b[1m      Param #\u001b[0m\u001b[1m \u001b[0m┃\n",
              "┡━━━━━━━━━━━━━━━━━━━━━━━━━━━━━━━━━╇━━━━━━━━━━━━━━━━━━━━━━━━╇━━━━━━━━━━━━━━━┩\n",
              "│ embedding (\u001b[38;5;33mEmbedding\u001b[0m)           │ ?                      │   \u001b[38;5;34m0\u001b[0m (unbuilt) │\n",
              "├─────────────────────────────────┼────────────────────────┼───────────────┤\n",
              "│ bidirectional (\u001b[38;5;33mBidirectional\u001b[0m)   │ ?                      │   \u001b[38;5;34m0\u001b[0m (unbuilt) │\n",
              "├─────────────────────────────────┼────────────────────────┼───────────────┤\n",
              "│ dense (\u001b[38;5;33mDense\u001b[0m)                   │ ?                      │   \u001b[38;5;34m0\u001b[0m (unbuilt) │\n",
              "└─────────────────────────────────┴────────────────────────┴───────────────┘\n"
            ],
            "text/html": [
              "<pre style=\"white-space:pre;overflow-x:auto;line-height:normal;font-family:Menlo,'DejaVu Sans Mono',consolas,'Courier New',monospace\">┏━━━━━━━━━━━━━━━━━━━━━━━━━━━━━━━━━┳━━━━━━━━━━━━━━━━━━━━━━━━┳━━━━━━━━━━━━━━━┓\n",
              "┃<span style=\"font-weight: bold\"> Layer (type)                    </span>┃<span style=\"font-weight: bold\"> Output Shape           </span>┃<span style=\"font-weight: bold\">       Param # </span>┃\n",
              "┡━━━━━━━━━━━━━━━━━━━━━━━━━━━━━━━━━╇━━━━━━━━━━━━━━━━━━━━━━━━╇━━━━━━━━━━━━━━━┩\n",
              "│ embedding (<span style=\"color: #0087ff; text-decoration-color: #0087ff\">Embedding</span>)           │ ?                      │   <span style=\"color: #00af00; text-decoration-color: #00af00\">0</span> (unbuilt) │\n",
              "├─────────────────────────────────┼────────────────────────┼───────────────┤\n",
              "│ bidirectional (<span style=\"color: #0087ff; text-decoration-color: #0087ff\">Bidirectional</span>)   │ ?                      │   <span style=\"color: #00af00; text-decoration-color: #00af00\">0</span> (unbuilt) │\n",
              "├─────────────────────────────────┼────────────────────────┼───────────────┤\n",
              "│ dense (<span style=\"color: #0087ff; text-decoration-color: #0087ff\">Dense</span>)                   │ ?                      │   <span style=\"color: #00af00; text-decoration-color: #00af00\">0</span> (unbuilt) │\n",
              "└─────────────────────────────────┴────────────────────────┴───────────────┘\n",
              "</pre>\n"
            ]
          },
          "metadata": {}
        },
        {
          "output_type": "display_data",
          "data": {
            "text/plain": [
              "\u001b[1m Total params: \u001b[0m\u001b[38;5;34m0\u001b[0m (0.00 B)\n"
            ],
            "text/html": [
              "<pre style=\"white-space:pre;overflow-x:auto;line-height:normal;font-family:Menlo,'DejaVu Sans Mono',consolas,'Courier New',monospace\"><span style=\"font-weight: bold\"> Total params: </span><span style=\"color: #00af00; text-decoration-color: #00af00\">0</span> (0.00 B)\n",
              "</pre>\n"
            ]
          },
          "metadata": {}
        },
        {
          "output_type": "display_data",
          "data": {
            "text/plain": [
              "\u001b[1m Trainable params: \u001b[0m\u001b[38;5;34m0\u001b[0m (0.00 B)\n"
            ],
            "text/html": [
              "<pre style=\"white-space:pre;overflow-x:auto;line-height:normal;font-family:Menlo,'DejaVu Sans Mono',consolas,'Courier New',monospace\"><span style=\"font-weight: bold\"> Trainable params: </span><span style=\"color: #00af00; text-decoration-color: #00af00\">0</span> (0.00 B)\n",
              "</pre>\n"
            ]
          },
          "metadata": {}
        },
        {
          "output_type": "display_data",
          "data": {
            "text/plain": [
              "\u001b[1m Non-trainable params: \u001b[0m\u001b[38;5;34m0\u001b[0m (0.00 B)\n"
            ],
            "text/html": [
              "<pre style=\"white-space:pre;overflow-x:auto;line-height:normal;font-family:Menlo,'DejaVu Sans Mono',consolas,'Courier New',monospace\"><span style=\"font-weight: bold\"> Non-trainable params: </span><span style=\"color: #00af00; text-decoration-color: #00af00\">0</span> (0.00 B)\n",
              "</pre>\n"
            ]
          },
          "metadata": {}
        },
        {
          "output_type": "stream",
          "name": "stdout",
          "text": [
            "Epoch 1/5\n",
            "\u001b[1m537/537\u001b[0m \u001b[32m━━━━━━━━━━━━━━━━━━━━\u001b[0m\u001b[37m\u001b[0m \u001b[1m132s\u001b[0m 237ms/step - accuracy: 0.6045 - loss: 0.9687 - val_accuracy: 0.8230 - val_loss: 0.4323\n",
            "Epoch 2/5\n",
            "\u001b[1m537/537\u001b[0m \u001b[32m━━━━━━━━━━━━━━━━━━━━\u001b[0m\u001b[37m\u001b[0m \u001b[1m140s\u001b[0m 233ms/step - accuracy: 0.8517 - loss: 0.3651 - val_accuracy: 0.8316 - val_loss: 0.4044\n",
            "Epoch 3/5\n",
            "\u001b[1m537/537\u001b[0m \u001b[32m━━━━━━━━━━━━━━━━━━━━\u001b[0m\u001b[37m\u001b[0m \u001b[1m144s\u001b[0m 238ms/step - accuracy: 0.8950 - loss: 0.2696 - val_accuracy: 0.8366 - val_loss: 0.4226\n",
            "Epoch 4/5\n",
            "\u001b[1m537/537\u001b[0m \u001b[32m━━━━━━━━━━━━━━━━━━━━\u001b[0m\u001b[37m\u001b[0m \u001b[1m139s\u001b[0m 233ms/step - accuracy: 0.9123 - loss: 0.2248 - val_accuracy: 0.8274 - val_loss: 0.4596\n",
            "Epoch 5/5\n",
            "\u001b[1m537/537\u001b[0m \u001b[32m━━━━━━━━━━━━━━━━━━━━\u001b[0m\u001b[37m\u001b[0m \u001b[1m166s\u001b[0m 277ms/step - accuracy: 0.9235 - loss: 0.1896 - val_accuracy: 0.8198 - val_loss: 0.4853\n",
            "\u001b[1m298/298\u001b[0m \u001b[32m━━━━━━━━━━━━━━━━━━━━\u001b[0m\u001b[37m\u001b[0m \u001b[1m9s\u001b[0m 28ms/step - accuracy: 0.8289 - loss: 0.4622\n",
            "Test Accuracy: 82.68%\n"
          ]
        }
      ]
    },
    {
      "cell_type": "code",
      "source": [
        "print(df.columns)"
      ],
      "metadata": {
        "colab": {
          "base_uri": "https://localhost:8080/"
        },
        "id": "GqYWtAUSlcIy",
        "outputId": "941cb1c1-eaca-4bea-9928-87873580bb04"
      },
      "execution_count": 22,
      "outputs": [
        {
          "output_type": "stream",
          "name": "stdout",
          "text": [
            "Index(['tweet_text', 'cyberbullying_type'], dtype='object')\n"
          ]
        }
      ]
    },
    {
      "cell_type": "code",
      "source": [
        "\"\"\"\n",
        "5. Dataset Splitting\n",
        "Split into training (70%), validation (15%), and test (15%) sets.\n",
        "Use stratified splitting to maintain class proportion.\n",
        "\"\"\""
      ],
      "metadata": {
        "colab": {
          "base_uri": "https://localhost:8080/",
          "height": 36
        },
        "id": "e-yrspp0gdMc",
        "outputId": "403bbf50-9da3-452d-dbb5-847897e3059a"
      },
      "execution_count": null,
      "outputs": [
        {
          "output_type": "execute_result",
          "data": {
            "text/plain": [
              "'\\n5. Dataset Splitting\\nSplit into training (70%), validation (15%), and test (15%) sets.\\nUse stratified splitting to maintain class proportion.\\n'"
            ],
            "application/vnd.google.colaboratory.intrinsic+json": {
              "type": "string"
            }
          },
          "metadata": {},
          "execution_count": 48
        }
      ]
    },
    {
      "cell_type": "code",
      "source": [
        "import pandas as pd\n",
        "from sklearn.model_selection import train_test_split\n",
        "\n",
        "# Load your dataset\n",
        "df = pd.read_csv(\"https://raw.githubusercontent.com/ramizcihe/week4-cihe240058/refs/heads/main/cyberbullying_tweets.csv\")  # replace with your file path\n",
        "\n",
        "# Features and target\n",
        "X = df['tweet_text']\n",
        "y = df['cyberbullying_type']\n",
        "\n",
        "# Step 1: Split into training (70%) and temp (30%)\n",
        "X_train, X_temp, y_train, y_temp = train_test_split(\n",
        "    X, y, test_size=0.3, stratify=y, random_state=42\n",
        ")\n",
        "\n",
        "# Step 2: Split temp into validation (15%) and test (15%)\n",
        "X_val, X_test, y_val, y_test = train_test_split(\n",
        "    X_temp, y_temp, test_size=0.5, stratify=y_temp, random_state=42\n",
        ")\n",
        "\n",
        "# Optional: check shapes\n",
        "print(\"Training set:\", X_train.shape)\n",
        "print(\"Validation set:\", X_val.shape)\n",
        "print(\"Test set:\", X_test.shape)\n",
        "\n",
        "# Optional: check class distributions\n",
        "print(\"Training set class distribution:\\n\", y_train.value_counts(normalize=True))\n",
        "print(\"Validation set class distribution:\\n\", y_val.value_counts(normalize=True))\n",
        "print(\"Test set class distribution:\\n\", y_test.value_counts(normalize=True))\n"
      ],
      "metadata": {
        "colab": {
          "base_uri": "https://localhost:8080/"
        },
        "id": "N4dLhY78XGb5",
        "outputId": "baf90746-bb31-44ae-a7e2-53d968e59765"
      },
      "execution_count": null,
      "outputs": [
        {
          "output_type": "stream",
          "name": "stdout",
          "text": [
            "Training set: (33384,)\n",
            "Validation set: (7154,)\n",
            "Test set: (7154,)\n",
            "Training set class distribution:\n",
            " cyberbullying_type\n",
            "religion               0.167715\n",
            "age                    0.167565\n",
            "gender                 0.167176\n",
            "ethnicity              0.166936\n",
            "not_cyberbullying      0.166577\n",
            "other_cyberbullying    0.164031\n",
            "Name: proportion, dtype: float64\n",
            "Validation set class distribution:\n",
            " cyberbullying_type\n",
            "religion               0.167738\n",
            "age                    0.167599\n",
            "gender                 0.167179\n",
            "ethnicity              0.166900\n",
            "not_cyberbullying      0.166620\n",
            "other_cyberbullying    0.163964\n",
            "Name: proportion, dtype: float64\n",
            "Test set class distribution:\n",
            " cyberbullying_type\n",
            "religion               0.167599\n",
            "age                    0.167599\n",
            "gender                 0.167179\n",
            "ethnicity              0.166900\n",
            "not_cyberbullying      0.166620\n",
            "other_cyberbullying    0.164104\n",
            "Name: proportion, dtype: float64\n"
          ]
        }
      ]
    },
    {
      "cell_type": "code",
      "source": [
        "\"\"\"\n",
        "6. Baseline Models\n",
        "Implement at least 3–4 baseline models for comparison, such as:\n",
        "Logistic Regression (TF-IDF features)\n",
        "Naive Bayes (TF-IDF features)\n",
        "SVM (TF-IDF features)\n",
        "LSTM or BERT (embedding-based)\n",
        "\"\"\""
      ],
      "metadata": {
        "colab": {
          "base_uri": "https://localhost:8080/",
          "height": 53
        },
        "id": "t6-50V6ukZFz",
        "outputId": "78565867-d84e-4022-cb3a-3d44df18385a"
      },
      "execution_count": null,
      "outputs": [
        {
          "output_type": "execute_result",
          "data": {
            "text/plain": [
              "'\\n6. Baseline Models\\nImplement at least 3–4 baseline models for comparison, such as:\\nLogistic Regression (TF-IDF features)\\nNaive Bayes (TF-IDF features)\\nSVM (TF-IDF features)\\nLSTM or BERT (embedding-based)\\n'"
            ],
            "application/vnd.google.colaboratory.intrinsic+json": {
              "type": "string"
            }
          },
          "metadata": {},
          "execution_count": 17
        }
      ]
    },
    {
      "cell_type": "code",
      "source": [
        "# TF-IDF + Classical Models\n",
        "from sklearn.feature_extraction.text import TfidfVectorizer\n",
        "from sklearn.linear_model import LogisticRegression\n",
        "from sklearn.naive_bayes import MultinomialNB\n",
        "from sklearn.svm import SVC\n",
        "from sklearn.metrics import classification_report\n",
        "\n",
        "# TF-IDF vectorization\n",
        "tfidf = TfidfVectorizer(max_features=5000)\n",
        "X_train_tfidf = tfidf.fit_transform(X_train)\n",
        "X_val_tfidf = tfidf.transform(X_val)\n",
        "X_test_tfidf = tfidf.transform(X_test)\n",
        "\n",
        "# --- Logistic Regression ---\n",
        "lr = LogisticRegression(max_iter=1000)\n",
        "lr.fit(X_train_tfidf, y_train)\n",
        "y_pred_lr = lr.predict(X_test_tfidf)\n",
        "print(\"Logistic Regression:\\n\", classification_report(y_test, y_pred_lr))\n",
        "\n",
        "# --- Naive Bayes ---\n",
        "nb = MultinomialNB()\n",
        "nb.fit(X_train_tfidf, y_train)\n",
        "y_pred_nb = nb.predict(X_test_tfidf)\n",
        "print(\"Naive Bayes:\\n\", classification_report(y_test, y_pred_nb))\n",
        "\n",
        "# --- SVM ---\n",
        "svm = SVC(kernel='linear')\n",
        "svm.fit(X_train_tfidf, y_train)\n",
        "y_pred_svm = svm.predict(X_test_tfidf)\n",
        "print(\"SVM:\\n\", classification_report(y_test, y_pred_svm))"
      ],
      "metadata": {
        "colab": {
          "base_uri": "https://localhost:8080/"
        },
        "id": "9O8FALB4XWrP",
        "outputId": "da55f98a-7d16-4ce3-efd7-f2b428c9dc27"
      },
      "execution_count": null,
      "outputs": [
        {
          "output_type": "stream",
          "name": "stdout",
          "text": [
            "Logistic Regression:\n",
            "                      precision    recall  f1-score   support\n",
            "\n",
            "                age       0.95      0.98      0.97      1199\n",
            "          ethnicity       0.98      0.97      0.98      1194\n",
            "             gender       0.90      0.84      0.87      1196\n",
            "  not_cyberbullying       0.62      0.56      0.59      1192\n",
            "other_cyberbullying       0.61      0.70      0.66      1174\n",
            "           religion       0.96      0.95      0.95      1199\n",
            "\n",
            "           accuracy                           0.83      7154\n",
            "          macro avg       0.84      0.83      0.83      7154\n",
            "       weighted avg       0.84      0.83      0.83      7154\n",
            "\n",
            "Naive Bayes:\n",
            "                      precision    recall  f1-score   support\n",
            "\n",
            "                age       0.77      0.98      0.86      1199\n",
            "          ethnicity       0.88      0.92      0.90      1194\n",
            "             gender       0.86      0.83      0.84      1196\n",
            "  not_cyberbullying       0.68      0.41      0.51      1192\n",
            "other_cyberbullying       0.61      0.58      0.59      1174\n",
            "           religion       0.81      0.95      0.88      1199\n",
            "\n",
            "           accuracy                           0.78      7154\n",
            "          macro avg       0.77      0.78      0.76      7154\n",
            "       weighted avg       0.77      0.78      0.77      7154\n",
            "\n",
            "SVM:\n",
            "                      precision    recall  f1-score   support\n",
            "\n",
            "                age       0.96      0.98      0.97      1199\n",
            "          ethnicity       0.98      0.98      0.98      1194\n",
            "             gender       0.91      0.86      0.88      1196\n",
            "  not_cyberbullying       0.63      0.55      0.59      1192\n",
            "other_cyberbullying       0.62      0.74      0.67      1174\n",
            "           religion       0.97      0.95      0.96      1199\n",
            "\n",
            "           accuracy                           0.84      7154\n",
            "          macro avg       0.85      0.84      0.84      7154\n",
            "       weighted avg       0.85      0.84      0.84      7154\n",
            "\n"
          ]
        }
      ]
    },
    {
      "cell_type": "code",
      "source": [
        "# Deep Learning: LSTM with Embeddings\n",
        "import tensorflow as tf\n",
        "from tensorflow.keras.preprocessing.text import Tokenizer\n",
        "from tensorflow.keras.preprocessing.sequence import pad_sequences\n",
        "from tensorflow.keras.models import Sequential\n",
        "from tensorflow.keras.layers import Embedding, LSTM, Dense, Dropout\n",
        "\n",
        "# Tokenize text\n",
        "tokenizer = Tokenizer(num_words=10000, oov_token=\"<OOV>\")\n",
        "tokenizer.fit_on_texts(X_train)\n",
        "\n",
        "X_train_seq = tokenizer.texts_to_sequences(X_train)\n",
        "X_val_seq = tokenizer.texts_to_sequences(X_val)\n",
        "X_test_seq = tokenizer.texts_to_sequences(X_test)\n",
        "\n",
        "max_len = 100  # max tweet length\n",
        "X_train_pad = pad_sequences(X_train_seq, maxlen=max_len, padding='post')\n",
        "X_val_pad = pad_sequences(X_val_seq, maxlen=max_len, padding='post')\n",
        "X_test_pad = pad_sequences(X_test_seq, maxlen=max_len, padding='post')\n",
        "\n",
        "# LSTM model\n",
        "model = Sequential([\n",
        "    Embedding(input_dim=10000, output_dim=128, input_length=max_len),\n",
        "    LSTM(128, dropout=0.2, recurrent_dropout=0.2),\n",
        "    Dense(len(y.unique()), activation='softmax')  # multi-class\n",
        "])\n",
        "\n",
        "model.compile(loss='sparse_categorical_crossentropy', optimizer='adam', metrics=['accuracy'])\n",
        "model.summary()\n",
        "\n",
        "# Encode labels as integers\n",
        "from sklearn.preprocessing import LabelEncoder\n",
        "le = LabelEncoder()\n",
        "y_train_enc = le.fit_transform(y_train)\n",
        "y_val_enc = le.transform(y_val)\n",
        "y_test_enc = le.transform(y_test)\n",
        "\n",
        "# Train LSTM\n",
        "history = model.fit(\n",
        "    X_train_pad, y_train_enc,\n",
        "    validation_data=(X_val_pad, y_val_enc),\n",
        "    epochs=5, batch_size=32\n",
        ")\n",
        "\n",
        "# Evaluate\n",
        "test_loss, test_acc = model.evaluate(X_test_pad, y_test_enc)\n",
        "print(\"LSTM Test Accuracy:\", test_acc)"
      ],
      "metadata": {
        "colab": {
          "base_uri": "https://localhost:8080/",
          "height": 468
        },
        "id": "kU2E6SoyYRP3",
        "outputId": "2c423e8b-1c3b-4940-f303-15cc5d956871"
      },
      "execution_count": null,
      "outputs": [
        {
          "output_type": "stream",
          "name": "stderr",
          "text": [
            "/usr/local/lib/python3.11/dist-packages/keras/src/layers/core/embedding.py:97: UserWarning: Argument `input_length` is deprecated. Just remove it.\n",
            "  warnings.warn(\n"
          ]
        },
        {
          "output_type": "display_data",
          "data": {
            "text/plain": [
              "\u001b[1mModel: \"sequential\"\u001b[0m\n"
            ],
            "text/html": [
              "<pre style=\"white-space:pre;overflow-x:auto;line-height:normal;font-family:Menlo,'DejaVu Sans Mono',consolas,'Courier New',monospace\"><span style=\"font-weight: bold\">Model: \"sequential\"</span>\n",
              "</pre>\n"
            ]
          },
          "metadata": {}
        },
        {
          "output_type": "display_data",
          "data": {
            "text/plain": [
              "┏━━━━━━━━━━━━━━━━━━━━━━━━━━━━━━━━━┳━━━━━━━━━━━━━━━━━━━━━━━━┳━━━━━━━━━━━━━━━┓\n",
              "┃\u001b[1m \u001b[0m\u001b[1mLayer (type)                   \u001b[0m\u001b[1m \u001b[0m┃\u001b[1m \u001b[0m\u001b[1mOutput Shape          \u001b[0m\u001b[1m \u001b[0m┃\u001b[1m \u001b[0m\u001b[1m      Param #\u001b[0m\u001b[1m \u001b[0m┃\n",
              "┡━━━━━━━━━━━━━━━━━━━━━━━━━━━━━━━━━╇━━━━━━━━━━━━━━━━━━━━━━━━╇━━━━━━━━━━━━━━━┩\n",
              "│ embedding (\u001b[38;5;33mEmbedding\u001b[0m)           │ ?                      │   \u001b[38;5;34m0\u001b[0m (unbuilt) │\n",
              "├─────────────────────────────────┼────────────────────────┼───────────────┤\n",
              "│ lstm (\u001b[38;5;33mLSTM\u001b[0m)                     │ ?                      │   \u001b[38;5;34m0\u001b[0m (unbuilt) │\n",
              "├─────────────────────────────────┼────────────────────────┼───────────────┤\n",
              "│ dense (\u001b[38;5;33mDense\u001b[0m)                   │ ?                      │   \u001b[38;5;34m0\u001b[0m (unbuilt) │\n",
              "└─────────────────────────────────┴────────────────────────┴───────────────┘\n"
            ],
            "text/html": [
              "<pre style=\"white-space:pre;overflow-x:auto;line-height:normal;font-family:Menlo,'DejaVu Sans Mono',consolas,'Courier New',monospace\">┏━━━━━━━━━━━━━━━━━━━━━━━━━━━━━━━━━┳━━━━━━━━━━━━━━━━━━━━━━━━┳━━━━━━━━━━━━━━━┓\n",
              "┃<span style=\"font-weight: bold\"> Layer (type)                    </span>┃<span style=\"font-weight: bold\"> Output Shape           </span>┃<span style=\"font-weight: bold\">       Param # </span>┃\n",
              "┡━━━━━━━━━━━━━━━━━━━━━━━━━━━━━━━━━╇━━━━━━━━━━━━━━━━━━━━━━━━╇━━━━━━━━━━━━━━━┩\n",
              "│ embedding (<span style=\"color: #0087ff; text-decoration-color: #0087ff\">Embedding</span>)           │ ?                      │   <span style=\"color: #00af00; text-decoration-color: #00af00\">0</span> (unbuilt) │\n",
              "├─────────────────────────────────┼────────────────────────┼───────────────┤\n",
              "│ lstm (<span style=\"color: #0087ff; text-decoration-color: #0087ff\">LSTM</span>)                     │ ?                      │   <span style=\"color: #00af00; text-decoration-color: #00af00\">0</span> (unbuilt) │\n",
              "├─────────────────────────────────┼────────────────────────┼───────────────┤\n",
              "│ dense (<span style=\"color: #0087ff; text-decoration-color: #0087ff\">Dense</span>)                   │ ?                      │   <span style=\"color: #00af00; text-decoration-color: #00af00\">0</span> (unbuilt) │\n",
              "└─────────────────────────────────┴────────────────────────┴───────────────┘\n",
              "</pre>\n"
            ]
          },
          "metadata": {}
        },
        {
          "output_type": "display_data",
          "data": {
            "text/plain": [
              "\u001b[1m Total params: \u001b[0m\u001b[38;5;34m0\u001b[0m (0.00 B)\n"
            ],
            "text/html": [
              "<pre style=\"white-space:pre;overflow-x:auto;line-height:normal;font-family:Menlo,'DejaVu Sans Mono',consolas,'Courier New',monospace\"><span style=\"font-weight: bold\"> Total params: </span><span style=\"color: #00af00; text-decoration-color: #00af00\">0</span> (0.00 B)\n",
              "</pre>\n"
            ]
          },
          "metadata": {}
        },
        {
          "output_type": "display_data",
          "data": {
            "text/plain": [
              "\u001b[1m Trainable params: \u001b[0m\u001b[38;5;34m0\u001b[0m (0.00 B)\n"
            ],
            "text/html": [
              "<pre style=\"white-space:pre;overflow-x:auto;line-height:normal;font-family:Menlo,'DejaVu Sans Mono',consolas,'Courier New',monospace\"><span style=\"font-weight: bold\"> Trainable params: </span><span style=\"color: #00af00; text-decoration-color: #00af00\">0</span> (0.00 B)\n",
              "</pre>\n"
            ]
          },
          "metadata": {}
        },
        {
          "output_type": "display_data",
          "data": {
            "text/plain": [
              "\u001b[1m Non-trainable params: \u001b[0m\u001b[38;5;34m0\u001b[0m (0.00 B)\n"
            ],
            "text/html": [
              "<pre style=\"white-space:pre;overflow-x:auto;line-height:normal;font-family:Menlo,'DejaVu Sans Mono',consolas,'Courier New',monospace\"><span style=\"font-weight: bold\"> Non-trainable params: </span><span style=\"color: #00af00; text-decoration-color: #00af00\">0</span> (0.00 B)\n",
              "</pre>\n"
            ]
          },
          "metadata": {}
        },
        {
          "output_type": "stream",
          "name": "stdout",
          "text": [
            "Epoch 1/5\n",
            "\u001b[1m1044/1044\u001b[0m \u001b[32m━━━━━━━━━━━━━━━━━━━━\u001b[0m\u001b[37m\u001b[0m \u001b[1m254s\u001b[0m 239ms/step - accuracy: 0.1696 - loss: 1.7937 - val_accuracy: 0.1640 - val_loss: 1.7922\n",
            "Epoch 2/5\n",
            "\u001b[1m1044/1044\u001b[0m \u001b[32m━━━━━━━━━━━━━━━━━━━━\u001b[0m\u001b[37m\u001b[0m \u001b[1m248s\u001b[0m 238ms/step - accuracy: 0.1631 - loss: 1.7925 - val_accuracy: 0.1666 - val_loss: 1.7924\n",
            "Epoch 3/5\n",
            "\u001b[1m1044/1044\u001b[0m \u001b[32m━━━━━━━━━━━━━━━━━━━━\u001b[0m\u001b[37m\u001b[0m \u001b[1m309s\u001b[0m 283ms/step - accuracy: 0.1671 - loss: 1.7923 - val_accuracy: 0.1666 - val_loss: 1.7919\n",
            "Epoch 4/5\n",
            "\u001b[1m1044/1044\u001b[0m \u001b[32m━━━━━━━━━━━━━━━━━━━━\u001b[0m\u001b[37m\u001b[0m \u001b[1m246s\u001b[0m 236ms/step - accuracy: 0.1678 - loss: 1.7922 - val_accuracy: 0.1677 - val_loss: 1.7920\n",
            "Epoch 5/5\n",
            "\u001b[1m1044/1044\u001b[0m \u001b[32m━━━━━━━━━━━━━━━━━━━━\u001b[0m\u001b[37m\u001b[0m \u001b[1m247s\u001b[0m 237ms/step - accuracy: 0.1710 - loss: 1.7921 - val_accuracy: 0.1676 - val_loss: 1.7918\n",
            "\u001b[1m224/224\u001b[0m \u001b[32m━━━━━━━━━━━━━━━━━━━━\u001b[0m\u001b[37m\u001b[0m \u001b[1m8s\u001b[0m 34ms/step - accuracy: 0.1714 - loss: 1.7917\n",
            "LSTM Test Accuracy: 0.16759854555130005\n"
          ]
        }
      ]
    },
    {
      "cell_type": "code",
      "source": [
        "\"\"\"\n",
        "7. Evaluation Metrics\n",
        "Precision, Recall, and F1-score (important to catch cyberbullying without excessive false alarms).\n",
        "AUC-ROC.\n",
        "Confusion matrix analysis.\n",
        "\"\"\""
      ],
      "metadata": {
        "id": "tULcONNLailv"
      },
      "execution_count": null,
      "outputs": []
    },
    {
      "cell_type": "code",
      "source": [
        "# Step 1: Install Required Packages\n",
        "!pip install -q scikit-learn pandas numpy\n",
        "\n",
        "# Step 2: Import Required Libraries\n",
        "import numpy as np\n",
        "import pandas as pd\n",
        "from sklearn.model_selection import train_test_split\n",
        "from sklearn.feature_extraction.text import TfidfVectorizer\n",
        "from sklearn.linear_model import LogisticRegression\n",
        "from sklearn.metrics import classification_report, confusion_matrix, roc_auc_score, roc_curve, ConfusionMatrixDisplay\n",
        "import matplotlib.pyplot as plt\n",
        "\n",
        "# Step 3: Sample Dataset (Replace this with your real dataset)\n",
        "data = {\n",
        "    'text': [\n",
        "        'I hate you', 'You are awesome', 'Go kill yourself',\n",
        "        'Have a nice day', 'You are ugly', 'You look great today',\n",
        "        'I will hurt you', 'You are smart'\n",
        "    ],\n",
        "    'label': [1, 0, 1, 0, 1, 0, 1, 0]  # 1 = Cyberbullying, 0 = Non-cyberbullying\n",
        "}\n",
        "df = pd.DataFrame(data)\n",
        "\n",
        "# Step 4: Preprocessing and Vectorization\n",
        "X = df['text']\n",
        "y = df['label']\n",
        "\n",
        "vectorizer = TfidfVectorizer()\n",
        "X_vectorized = vectorizer.fit_transform(X)\n",
        "\n",
        "# Step 5: Train-Test Split\n",
        "X_train, X_test, y_train, y_test = train_test_split(X_vectorized, y, test_size=0.3, random_state=42)\n",
        "\n",
        "# Step 6: Train a Classifier\n",
        "model = LogisticRegression()\n",
        "model.fit(X_train, y_train)\n",
        "\n",
        "# Step 7: Predictions\n",
        "y_pred = model.predict(X_test)\n",
        "y_proba = model.predict_proba(X_test)[:, 1]\n",
        "\n",
        "# Step 8: Classification Report (Precision, Recall, F1)\n",
        "print(\"Classification Report:\")\n",
        "print(classification_report(y_test, y_pred, target_names=['Non-Cyberbullying', 'Cyberbullying']))\n",
        "\n",
        "# Step 9: Confusion Matrix\n",
        "cm = confusion_matrix(y_test, y_pred)\n",
        "disp = ConfusionMatrixDisplay(confusion_matrix=cm, display_labels=['Non-Cyberbullying', 'Cyberbullying'])\n",
        "disp.plot(cmap=plt.cm.Blues)\n",
        "plt.title(\"Confusion Matrix\")\n",
        "plt.show()\n",
        "\n",
        "# Step 10: AUC-ROC Score & Curve\n",
        "roc_auc = roc_auc_score(y_test, y_proba)\n",
        "fpr, tpr, thresholds = roc_curve(y_test, y_proba)\n",
        "\n",
        "print(f\"AUC-ROC Score: {roc_auc:.4f}\")\n",
        "\n",
        "plt.figure()\n",
        "plt.plot(fpr, tpr, label=f\"AUC = {roc_auc:.2f}\")\n",
        "plt.plot([0, 1], [0, 1], linestyle='--')\n",
        "plt.xlabel(\"False Positive Rate\")\n",
        "plt.ylabel(\"True Positive Rate\")\n",
        "plt.title(\"ROC Curve\")\n",
        "plt.legend()\n",
        "plt.grid()\n",
        "plt.show()"
      ],
      "metadata": {
        "colab": {
          "base_uri": "https://localhost:8080/",
          "height": 1000
        },
        "id": "3Jk_YuBwVPB9",
        "outputId": "ed722f9f-6196-49c6-c503-1d0a16e62587"
      },
      "execution_count": 23,
      "outputs": [
        {
          "output_type": "stream",
          "name": "stdout",
          "text": [
            "Classification Report:\n",
            "                   precision    recall  f1-score   support\n",
            "\n",
            "Non-Cyberbullying       0.00      0.00      0.00         2\n",
            "    Cyberbullying       0.33      1.00      0.50         1\n",
            "\n",
            "         accuracy                           0.33         3\n",
            "        macro avg       0.17      0.50      0.25         3\n",
            "     weighted avg       0.11      0.33      0.17         3\n",
            "\n"
          ]
        },
        {
          "output_type": "stream",
          "name": "stderr",
          "text": [
            "/usr/local/lib/python3.11/dist-packages/sklearn/metrics/_classification.py:1565: UndefinedMetricWarning: Precision is ill-defined and being set to 0.0 in labels with no predicted samples. Use `zero_division` parameter to control this behavior.\n",
            "  _warn_prf(average, modifier, f\"{metric.capitalize()} is\", len(result))\n",
            "/usr/local/lib/python3.11/dist-packages/sklearn/metrics/_classification.py:1565: UndefinedMetricWarning: Precision is ill-defined and being set to 0.0 in labels with no predicted samples. Use `zero_division` parameter to control this behavior.\n",
            "  _warn_prf(average, modifier, f\"{metric.capitalize()} is\", len(result))\n",
            "/usr/local/lib/python3.11/dist-packages/sklearn/metrics/_classification.py:1565: UndefinedMetricWarning: Precision is ill-defined and being set to 0.0 in labels with no predicted samples. Use `zero_division` parameter to control this behavior.\n",
            "  _warn_prf(average, modifier, f\"{metric.capitalize()} is\", len(result))\n"
          ]
        },
        {
          "output_type": "display_data",
          "data": {
            "text/plain": [
              "<Figure size 640x480 with 2 Axes>"
            ],
            "image/png": "[encoded data removed]"
          },
          "metadata": {}
        },
        {
          "output_type": "stream",
          "name": "stdout",
          "text": [
            "AUC-ROC Score: 1.0000\n"
          ]
        },
        {
          "output_type": "display_data",
          "data": {
            "text/plain": [
              "<Figure size 640x480 with 1 Axes>"
            ],
            "image/png": "[encoded data removed]"
          },
          "metadata": {}
        }
      ]
    },
    {
      "cell_type": "code",
      "source": [
        "\"\"\"\n",
        "8. Training & Evaluation\n",
        "Train baseline models on the training dataset.\n",
        "Evaluate on the validation dataset.\n",
        "Optimize hyperparameters (e.g., regularization, learning rate).\n",
        "\"\"\""
      ],
      "metadata": {
        "colab": {
          "base_uri": "https://localhost:8080/",
          "height": 36
        },
        "id": "VWMLGT1IV5SN",
        "outputId": "414e3deb-a308-44bc-dc6f-33c1a95c5a62"
      },
      "execution_count": 24,
      "outputs": [
        {
          "output_type": "execute_result",
          "data": {
            "text/plain": [
              "'\\n8. Training & Evaluation\\nTrain baseline models on the training dataset.\\nEvaluate on the validation dataset.\\nOptimize hyperparameters (e.g., regularization, learning rate).\\n'"
            ],
            "application/vnd.google.colaboratory.intrinsic+json": {
              "type": "string"
            }
          },
          "metadata": {},
          "execution_count": 24
        }
      ]
    },
    {
      "cell_type": "code",
      "source": [
        "# Step 1: Install Required Packages\n",
        "!pip install -q scikit-learn pandas numpy\n",
        "\n",
        "# Step 2: Import Libraries\n",
        "import pandas as pd\n",
        "from sklearn.model_selection import train_test_split, GridSearchCV\n",
        "from sklearn.feature_extraction.text import TfidfVectorizer\n",
        "from sklearn.linear_model import LogisticRegression\n",
        "from sklearn.ensemble import RandomForestClassifier\n",
        "from sklearn.metrics import classification_report\n",
        "\n",
        "# Step 3: Sample Dataset (Replace this with your own)\n",
        "data = {\n",
        "    'text': [\n",
        "        'I hate you', 'You are awesome', 'Go kill yourself',\n",
        "        'Have a nice day', 'You are ugly', 'You look great today',\n",
        "        'I will hurt you', 'You are smart'\n",
        "    ],\n",
        "    'label': [1, 0, 1, 0, 1, 0, 1, 0]  # 1 = Cyberbullying, 0 = Non-cyberbullying\n",
        "}\n",
        "df = pd.DataFrame(data)\n",
        "\n",
        "# Step 4: Preprocessing and Vectorization\n",
        "X = df['text']\n",
        "y = df['label']\n",
        "\n",
        "vectorizer = TfidfVectorizer()\n",
        "X_vectorized = vectorizer.fit_transform(X)\n",
        "\n",
        "# Step 5: Train/Validation Split\n",
        "X_train, X_val, y_train, y_val = train_test_split(X_vectorized, y, test_size=0.3, random_state=42)\n",
        "\n",
        "# Step 6: Baseline Model Training (Logistic Regression)\n",
        "baseline_model = LogisticRegression()\n",
        "baseline_model.fit(X_train, y_train)\n",
        "\n",
        "# Step 7: Evaluation on Validation Set\n",
        "y_pred = baseline_model.predict(X_val)\n",
        "print(\"🔹 Baseline Logistic Regression Evaluation:\")\n",
        "print(classification_report(y_val, y_pred, target_names=['Non-Cyberbullying', 'Cyberbullying']))\n",
        "\n",
        "# Step 8: Hyperparameter Tuning using GridSearchCV\n",
        "param_grid = {\n",
        "    'C': [0.01, 0.1, 1, 10],           # Regularization strength for Logistic Regression\n",
        "    'solver': ['liblinear']\n",
        "}\n",
        "\n",
        "grid_search = GridSearchCV(LogisticRegression(), param_grid, cv=3, scoring='f1', verbose=0)\n",
        "grid_search.fit(X_train, y_train)\n",
        "\n",
        "# Step 9: Best Model Evaluation\n",
        "best_model = grid_search.best_estimator_\n",
        "y_best_pred = best_model.predict(X_val)\n",
        "\n",
        "print(\"🔹 After Hyperparameter Tuning (Best Logistic Regression):\")\n",
        "print(\"Best Params:\", grid_search.best_params_)\n",
        "print(classification_report(y_val, y_best_pred, target_names=['Non-Cyberbullying', 'Cyberbullying']))\n",
        "\n",
        "# Optional: Try Another Baseline Model (e.g., Random Forest)\n",
        "rf_model = RandomForestClassifier(random_state=42)\n",
        "rf_model.fit(X_train, y_train)\n",
        "y_rf_pred = rf_model.predict(X_val)\n",
        "\n",
        "print(\"🔹 Baseline Random Forest Evaluation:\")\n",
        "print(classification_report(y_val, y_rf_pred, target_names=['Non-Cyberbullying', 'Cyberbullying']))\n"
      ],
      "metadata": {
        "colab": {
          "base_uri": "https://localhost:8080/"
        },
        "id": "VJ9cwLbNV8pb",
        "outputId": "afd5d3ee-2372-44c8-d86e-dcdb96f529ba"
      },
      "execution_count": 25,
      "outputs": [
        {
          "output_type": "stream",
          "name": "stdout",
          "text": [
            "🔹 Baseline Logistic Regression Evaluation:\n",
            "                   precision    recall  f1-score   support\n",
            "\n",
            "Non-Cyberbullying       0.00      0.00      0.00         2\n",
            "    Cyberbullying       0.33      1.00      0.50         1\n",
            "\n",
            "         accuracy                           0.33         3\n",
            "        macro avg       0.17      0.50      0.25         3\n",
            "     weighted avg       0.11      0.33      0.17         3\n",
            "\n"
          ]
        },
        {
          "output_type": "stream",
          "name": "stderr",
          "text": [
            "/usr/local/lib/python3.11/dist-packages/sklearn/metrics/_classification.py:1565: UndefinedMetricWarning: Precision is ill-defined and being set to 0.0 in labels with no predicted samples. Use `zero_division` parameter to control this behavior.\n",
            "  _warn_prf(average, modifier, f\"{metric.capitalize()} is\", len(result))\n",
            "/usr/local/lib/python3.11/dist-packages/sklearn/metrics/_classification.py:1565: UndefinedMetricWarning: Precision is ill-defined and being set to 0.0 in labels with no predicted samples. Use `zero_division` parameter to control this behavior.\n",
            "  _warn_prf(average, modifier, f\"{metric.capitalize()} is\", len(result))\n",
            "/usr/local/lib/python3.11/dist-packages/sklearn/metrics/_classification.py:1565: UndefinedMetricWarning: Precision is ill-defined and being set to 0.0 in labels with no predicted samples. Use `zero_division` parameter to control this behavior.\n",
            "  _warn_prf(average, modifier, f\"{metric.capitalize()} is\", len(result))\n",
            "/usr/local/lib/python3.11/dist-packages/sklearn/model_selection/_split.py:805: UserWarning: The least populated class in y has only 2 members, which is less than n_splits=3.\n",
            "  warnings.warn(\n"
          ]
        },
        {
          "output_type": "stream",
          "name": "stdout",
          "text": [
            "🔹 After Hyperparameter Tuning (Best Logistic Regression):\n",
            "Best Params: {'C': 10, 'solver': 'liblinear'}\n",
            "                   precision    recall  f1-score   support\n",
            "\n",
            "Non-Cyberbullying       0.00      0.00      0.00         2\n",
            "    Cyberbullying       0.33      1.00      0.50         1\n",
            "\n",
            "         accuracy                           0.33         3\n",
            "        macro avg       0.17      0.50      0.25         3\n",
            "     weighted avg       0.11      0.33      0.17         3\n",
            "\n"
          ]
        },
        {
          "output_type": "stream",
          "name": "stderr",
          "text": [
            "/usr/local/lib/python3.11/dist-packages/sklearn/metrics/_classification.py:1565: UndefinedMetricWarning: Precision is ill-defined and being set to 0.0 in labels with no predicted samples. Use `zero_division` parameter to control this behavior.\n",
            "  _warn_prf(average, modifier, f\"{metric.capitalize()} is\", len(result))\n",
            "/usr/local/lib/python3.11/dist-packages/sklearn/metrics/_classification.py:1565: UndefinedMetricWarning: Precision is ill-defined and being set to 0.0 in labels with no predicted samples. Use `zero_division` parameter to control this behavior.\n",
            "  _warn_prf(average, modifier, f\"{metric.capitalize()} is\", len(result))\n",
            "/usr/local/lib/python3.11/dist-packages/sklearn/metrics/_classification.py:1565: UndefinedMetricWarning: Precision is ill-defined and being set to 0.0 in labels with no predicted samples. Use `zero_division` parameter to control this behavior.\n",
            "  _warn_prf(average, modifier, f\"{metric.capitalize()} is\", len(result))\n"
          ]
        },
        {
          "output_type": "stream",
          "name": "stdout",
          "text": [
            "🔹 Baseline Random Forest Evaluation:\n",
            "                   precision    recall  f1-score   support\n",
            "\n",
            "Non-Cyberbullying       0.00      0.00      0.00         2\n",
            "    Cyberbullying       0.33      1.00      0.50         1\n",
            "\n",
            "         accuracy                           0.33         3\n",
            "        macro avg       0.17      0.50      0.25         3\n",
            "     weighted avg       0.11      0.33      0.17         3\n",
            "\n"
          ]
        },
        {
          "output_type": "stream",
          "name": "stderr",
          "text": [
            "/usr/local/lib/python3.11/dist-packages/sklearn/metrics/_classification.py:1565: UndefinedMetricWarning: Precision is ill-defined and being set to 0.0 in labels with no predicted samples. Use `zero_division` parameter to control this behavior.\n",
            "  _warn_prf(average, modifier, f\"{metric.capitalize()} is\", len(result))\n",
            "/usr/local/lib/python3.11/dist-packages/sklearn/metrics/_classification.py:1565: UndefinedMetricWarning: Precision is ill-defined and being set to 0.0 in labels with no predicted samples. Use `zero_division` parameter to control this behavior.\n",
            "  _warn_prf(average, modifier, f\"{metric.capitalize()} is\", len(result))\n",
            "/usr/local/lib/python3.11/dist-packages/sklearn/metrics/_classification.py:1565: UndefinedMetricWarning: Precision is ill-defined and being set to 0.0 in labels with no predicted samples. Use `zero_division` parameter to control this behavior.\n",
            "  _warn_prf(average, modifier, f\"{metric.capitalize()} is\", len(result))\n"
          ]
        }
      ]
    },
    {
      "cell_type": "code",
      "source": [
        "\"\"\"\n",
        "9. Model Comparison\n",
        "Compare performance across all models in a summary table.\n",
        "Identify the most effective model for cyberbullying detection.\n",
        "\"\"\""
      ],
      "metadata": {
        "id": "WBlBeToZWRRz"
      },
      "execution_count": null,
      "outputs": []
    },
    {
      "cell_type": "code",
      "source": [
        "# Step 1: Install Required Packages\n",
        "!pip install -q scikit-learn pandas numpy\n",
        "\n",
        "# Step 2: Import Libraries\n",
        "import pandas as pd\n",
        "import numpy as np\n",
        "from sklearn.model_selection import train_test_split\n",
        "from sklearn.feature_extraction.text import TfidfVectorizer\n",
        "from sklearn.linear_model import LogisticRegression\n",
        "from sklearn.ensemble import RandomForestClassifier\n",
        "from sklearn.naive_bayes import MultinomialNB\n",
        "from sklearn.svm import SVC\n",
        "from sklearn.metrics import precision_score, recall_score, f1_score, accuracy_score\n",
        "\n",
        "# Step 3: Sample Dataset (Replace with your dataset)\n",
        "data = {\n",
        "    'text': [\n",
        "        'I hate you', 'You are awesome', 'Go kill yourself',\n",
        "        'Have a nice day', 'You are ugly', 'You look great today',\n",
        "        'I will hurt you', 'You are smart'\n",
        "    ],\n",
        "    'label': [1, 0, 1, 0, 1, 0, 1, 0]  # 1 = Cyberbullying, 0 = Non-cyberbullying\n",
        "}\n",
        "df = pd.DataFrame(data)\n",
        "\n",
        "# Step 4: Preprocessing and Vectorization\n",
        "X = df['text']\n",
        "y = df['label']\n",
        "\n",
        "vectorizer = TfidfVectorizer()\n",
        "X_vectorized = vectorizer.fit_transform(X)\n",
        "\n",
        "# Step 5: Train/Validation Split\n",
        "X_train, X_val, y_train, y_val = train_test_split(X_vectorized, y, test_size=0.3, random_state=42)\n",
        "\n",
        "# Step 6: Define Models\n",
        "models = {\n",
        "    'Logistic Regression': LogisticRegression(),\n",
        "    'Random Forest': RandomForestClassifier(random_state=42),\n",
        "    'Naive Bayes': MultinomialNB(),\n",
        "    'SVM': SVC(probability=True)  # enable probability for consistency\n",
        "}\n",
        "\n",
        "# Step 7: Train and Evaluate All Models\n",
        "results = []\n",
        "\n",
        "for model_name, model in models.items():\n",
        "    model.fit(X_train, y_train)\n",
        "    y_pred = model.predict(X_val)\n",
        "\n",
        "    precision = precision_score(y_val, y_pred)\n",
        "    recall = recall_score(y_val, y_pred)\n",
        "    f1 = f1_score(y_val, y_pred)\n",
        "    accuracy = accuracy_score(y_val, y_pred)\n",
        "\n",
        "    results.append({\n",
        "        'Model': model_name,\n",
        "        'Precision': round(precision, 2),\n",
        "        'Recall': round(recall, 2),\n",
        "        'F1-score': round(f1, 2),\n",
        "        'Accuracy': round(accuracy, 2)\n",
        "    })\n",
        "\n",
        "# Step 8: Summary Table\n",
        "results_df = pd.DataFrame(results)\n",
        "print(\"🔍 Model Comparison Summary:\")\n",
        "print(results_df.sort_values(by='F1-score', ascending=False))\n"
      ],
      "metadata": {
        "colab": {
          "base_uri": "https://localhost:8080/"
        },
        "id": "9JyUDxupWZrE",
        "outputId": "51d9262e-b7e1-4b04-cbcc-b5cc8b087f34"
      },
      "execution_count": 26,
      "outputs": [
        {
          "output_type": "stream",
          "name": "stdout",
          "text": [
            "🔍 Model Comparison Summary:\n",
            "                 Model  Precision  Recall  F1-score  Accuracy\n",
            "0  Logistic Regression       0.33     1.0       0.5      0.33\n",
            "1        Random Forest       0.33     1.0       0.5      0.33\n",
            "2          Naive Bayes       0.33     1.0       0.5      0.33\n",
            "3                  SVM       0.33     1.0       0.5      0.33\n"
          ]
        }
      ]
    },
    {
      "cell_type": "code",
      "source": [
        "\"\"\"\n",
        "10. Documentation\n",
        "Record:\n",
        "Preprocessing techniques applied\n",
        "Feature representation method used\n",
        "Model performance metrics and comparisons\n",
        "Justification for the final chosen model\n",
        "\"\"\""
      ],
      "metadata": {
        "colab": {
          "base_uri": "https://localhost:8080/",
          "height": 53
        },
        "id": "2pmZbiMmWr8e",
        "outputId": "fac388e2-5fb1-4c96-8783-dc24bb9fe6b4"
      },
      "execution_count": 27,
      "outputs": [
        {
          "output_type": "execute_result",
          "data": {
            "text/plain": [
              "'\\n10. Documentation\\nRecord:\\nPreprocessing techniques applied\\nFeature representation method used\\nModel performance metrics and comparisons\\nJustification for the final chosen model\\n'"
            ],
            "application/vnd.google.colaboratory.intrinsic+json": {
              "type": "string"
            }
          },
          "metadata": {},
          "execution_count": 27
        }
      ]
    },
    {
      "cell_type": "code",
      "source": [
        "# Step 1: Create a Documentation Dictionary\n",
        "documentation = {\n",
        "    \"Preprocessing Techniques\": [\n",
        "        \"Lowercasing text\",\n",
        "        \"TF-IDF vectorization (no stopword removal, no stemming/lemmatization)\",\n",
        "        \"Train/validation split (70/30)\"\n",
        "    ],\n",
        "\n",
        "    \"Feature Representation\": \"TF-IDF (Term Frequency-Inverse Document Frequency)\",\n",
        "\n",
        "    \"Model Evaluation Summary\": results_df.to_dict(orient='records'),\n",
        "\n",
        "    \"Final Model Selection\": None  # Will populate below\n",
        "}\n",
        "\n",
        "# Step 2: Identify Best Model by F1-score\n",
        "best_model_row = results_df.sort_values(by='F1-score', ascending=False).iloc[0]\n",
        "best_model_name = best_model_row['Model']\n",
        "\n",
        "# Step 3: Justify Final Model Choice\n",
        "documentation[\"Final Model Selection\"] = {\n",
        "    \"Model\": best_model_name,\n",
        "    \"Justification\": (\n",
        "        f\"The '{best_model_name}' model was selected because it achieved the highest F1-score \"\n",
        "        f\"({best_model_row['F1-score']}) among all tested models, indicating a strong balance between \"\n",
        "        f\"precision ({best_model_row['Precision']}) and recall ({best_model_row['Recall']}). \"\n",
        "        \"This balance is essential for catching cyberbullying cases without excessive false positives.\"\n",
        "    )\n",
        "}\n",
        "\n",
        "# Step 4: Display Final Documentation\n",
        "import json\n",
        "print(\"📄 Final Documentation:\\n\")\n",
        "print(json.dumps(documentation, indent=2))\n"
      ],
      "metadata": {
        "colab": {
          "base_uri": "https://localhost:8080/"
        },
        "id": "__bZw3ohWvNB",
        "outputId": "9a213786-7f67-4b46-a530-ca91c8b0b835"
      },
      "execution_count": 28,
      "outputs": [
        {
          "output_type": "stream",
          "name": "stdout",
          "text": [
            "📄 Final Documentation:\n",
            "\n",
            "{\n",
            "  \"Preprocessing Techniques\": [\n",
            "    \"Lowercasing text\",\n",
            "    \"TF-IDF vectorization (no stopword removal, no stemming/lemmatization)\",\n",
            "    \"Train/validation split (70/30)\"\n",
            "  ],\n",
            "  \"Feature Representation\": \"TF-IDF (Term Frequency-Inverse Document Frequency)\",\n",
            "  \"Model Evaluation Summary\": [\n",
            "    {\n",
            "      \"Model\": \"Logistic Regression\",\n",
            "      \"Precision\": 0.33,\n",
            "      \"Recall\": 1.0,\n",
            "      \"F1-score\": 0.5,\n",
            "      \"Accuracy\": 0.33\n",
            "    },\n",
            "    {\n",
            "      \"Model\": \"Random Forest\",\n",
            "      \"Precision\": 0.33,\n",
            "      \"Recall\": 1.0,\n",
            "      \"F1-score\": 0.5,\n",
            "      \"Accuracy\": 0.33\n",
            "    },\n",
            "    {\n",
            "      \"Model\": \"Naive Bayes\",\n",
            "      \"Precision\": 0.33,\n",
            "      \"Recall\": 1.0,\n",
            "      \"F1-score\": 0.5,\n",
            "      \"Accuracy\": 0.33\n",
            "    },\n",
            "    {\n",
            "      \"Model\": \"SVM\",\n",
            "      \"Precision\": 0.33,\n",
            "      \"Recall\": 1.0,\n",
            "      \"F1-score\": 0.5,\n",
            "      \"Accuracy\": 0.33\n",
            "    }\n",
            "  ],\n",
            "  \"Final Model Selection\": {\n",
            "    \"Model\": \"Logistic Regression\",\n",
            "    \"Justification\": \"The 'Logistic Regression' model was selected because it achieved the highest F1-score (0.5) among all tested models, indicating a strong balance between precision (0.33) and recall (1.0). This balance is essential for catching cyberbullying cases without excessive false positives.\"\n",
            "  }\n",
            "}\n"
          ]
        }
      ]
    },
    {
      "cell_type": "code",
      "source": [
        "from IPython.display import display, HTML\n",
        "\n",
        "display(HTML(f\"\"\"\n",
        "<div style=\"\n",
        "    border: 2px solid #4CAF50;\n",
        "    background-color: #f0fff0;\n",
        "    padding: 20px;\n",
        "    font-family: Arial, sans-serif;\n",
        "    font-size: 18px;\n",
        "    color: #000;\n",
        "    border-radius: 10px;\n",
        "    box-shadow: 2px 2px 10px rgba(0,0,0,0.1);\n",
        "    text-align: left;\n",
        "\">\n",
        "  <h2 style=\"color:#2e7d32; font-weight: bold;\"><b>🎓 STUDENT DETAILS</b></h2>\n",
        "  <p><b>NAME:</b> RAMIZ AHMED</p>\n",
        "  <p><b>STUDENT ID:</b> CIHE240058</p>\n",
        "  <p><b>PROFESSOR:</b> DR. MD ASHRAF UDDIN</p>\n",
        "</div>\n",
        "\"\"\"))\n"
      ],
      "metadata": {
        "colab": {
          "base_uri": "https://localhost:8080/",
          "height": 209
        },
        "id": "HK-2YeOKX-PL",
        "outputId": "ab0c1aa5-32cb-41b5-fde4-f076f1c627d2"
      },
      "execution_count": 32,
      "outputs": [
        {
          "output_type": "display_data",
          "data": {
            "text/plain": [
              "<IPython.core.display.HTML object>"
            ],
            "text/html": [
              "\n",
              "<div style=\"\n",
              "    border: 2px solid #4CAF50;\n",
              "    background-color: #f0fff0;\n",
              "    padding: 20px;\n",
              "    font-family: Arial, sans-serif;\n",
              "    font-size: 18px;\n",
              "    color: #000;\n",
              "    border-radius: 10px;\n",
              "    box-shadow: 2px 2px 10px rgba(0,0,0,0.1);\n",
              "    text-align: left;\n",
              "\">\n",
              "  <h2 style=\"color:#2e7d32; font-weight: bold;\"><b>🎓 STUDENT DETAILS</b></h2>\n",
              "  <p><b>NAME:</b> RAMIZ AHMED</p>\n",
              "  <p><b>STUDENT ID:</b> CIHE240058</p>\n",
              "  <p><b>PROFESSOR:</b> DR. MD ASHRAF UDDIN</p>\n",
              "</div>\n"
            ]
          },
          "metadata": {}
        }
      ]
    }
  ]
}