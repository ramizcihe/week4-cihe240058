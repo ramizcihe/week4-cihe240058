{
  "nbformat": 4,
  "nbformat_minor": 0,
  "metadata": {
    "colab": {
      "provenance": [],
      "include_colab_link": true
    },
    "kernelspec": {
      "name": "python3",
      "display_name": "Python 3"
    },
    "language_info": {
      "name": "python"
    }
  },
  "cells": [
    {
      "cell_type": "markdown",
      "metadata": {
        "id": "view-in-github",
        "colab_type": "text"
      },
      "source": [
        "<a href=\"https://colab.research.google.com/github/ramizcihe/week4-cihe240058/blob/main/week4_cihe240058.ipynb\" target=\"_parent\"><img src=\"https://colab.research.google.com/assets/colab-badge.svg\" alt=\"Open In Colab\"/></a>"
      ]
    },
    {
      "cell_type": "code",
      "source": [
        "\"\"\"1. Dataset Preparation\n",
        "Import the cyberbullying dataset (e.g., from Kaggle or other public sources).\n",
        "Explore the dataset structure, label distribution, and check for class imbalance.\n",
        "Clean the dataset by removing:\n",
        "Missing or null values\n",
        "Duplicate entries\n",
        "Irrelevant content (e.g., ads, unrelated text)\n",
        "\"\"\""
      ],
      "metadata": {
        "colab": {
          "base_uri": "https://localhost:8080/",
          "height": 53
        },
        "id": "GhPTaHxibrNt",
        "outputId": "323dd105-236b-4dae-833a-3559468c0c58"
      },
      "execution_count": 1,
      "outputs": [
        {
          "output_type": "execute_result",
          "data": {
            "text/plain": [
              "'1. Dataset Preparation\\nImport the cyberbullying dataset (e.g., from Kaggle or other public sources).\\nExplore the dataset structure, label distribution, and check for class imbalance.\\nClean the dataset by removing:\\nMissing or null values\\nDuplicate entries\\nIrrelevant content (e.g., ads, unrelated text)\\n'"
            ],
            "application/vnd.google.colaboratory.intrinsic+json": {
              "type": "string"
            }
          },
          "metadata": {},
          "execution_count": 1
        }
      ]
    },
    {
      "cell_type": "code",
      "execution_count": 65,
      "metadata": {
        "colab": {
          "base_uri": "https://localhost:8080/"
        },
        "id": "aK45GBciZSNw",
        "outputId": "4575b790-54b2-4ee0-d1e8-45a9f9e91fca"
      },
      "outputs": [
        {
          "output_type": "stream",
          "name": "stdout",
          "text": [
            "✅ Dataset loaded, cleaned, and split successfully!\n",
            "Training samples: 38146\n",
            "Testing samples: 9537\n"
          ]
        }
      ],
      "source": [
        "import pandas as pd\n",
        "from sklearn.model_selection import train_test_split\n",
        "\n",
        "# Correct raw CSV URL (no refs/heads/)\n",
        "url = \"https://raw.githubusercontent.com/ramizcihe/week4-cihe240058/main/cyberbullying_tweets.csv\"\n",
        "\n",
        "# Load dataset with python engine and skip bad lines\n",
        "df = pd.read_csv(\n",
        "    url,\n",
        "    engine='python',\n",
        "    on_bad_lines='skip',\n",
        "    encoding='utf-8'\n",
        ")\n",
        "\n",
        "# Replace empty strings with NaN and drop rows with missing values\n",
        "df.replace(\"\", pd.NA, inplace=True)\n",
        "df.dropna(inplace=True)\n",
        "\n",
        "# Filter out classes with fewer than 2 samples for stratify split\n",
        "valid_labels = df['cyberbullying_type'].value_counts()\n",
        "valid_labels = valid_labels[valid_labels >= 2].index\n",
        "df = df[df['cyberbullying_type'].isin(valid_labels)]\n",
        "\n",
        "# Prepare features and labels\n",
        "X = df['tweet_text']\n",
        "y = df['cyberbullying_type']\n",
        "\n",
        "# Split dataset with stratification\n",
        "X_train, X_test, y_train, y_test = train_test_split(\n",
        "    X, y,\n",
        "    test_size=0.2,\n",
        "    random_state=42,\n",
        "    stratify=y\n",
        ")\n",
        "\n",
        "print(\"✅ Dataset loaded, cleaned, and split successfully!\")\n",
        "print(f\"Training samples: {len(X_train)}\")\n",
        "print(f\"Testing samples: {len(X_test)}\")\n"
      ]
    },
    {
      "cell_type": "code",
      "source": [
        "df.head()"
      ],
      "metadata": {
        "colab": {
          "base_uri": "https://localhost:8080/",
          "height": 206
        },
        "id": "tubhD27fK9fN",
        "outputId": "4fb1fae2-b679-458c-deee-fcd04b5dbfd3"
      },
      "execution_count": 67,
      "outputs": [
        {
          "output_type": "execute_result",
          "data": {
            "text/plain": [
              "                                          tweet_text cyberbullying_type\n",
              "0  In other words #katandandre, your food was cra...  not_cyberbullying\n",
              "1  Why is #aussietv so white? #MKR #theblock #ImA...  not_cyberbullying\n",
              "2  @XochitlSuckkks a classy whore? Or more red ve...  not_cyberbullying\n",
              "3  @Jason_Gio meh. :P  thanks for the heads up, b...  not_cyberbullying\n",
              "4  @RudhoeEnglish This is an ISIS account pretend...  not_cyberbullying"
            ],
            "text/html": [
              "\n",
              "  <div id=\"df-002965c6-de85-4fed-876b-58e17d3c10ec\" class=\"colab-df-container\">\n",
              "    <div>\n",
              "<style scoped>\n",
              "    .dataframe tbody tr th:only-of-type {\n",
              "        vertical-align: middle;\n",
              "    }\n",
              "\n",
              "    .dataframe tbody tr th {\n",
              "        vertical-align: top;\n",
              "    }\n",
              "\n",
              "    .dataframe thead th {\n",
              "        text-align: right;\n",
              "    }\n",
              "</style>\n",
              "<table border=\"1\" class=\"dataframe\">\n",
              "  <thead>\n",
              "    <tr style=\"text-align: right;\">\n",
              "      <th></th>\n",
              "      <th>tweet_text</th>\n",
              "      <th>cyberbullying_type</th>\n",
              "    </tr>\n",
              "  </thead>\n",
              "  <tbody>\n",
              "    <tr>\n",
              "      <th>0</th>\n",
              "      <td>In other words #katandandre, your food was cra...</td>\n",
              "      <td>not_cyberbullying</td>\n",
              "    </tr>\n",
              "    <tr>\n",
              "      <th>1</th>\n",
              "      <td>Why is #aussietv so white? #MKR #theblock #ImA...</td>\n",
              "      <td>not_cyberbullying</td>\n",
              "    </tr>\n",
              "    <tr>\n",
              "      <th>2</th>\n",
              "      <td>@XochitlSuckkks a classy whore? Or more red ve...</td>\n",
              "      <td>not_cyberbullying</td>\n",
              "    </tr>\n",
              "    <tr>\n",
              "      <th>3</th>\n",
              "      <td>@Jason_Gio meh. :P  thanks for the heads up, b...</td>\n",
              "      <td>not_cyberbullying</td>\n",
              "    </tr>\n",
              "    <tr>\n",
              "      <th>4</th>\n",
              "      <td>@RudhoeEnglish This is an ISIS account pretend...</td>\n",
              "      <td>not_cyberbullying</td>\n",
              "    </tr>\n",
              "  </tbody>\n",
              "</table>\n",
              "</div>\n",
              "    <div class=\"colab-df-buttons\">\n",
              "\n",
              "  <div class=\"colab-df-container\">\n",
              "    <button class=\"colab-df-convert\" onclick=\"convertToInteractive('df-002965c6-de85-4fed-876b-58e17d3c10ec')\"\n",
              "            title=\"Convert this dataframe to an interactive table.\"\n",
              "            style=\"display:none;\">\n",
              "\n",
              "  <svg xmlns=\"http://www.w3.org/2000/svg\" height=\"24px\" viewBox=\"0 -960 960 960\">\n",
              "    <path d=\"M120-120v-720h720v720H120Zm60-500h600v-160H180v160Zm220 220h160v-160H400v160Zm0 220h160v-160H400v160ZM180-400h160v-160H180v160Zm440 0h160v-160H620v160ZM180-180h160v-160H180v160Zm440 0h160v-160H620v160Z\"/>\n",
              "  </svg>\n",
              "    </button>\n",
              "\n",
              "  <style>\n",
              "    .colab-df-container {\n",
              "      display:flex;\n",
              "      gap: 12px;\n",
              "    }\n",
              "\n",
              "    .colab-df-convert {\n",
              "      background-color: #E8F0FE;\n",
              "      border: none;\n",
              "      border-radius: 50%;\n",
              "      cursor: pointer;\n",
              "      display: none;\n",
              "      fill: #1967D2;\n",
              "      height: 32px;\n",
              "      padding: 0 0 0 0;\n",
              "      width: 32px;\n",
              "    }\n",
              "\n",
              "    .colab-df-convert:hover {\n",
              "      background-color: #E2EBFA;\n",
              "      box-shadow: 0px 1px 2px rgba(60, 64, 67, 0.3), 0px 1px 3px 1px rgba(60, 64, 67, 0.15);\n",
              "      fill: #174EA6;\n",
              "    }\n",
              "\n",
              "    .colab-df-buttons div {\n",
              "      margin-bottom: 4px;\n",
              "    }\n",
              "\n",
              "    [theme=dark] .colab-df-convert {\n",
              "      background-color: #3B4455;\n",
              "      fill: #D2E3FC;\n",
              "    }\n",
              "\n",
              "    [theme=dark] .colab-df-convert:hover {\n",
              "      background-color: #434B5C;\n",
              "      box-shadow: 0px 1px 3px 1px rgba(0, 0, 0, 0.15);\n",
              "      filter: drop-shadow(0px 1px 2px rgba(0, 0, 0, 0.3));\n",
              "      fill: #FFFFFF;\n",
              "    }\n",
              "  </style>\n",
              "\n",
              "    <script>\n",
              "      const buttonEl =\n",
              "        document.querySelector('#df-002965c6-de85-4fed-876b-58e17d3c10ec button.colab-df-convert');\n",
              "      buttonEl.style.display =\n",
              "        google.colab.kernel.accessAllowed ? 'block' : 'none';\n",
              "\n",
              "      async function convertToInteractive(key) {\n",
              "        const element = document.querySelector('#df-002965c6-de85-4fed-876b-58e17d3c10ec');\n",
              "        const dataTable =\n",
              "          await google.colab.kernel.invokeFunction('convertToInteractive',\n",
              "                                                    [key], {});\n",
              "        if (!dataTable) return;\n",
              "\n",
              "        const docLinkHtml = 'Like what you see? Visit the ' +\n",
              "          '<a target=\"_blank\" href=https://colab.research.google.com/notebooks/data_table.ipynb>data table notebook</a>'\n",
              "          + ' to learn more about interactive tables.';\n",
              "        element.innerHTML = '';\n",
              "        dataTable['output_type'] = 'display_data';\n",
              "        await google.colab.output.renderOutput(dataTable, element);\n",
              "        const docLink = document.createElement('div');\n",
              "        docLink.innerHTML = docLinkHtml;\n",
              "        element.appendChild(docLink);\n",
              "      }\n",
              "    </script>\n",
              "  </div>\n",
              "\n",
              "\n",
              "    <div id=\"df-30c9bec4-bb2f-4642-bd4c-936be98b5a05\">\n",
              "      <button class=\"colab-df-quickchart\" onclick=\"quickchart('df-30c9bec4-bb2f-4642-bd4c-936be98b5a05')\"\n",
              "                title=\"Suggest charts\"\n",
              "                style=\"display:none;\">\n",
              "\n",
              "<svg xmlns=\"http://www.w3.org/2000/svg\" height=\"24px\"viewBox=\"0 0 24 24\"\n",
              "     width=\"24px\">\n",
              "    <g>\n",
              "        <path d=\"M19 3H5c-1.1 0-2 .9-2 2v14c0 1.1.9 2 2 2h14c1.1 0 2-.9 2-2V5c0-1.1-.9-2-2-2zM9 17H7v-7h2v7zm4 0h-2V7h2v10zm4 0h-2v-4h2v4z\"/>\n",
              "    </g>\n",
              "</svg>\n",
              "      </button>\n",
              "\n",
              "<style>\n",
              "  .colab-df-quickchart {\n",
              "      --bg-color: #E8F0FE;\n",
              "      --fill-color: #1967D2;\n",
              "      --hover-bg-color: #E2EBFA;\n",
              "      --hover-fill-color: #174EA6;\n",
              "      --disabled-fill-color: #AAA;\n",
              "      --disabled-bg-color: #DDD;\n",
              "  }\n",
              "\n",
              "  [theme=dark] .colab-df-quickchart {\n",
              "      --bg-color: #3B4455;\n",
              "      --fill-color: #D2E3FC;\n",
              "      --hover-bg-color: #434B5C;\n",
              "      --hover-fill-color: #FFFFFF;\n",
              "      --disabled-bg-color: #3B4455;\n",
              "      --disabled-fill-color: #666;\n",
              "  }\n",
              "\n",
              "  .colab-df-quickchart {\n",
              "    background-color: var(--bg-color);\n",
              "    border: none;\n",
              "    border-radius: 50%;\n",
              "    cursor: pointer;\n",
              "    display: none;\n",
              "    fill: var(--fill-color);\n",
              "    height: 32px;\n",
              "    padding: 0;\n",
              "    width: 32px;\n",
              "  }\n",
              "\n",
              "  .colab-df-quickchart:hover {\n",
              "    background-color: var(--hover-bg-color);\n",
              "    box-shadow: 0 1px 2px rgba(60, 64, 67, 0.3), 0 1px 3px 1px rgba(60, 64, 67, 0.15);\n",
              "    fill: var(--button-hover-fill-color);\n",
              "  }\n",
              "\n",
              "  .colab-df-quickchart-complete:disabled,\n",
              "  .colab-df-quickchart-complete:disabled:hover {\n",
              "    background-color: var(--disabled-bg-color);\n",
              "    fill: var(--disabled-fill-color);\n",
              "    box-shadow: none;\n",
              "  }\n",
              "\n",
              "  .colab-df-spinner {\n",
              "    border: 2px solid var(--fill-color);\n",
              "    border-color: transparent;\n",
              "    border-bottom-color: var(--fill-color);\n",
              "    animation:\n",
              "      spin 1s steps(1) infinite;\n",
              "  }\n",
              "\n",
              "  @keyframes spin {\n",
              "    0% {\n",
              "      border-color: transparent;\n",
              "      border-bottom-color: var(--fill-color);\n",
              "      border-left-color: var(--fill-color);\n",
              "    }\n",
              "    20% {\n",
              "      border-color: transparent;\n",
              "      border-left-color: var(--fill-color);\n",
              "      border-top-color: var(--fill-color);\n",
              "    }\n",
              "    30% {\n",
              "      border-color: transparent;\n",
              "      border-left-color: var(--fill-color);\n",
              "      border-top-color: var(--fill-color);\n",
              "      border-right-color: var(--fill-color);\n",
              "    }\n",
              "    40% {\n",
              "      border-color: transparent;\n",
              "      border-right-color: var(--fill-color);\n",
              "      border-top-color: var(--fill-color);\n",
              "    }\n",
              "    60% {\n",
              "      border-color: transparent;\n",
              "      border-right-color: var(--fill-color);\n",
              "    }\n",
              "    80% {\n",
              "      border-color: transparent;\n",
              "      border-right-color: var(--fill-color);\n",
              "      border-bottom-color: var(--fill-color);\n",
              "    }\n",
              "    90% {\n",
              "      border-color: transparent;\n",
              "      border-bottom-color: var(--fill-color);\n",
              "    }\n",
              "  }\n",
              "</style>\n",
              "\n",
              "      <script>\n",
              "        async function quickchart(key) {\n",
              "          const quickchartButtonEl =\n",
              "            document.querySelector('#' + key + ' button');\n",
              "          quickchartButtonEl.disabled = true;  // To prevent multiple clicks.\n",
              "          quickchartButtonEl.classList.add('colab-df-spinner');\n",
              "          try {\n",
              "            const charts = await google.colab.kernel.invokeFunction(\n",
              "                'suggestCharts', [key], {});\n",
              "          } catch (error) {\n",
              "            console.error('Error during call to suggestCharts:', error);\n",
              "          }\n",
              "          quickchartButtonEl.classList.remove('colab-df-spinner');\n",
              "          quickchartButtonEl.classList.add('colab-df-quickchart-complete');\n",
              "        }\n",
              "        (() => {\n",
              "          let quickchartButtonEl =\n",
              "            document.querySelector('#df-30c9bec4-bb2f-4642-bd4c-936be98b5a05 button');\n",
              "          quickchartButtonEl.style.display =\n",
              "            google.colab.kernel.accessAllowed ? 'block' : 'none';\n",
              "        })();\n",
              "      </script>\n",
              "    </div>\n",
              "\n",
              "    </div>\n",
              "  </div>\n"
            ],
            "application/vnd.google.colaboratory.intrinsic+json": {
              "type": "dataframe",
              "variable_name": "df",
              "summary": "{\n  \"name\": \"df\",\n  \"rows\": 47683,\n  \"fields\": [\n    {\n      \"column\": \"tweet_text\",\n      \"properties\": {\n        \"dtype\": \"string\",\n        \"num_unique_values\": 46008,\n        \"samples\": [\n          \"it's better than the kinds of jokes that are harmful to people irl. i'd much prefer everyone make horseJean jokes over gay/rape jokes.\",\n          \"@CooleyOnEurasia @UmarFarooq_ You can be sure China will not be constipated by political correctness when it comes to dealing w terrorism.\",\n          \"unironically love the name butch tbh. school bully but make it fashion\"\n        ],\n        \"semantic_type\": \"\",\n        \"description\": \"\"\n      }\n    },\n    {\n      \"column\": \"cyberbullying_type\",\n      \"properties\": {\n        \"dtype\": \"category\",\n        \"num_unique_values\": 6,\n        \"samples\": [\n          \"not_cyberbullying\",\n          \"gender\",\n          \"ethnicity\"\n        ],\n        \"semantic_type\": \"\",\n        \"description\": \"\"\n      }\n    }\n  ]\n}"
            }
          },
          "metadata": {},
          "execution_count": 67
        }
      ]
    },
    {
      "cell_type": "code",
      "source": [
        "df.tail()"
      ],
      "metadata": {
        "colab": {
          "base_uri": "https://localhost:8080/",
          "height": 206
        },
        "id": "VGux5SS0LC9K",
        "outputId": "66e66d43-5b48-485a-a0d6-f51277efddff"
      },
      "execution_count": 68,
      "outputs": [
        {
          "output_type": "execute_result",
          "data": {
            "text/plain": [
              "                                              tweet_text cyberbullying_type\n",
              "47971  Black ppl aren't expected to do anything, depe...          ethnicity\n",
              "47972  Turner did not withhold his disappointment. Tu...          ethnicity\n",
              "47973  I swear to God. This dumb nigger bitch. I have...          ethnicity\n",
              "47974  Yea fuck you RT @therealexel: IF YOURE A NIGGE...          ethnicity\n",
              "47975  Bro. U gotta chill RT @CHILLShrammy: Dog FUCK ...          ethnicity"
            ],
            "text/html": [
              "\n",
              "  <div id=\"df-10a4d9cc-b811-4fae-bb47-e7e25df684a3\" class=\"colab-df-container\">\n",
              "    <div>\n",
              "<style scoped>\n",
              "    .dataframe tbody tr th:only-of-type {\n",
              "        vertical-align: middle;\n",
              "    }\n",
              "\n",
              "    .dataframe tbody tr th {\n",
              "        vertical-align: top;\n",
              "    }\n",
              "\n",
              "    .dataframe thead th {\n",
              "        text-align: right;\n",
              "    }\n",
              "</style>\n",
              "<table border=\"1\" class=\"dataframe\">\n",
              "  <thead>\n",
              "    <tr style=\"text-align: right;\">\n",
              "      <th></th>\n",
              "      <th>tweet_text</th>\n",
              "      <th>cyberbullying_type</th>\n",
              "    </tr>\n",
              "  </thead>\n",
              "  <tbody>\n",
              "    <tr>\n",
              "      <th>47971</th>\n",
              "      <td>Black ppl aren't expected to do anything, depe...</td>\n",
              "      <td>ethnicity</td>\n",
              "    </tr>\n",
              "    <tr>\n",
              "      <th>47972</th>\n",
              "      <td>Turner did not withhold his disappointment. Tu...</td>\n",
              "      <td>ethnicity</td>\n",
              "    </tr>\n",
              "    <tr>\n",
              "      <th>47973</th>\n",
              "      <td>I swear to God. This dumb nigger bitch. I have...</td>\n",
              "      <td>ethnicity</td>\n",
              "    </tr>\n",
              "    <tr>\n",
              "      <th>47974</th>\n",
              "      <td>Yea fuck you RT @therealexel: IF YOURE A NIGGE...</td>\n",
              "      <td>ethnicity</td>\n",
              "    </tr>\n",
              "    <tr>\n",
              "      <th>47975</th>\n",
              "      <td>Bro. U gotta chill RT @CHILLShrammy: Dog FUCK ...</td>\n",
              "      <td>ethnicity</td>\n",
              "    </tr>\n",
              "  </tbody>\n",
              "</table>\n",
              "</div>\n",
              "    <div class=\"colab-df-buttons\">\n",
              "\n",
              "  <div class=\"colab-df-container\">\n",
              "    <button class=\"colab-df-convert\" onclick=\"convertToInteractive('df-10a4d9cc-b811-4fae-bb47-e7e25df684a3')\"\n",
              "            title=\"Convert this dataframe to an interactive table.\"\n",
              "            style=\"display:none;\">\n",
              "\n",
              "  <svg xmlns=\"http://www.w3.org/2000/svg\" height=\"24px\" viewBox=\"0 -960 960 960\">\n",
              "    <path d=\"M120-120v-720h720v720H120Zm60-500h600v-160H180v160Zm220 220h160v-160H400v160Zm0 220h160v-160H400v160ZM180-400h160v-160H180v160Zm440 0h160v-160H620v160ZM180-180h160v-160H180v160Zm440 0h160v-160H620v160Z\"/>\n",
              "  </svg>\n",
              "    </button>\n",
              "\n",
              "  <style>\n",
              "    .colab-df-container {\n",
              "      display:flex;\n",
              "      gap: 12px;\n",
              "    }\n",
              "\n",
              "    .colab-df-convert {\n",
              "      background-color: #E8F0FE;\n",
              "      border: none;\n",
              "      border-radius: 50%;\n",
              "      cursor: pointer;\n",
              "      display: none;\n",
              "      fill: #1967D2;\n",
              "      height: 32px;\n",
              "      padding: 0 0 0 0;\n",
              "      width: 32px;\n",
              "    }\n",
              "\n",
              "    .colab-df-convert:hover {\n",
              "      background-color: #E2EBFA;\n",
              "      box-shadow: 0px 1px 2px rgba(60, 64, 67, 0.3), 0px 1px 3px 1px rgba(60, 64, 67, 0.15);\n",
              "      fill: #174EA6;\n",
              "    }\n",
              "\n",
              "    .colab-df-buttons div {\n",
              "      margin-bottom: 4px;\n",
              "    }\n",
              "\n",
              "    [theme=dark] .colab-df-convert {\n",
              "      background-color: #3B4455;\n",
              "      fill: #D2E3FC;\n",
              "    }\n",
              "\n",
              "    [theme=dark] .colab-df-convert:hover {\n",
              "      background-color: #434B5C;\n",
              "      box-shadow: 0px 1px 3px 1px rgba(0, 0, 0, 0.15);\n",
              "      filter: drop-shadow(0px 1px 2px rgba(0, 0, 0, 0.3));\n",
              "      fill: #FFFFFF;\n",
              "    }\n",
              "  </style>\n",
              "\n",
              "    <script>\n",
              "      const buttonEl =\n",
              "        document.querySelector('#df-10a4d9cc-b811-4fae-bb47-e7e25df684a3 button.colab-df-convert');\n",
              "      buttonEl.style.display =\n",
              "        google.colab.kernel.accessAllowed ? 'block' : 'none';\n",
              "\n",
              "      async function convertToInteractive(key) {\n",
              "        const element = document.querySelector('#df-10a4d9cc-b811-4fae-bb47-e7e25df684a3');\n",
              "        const dataTable =\n",
              "          await google.colab.kernel.invokeFunction('convertToInteractive',\n",
              "                                                    [key], {});\n",
              "        if (!dataTable) return;\n",
              "\n",
              "        const docLinkHtml = 'Like what you see? Visit the ' +\n",
              "          '<a target=\"_blank\" href=https://colab.research.google.com/notebooks/data_table.ipynb>data table notebook</a>'\n",
              "          + ' to learn more about interactive tables.';\n",
              "        element.innerHTML = '';\n",
              "        dataTable['output_type'] = 'display_data';\n",
              "        await google.colab.output.renderOutput(dataTable, element);\n",
              "        const docLink = document.createElement('div');\n",
              "        docLink.innerHTML = docLinkHtml;\n",
              "        element.appendChild(docLink);\n",
              "      }\n",
              "    </script>\n",
              "  </div>\n",
              "\n",
              "\n",
              "    <div id=\"df-637db315-60a8-468f-8bce-371220b8251b\">\n",
              "      <button class=\"colab-df-quickchart\" onclick=\"quickchart('df-637db315-60a8-468f-8bce-371220b8251b')\"\n",
              "                title=\"Suggest charts\"\n",
              "                style=\"display:none;\">\n",
              "\n",
              "<svg xmlns=\"http://www.w3.org/2000/svg\" height=\"24px\"viewBox=\"0 0 24 24\"\n",
              "     width=\"24px\">\n",
              "    <g>\n",
              "        <path d=\"M19 3H5c-1.1 0-2 .9-2 2v14c0 1.1.9 2 2 2h14c1.1 0 2-.9 2-2V5c0-1.1-.9-2-2-2zM9 17H7v-7h2v7zm4 0h-2V7h2v10zm4 0h-2v-4h2v4z\"/>\n",
              "    </g>\n",
              "</svg>\n",
              "      </button>\n",
              "\n",
              "<style>\n",
              "  .colab-df-quickchart {\n",
              "      --bg-color: #E8F0FE;\n",
              "      --fill-color: #1967D2;\n",
              "      --hover-bg-color: #E2EBFA;\n",
              "      --hover-fill-color: #174EA6;\n",
              "      --disabled-fill-color: #AAA;\n",
              "      --disabled-bg-color: #DDD;\n",
              "  }\n",
              "\n",
              "  [theme=dark] .colab-df-quickchart {\n",
              "      --bg-color: #3B4455;\n",
              "      --fill-color: #D2E3FC;\n",
              "      --hover-bg-color: #434B5C;\n",
              "      --hover-fill-color: #FFFFFF;\n",
              "      --disabled-bg-color: #3B4455;\n",
              "      --disabled-fill-color: #666;\n",
              "  }\n",
              "\n",
              "  .colab-df-quickchart {\n",
              "    background-color: var(--bg-color);\n",
              "    border: none;\n",
              "    border-radius: 50%;\n",
              "    cursor: pointer;\n",
              "    display: none;\n",
              "    fill: var(--fill-color);\n",
              "    height: 32px;\n",
              "    padding: 0;\n",
              "    width: 32px;\n",
              "  }\n",
              "\n",
              "  .colab-df-quickchart:hover {\n",
              "    background-color: var(--hover-bg-color);\n",
              "    box-shadow: 0 1px 2px rgba(60, 64, 67, 0.3), 0 1px 3px 1px rgba(60, 64, 67, 0.15);\n",
              "    fill: var(--button-hover-fill-color);\n",
              "  }\n",
              "\n",
              "  .colab-df-quickchart-complete:disabled,\n",
              "  .colab-df-quickchart-complete:disabled:hover {\n",
              "    background-color: var(--disabled-bg-color);\n",
              "    fill: var(--disabled-fill-color);\n",
              "    box-shadow: none;\n",
              "  }\n",
              "\n",
              "  .colab-df-spinner {\n",
              "    border: 2px solid var(--fill-color);\n",
              "    border-color: transparent;\n",
              "    border-bottom-color: var(--fill-color);\n",
              "    animation:\n",
              "      spin 1s steps(1) infinite;\n",
              "  }\n",
              "\n",
              "  @keyframes spin {\n",
              "    0% {\n",
              "      border-color: transparent;\n",
              "      border-bottom-color: var(--fill-color);\n",
              "      border-left-color: var(--fill-color);\n",
              "    }\n",
              "    20% {\n",
              "      border-color: transparent;\n",
              "      border-left-color: var(--fill-color);\n",
              "      border-top-color: var(--fill-color);\n",
              "    }\n",
              "    30% {\n",
              "      border-color: transparent;\n",
              "      border-left-color: var(--fill-color);\n",
              "      border-top-color: var(--fill-color);\n",
              "      border-right-color: var(--fill-color);\n",
              "    }\n",
              "    40% {\n",
              "      border-color: transparent;\n",
              "      border-right-color: var(--fill-color);\n",
              "      border-top-color: var(--fill-color);\n",
              "    }\n",
              "    60% {\n",
              "      border-color: transparent;\n",
              "      border-right-color: var(--fill-color);\n",
              "    }\n",
              "    80% {\n",
              "      border-color: transparent;\n",
              "      border-right-color: var(--fill-color);\n",
              "      border-bottom-color: var(--fill-color);\n",
              "    }\n",
              "    90% {\n",
              "      border-color: transparent;\n",
              "      border-bottom-color: var(--fill-color);\n",
              "    }\n",
              "  }\n",
              "</style>\n",
              "\n",
              "      <script>\n",
              "        async function quickchart(key) {\n",
              "          const quickchartButtonEl =\n",
              "            document.querySelector('#' + key + ' button');\n",
              "          quickchartButtonEl.disabled = true;  // To prevent multiple clicks.\n",
              "          quickchartButtonEl.classList.add('colab-df-spinner');\n",
              "          try {\n",
              "            const charts = await google.colab.kernel.invokeFunction(\n",
              "                'suggestCharts', [key], {});\n",
              "          } catch (error) {\n",
              "            console.error('Error during call to suggestCharts:', error);\n",
              "          }\n",
              "          quickchartButtonEl.classList.remove('colab-df-spinner');\n",
              "          quickchartButtonEl.classList.add('colab-df-quickchart-complete');\n",
              "        }\n",
              "        (() => {\n",
              "          let quickchartButtonEl =\n",
              "            document.querySelector('#df-637db315-60a8-468f-8bce-371220b8251b button');\n",
              "          quickchartButtonEl.style.display =\n",
              "            google.colab.kernel.accessAllowed ? 'block' : 'none';\n",
              "        })();\n",
              "      </script>\n",
              "    </div>\n",
              "\n",
              "    </div>\n",
              "  </div>\n"
            ],
            "application/vnd.google.colaboratory.intrinsic+json": {
              "type": "dataframe",
              "summary": "{\n  \"name\": \"df\",\n  \"rows\": 5,\n  \"fields\": [\n    {\n      \"column\": \"tweet_text\",\n      \"properties\": {\n        \"dtype\": \"string\",\n        \"num_unique_values\": 5,\n        \"samples\": [\n          \"Turner did not withhold his disappointment. Turner called the court an \\u201cabominable conclave of negro hating demons\\u201d (with one exception) who \\u201cissued another decree that colored men and women must be driven into Jim Crow cars whenever it suits the whim of any white community.\\u201d\",\n          \"Bro. U gotta chill RT @CHILLShrammy: Dog FUCK KP that dumb nigger bitch lmao\",\n          \"I swear to God. This dumb nigger bitch. I have got to bleach my hair reeeeeal fuckin' soon. D:&lt; FUCK.\"\n        ],\n        \"semantic_type\": \"\",\n        \"description\": \"\"\n      }\n    },\n    {\n      \"column\": \"cyberbullying_type\",\n      \"properties\": {\n        \"dtype\": \"category\",\n        \"num_unique_values\": 1,\n        \"samples\": [\n          \"ethnicity\"\n        ],\n        \"semantic_type\": \"\",\n        \"description\": \"\"\n      }\n    }\n  ]\n}"
            }
          },
          "metadata": {},
          "execution_count": 68
        }
      ]
    },
    {
      "cell_type": "code",
      "source": [
        "print(df.columns)"
      ],
      "metadata": {
        "colab": {
          "base_uri": "https://localhost:8080/"
        },
        "id": "-Qscnx5_aTC4",
        "outputId": "5b889b04-bc0b-4335-d9e7-e0c189842423"
      },
      "execution_count": 66,
      "outputs": [
        {
          "output_type": "stream",
          "name": "stdout",
          "text": [
            "Index(['tweet_text', 'cyberbullying_type'], dtype='object')\n"
          ]
        }
      ]
    },
    {
      "cell_type": "code",
      "source": [
        "import pandas as pd\n",
        "\n",
        "# Working URL for a cyberbullying dataset\n",
        "url = \"https://raw.githubusercontent.com/Amit614/Cyberbullying-Classification/main/cyberbullying_tweets.csv\"\n",
        "\n",
        "# Load the dataset\n",
        "df = pd.read_csv(url)\n",
        "\n",
        "# Display info and preview\n",
        "print(\"🔎 Dataset Info:\")\n",
        "print(df.info())\n",
        "print(\"\\n📊 First 5 rows:\")\n",
        "print(df.head())\n",
        "\n",
        "# Continue with cleaning\n",
        "# Step 3: Class distribution\n",
        "print(\"\\n📈 Class distribution:\")\n",
        "print(df['cyberbullying_type'].value_counts())\n",
        "\n",
        "# Optional bar chart\n",
        "import matplotlib.pyplot as plt\n",
        "df['cyberbullying_type'].value_counts().plot(kind='bar')\n",
        "plt.title(\"Distribution of Cyberbullying Types\")\n",
        "plt.xlabel(\"Cyberbullying Type\")\n",
        "plt.ylabel(\"Count\")\n",
        "plt.show()\n",
        "\n",
        "# Step 4: Cleaning\n",
        "df = df.dropna()\n",
        "df = df.drop_duplicates()\n",
        "df = df[~df['tweet_text'].str.contains(\"http\", na=False)]\n",
        "df = df[df['tweet_text'].str.len() > 10]\n",
        "\n",
        "print(\"\\n✅ Cleaned dataset shape:\", df.shape)\n",
        "print(\"Remaining classes after cleaning:\\n\", df['cyberbullying_type'].value_counts())\n"
      ],
      "metadata": {
        "colab": {
          "base_uri": "https://localhost:8080/",
          "height": 1000
        },
        "id": "mIo1qNkxagq7",
        "outputId": "da1ed06c-4820-445b-bf2a-0a8da3fe32bd"
      },
      "execution_count": 64,
      "outputs": [
        {
          "output_type": "stream",
          "name": "stdout",
          "text": [
            "🔎 Dataset Info:\n",
            "<class 'pandas.core.frame.DataFrame'>\n",
            "RangeIndex: 47692 entries, 0 to 47691\n",
            "Data columns (total 2 columns):\n",
            " #   Column              Non-Null Count  Dtype \n",
            "---  ------              --------------  ----- \n",
            " 0   tweet_text          47692 non-null  object\n",
            " 1   cyberbullying_type  47692 non-null  object\n",
            "dtypes: object(2)\n",
            "memory usage: 745.3+ KB\n",
            "None\n",
            "\n",
            "📊 First 5 rows:\n",
            "                                          tweet_text cyberbullying_type\n",
            "0  In other words #katandandre, your food was cra...  not_cyberbullying\n",
            "1  Why is #aussietv so white? #MKR #theblock #ImA...  not_cyberbullying\n",
            "2  @XochitlSuckkks a classy whore? Or more red ve...  not_cyberbullying\n",
            "3  @Jason_Gio meh. :P  thanks for the heads up, b...  not_cyberbullying\n",
            "4  @RudhoeEnglish This is an ISIS account pretend...  not_cyberbullying\n",
            "\n",
            "📈 Class distribution:\n",
            "cyberbullying_type\n",
            "religion               7998\n",
            "age                    7992\n",
            "gender                 7973\n",
            "ethnicity              7961\n",
            "not_cyberbullying      7945\n",
            "other_cyberbullying    7823\n",
            "Name: count, dtype: int64\n"
          ]
        },
        {
          "output_type": "display_data",
          "data": {
            "text/plain": [
              "<Figure size 640x480 with 1 Axes>"
            ],
            "image/png": "[encoded data removed]"
          },
          "metadata": {}
        },
        {
          "output_type": "stream",
          "name": "stdout",
          "text": [
            "\n",
            "✅ Cleaned dataset shape: (43189, 2)\n",
            "Remaining classes after cleaning:\n",
            " cyberbullying_type\n",
            "age                    7804\n",
            "ethnicity              7619\n",
            "religion               7450\n",
            "gender                 7086\n",
            "not_cyberbullying      6762\n",
            "other_cyberbullying    6468\n",
            "Name: count, dtype: int64\n"
          ]
        }
      ]
    },
    {
      "cell_type": "code",
      "source": [
        "# Step 1: Print all column names to see what's available\n",
        "print(\"Available columns:\", df.columns.tolist())\n",
        "\n",
        "# Step 2: Define possible name variations\n",
        "text_col_options = ['tweet_text', 'Tweet', 'text', 'content']\n",
        "label_col_options = ['cyberbullying_type', 'cyber_bullying_type', 'Cyberbullying_Type']\n",
        "\n",
        "# Step 3: Find actual column names\n",
        "text_col = next((col for col in text_col_options if col in df.columns), None)\n",
        "label_col = next((col for col in label_col_options if col in df.columns), None)\n",
        "\n",
        "# Step 4: If found, rename and assign X and y\n",
        "if text_col and label_col:\n",
        "    df = df.rename(columns={text_col: 'tweet_text', label_col: 'cyberbullying_type'})\n",
        "\n",
        "    # Assign features and labels\n",
        "    X = df['tweet_text']                # features\n",
        "    y = df['cyberbullying_type']        # target\n",
        "\n",
        "    print(\"✅ X and y assigned successfully.\")\n",
        "    print(\"Sample X:\", X.head(2).tolist())\n",
        "    print(\"Sample y:\", y.head(2).tolist())\n",
        "else:\n",
        "    print(\"❌ Required columns not found. Please check your dataset.\")\n"
      ],
      "metadata": {
        "id": "rKepe8DaajTk",
        "colab": {
          "base_uri": "https://localhost:8080/"
        },
        "outputId": "bd48b4dc-744c-4bfe-e9b1-82e351fcb44a"
      },
      "execution_count": 62,
      "outputs": [
        {
          "output_type": "stream",
          "name": "stdout",
          "text": [
            "Available columns: ['tweet_text', 'cyberbullying_type']\n",
            "✅ X and y assigned successfully.\n",
            "Sample X: ['In other words #katandandre, your food was crapilicious! #mkr', 'Why is #aussietv so white? #MKR #theblock #ImACelebrityAU #today #sunrise #studio10 #Neighbours #WonderlandTen #etc']\n",
            "Sample y: ['not_cyberbullying', 'not_cyberbullying']\n"
          ]
        }
      ]
    },
    {
      "cell_type": "code",
      "source": [
        "from sklearn.model_selection import train_test_split\n",
        "\n",
        "X_train, X_test, y_train, y_test = train_test_split(\n",
        "    X, y, test_size=0.2, random_state=42, stratify=y\n",
        ")"
      ],
      "metadata": {
        "id": "RogyW8tnamct"
      },
      "execution_count": 63,
      "outputs": []
    },
    {
      "cell_type": "code",
      "source": [
        "# Remove rows with null values\n",
        "df = df.dropna()\n",
        "\n",
        "print(\"After removing nulls:\", df.shape)"
      ],
      "metadata": {
        "colab": {
          "base_uri": "https://localhost:8080/"
        },
        "id": "YRaPgWYqa3XE",
        "outputId": "41368254-b5a0-4ea6-9e2c-b0587deda9f4"
      },
      "execution_count": 51,
      "outputs": [
        {
          "output_type": "stream",
          "name": "stdout",
          "text": [
            "After removing nulls: (8, 2)\n"
          ]
        }
      ]
    },
    {
      "cell_type": "code",
      "source": [
        "# Remove duplicate rows\n",
        "df = df.drop_duplicates()\n",
        "\n",
        "print(\"After removing duplicates:\", df.shape)"
      ],
      "metadata": {
        "colab": {
          "base_uri": "https://localhost:8080/"
        },
        "id": "4MIlN0wFa8Ve",
        "outputId": "668ccd80-7a07-465a-aa95-3b6b351393ff"
      },
      "execution_count": 9,
      "outputs": [
        {
          "output_type": "stream",
          "name": "stdout",
          "text": [
            "After removing duplicates: (47647, 2)\n"
          ]
        }
      ]
    },
    {
      "cell_type": "code",
      "source": [
        "df['tweet_text']"
      ],
      "metadata": {
        "colab": {
          "base_uri": "https://localhost:8080/",
          "height": 458
        },
        "id": "SVJ_wLjja_mp",
        "outputId": "152925e5-baeb-40f7-ed48-ee4c2648bc5c"
      },
      "execution_count": 10,
      "outputs": [
        {
          "output_type": "execute_result",
          "data": {
            "text/plain": [
              "0        In other words #katandandre, your food was cra...\n",
              "1        Why is #aussietv so white? #MKR #theblock #ImA...\n",
              "2        @XochitlSuckkks a classy whore? Or more red ve...\n",
              "3        @Jason_Gio meh. :P  thanks for the heads up, b...\n",
              "4        @RudhoeEnglish This is an ISIS account pretend...\n",
              "                               ...                        \n",
              "47971    Black ppl aren't expected to do anything, depe...\n",
              "47972    Turner did not withhold his disappointment. Tu...\n",
              "47973    I swear to God. This dumb nigger bitch. I have...\n",
              "47974    Yea fuck you RT @therealexel: IF YOURE A NIGGE...\n",
              "47975    Bro. U gotta chill RT @CHILLShrammy: Dog FUCK ...\n",
              "Name: tweet_text, Length: 47647, dtype: object"
            ],
            "text/html": [
              "<div>\n",
              "<style scoped>\n",
              "    .dataframe tbody tr th:only-of-type {\n",
              "        vertical-align: middle;\n",
              "    }\n",
              "\n",
              "    .dataframe tbody tr th {\n",
              "        vertical-align: top;\n",
              "    }\n",
              "\n",
              "    .dataframe thead th {\n",
              "        text-align: right;\n",
              "    }\n",
              "</style>\n",
              "<table border=\"1\" class=\"dataframe\">\n",
              "  <thead>\n",
              "    <tr style=\"text-align: right;\">\n",
              "      <th></th>\n",
              "      <th>tweet_text</th>\n",
              "    </tr>\n",
              "  </thead>\n",
              "  <tbody>\n",
              "    <tr>\n",
              "      <th>0</th>\n",
              "      <td>In other words #katandandre, your food was cra...</td>\n",
              "    </tr>\n",
              "    <tr>\n",
              "      <th>1</th>\n",
              "      <td>Why is #aussietv so white? #MKR #theblock #ImA...</td>\n",
              "    </tr>\n",
              "    <tr>\n",
              "      <th>2</th>\n",
              "      <td>@XochitlSuckkks a classy whore? Or more red ve...</td>\n",
              "    </tr>\n",
              "    <tr>\n",
              "      <th>3</th>\n",
              "      <td>@Jason_Gio meh. :P  thanks for the heads up, b...</td>\n",
              "    </tr>\n",
              "    <tr>\n",
              "      <th>4</th>\n",
              "      <td>@RudhoeEnglish This is an ISIS account pretend...</td>\n",
              "    </tr>\n",
              "    <tr>\n",
              "      <th>...</th>\n",
              "      <td>...</td>\n",
              "    </tr>\n",
              "    <tr>\n",
              "      <th>47971</th>\n",
              "      <td>Black ppl aren't expected to do anything, depe...</td>\n",
              "    </tr>\n",
              "    <tr>\n",
              "      <th>47972</th>\n",
              "      <td>Turner did not withhold his disappointment. Tu...</td>\n",
              "    </tr>\n",
              "    <tr>\n",
              "      <th>47973</th>\n",
              "      <td>I swear to God. This dumb nigger bitch. I have...</td>\n",
              "    </tr>\n",
              "    <tr>\n",
              "      <th>47974</th>\n",
              "      <td>Yea fuck you RT @therealexel: IF YOURE A NIGGE...</td>\n",
              "    </tr>\n",
              "    <tr>\n",
              "      <th>47975</th>\n",
              "      <td>Bro. U gotta chill RT @CHILLShrammy: Dog FUCK ...</td>\n",
              "    </tr>\n",
              "  </tbody>\n",
              "</table>\n",
              "<p>47647 rows × 1 columns</p>\n",
              "</div><br><label><b>dtype:</b> object</label>"
            ]
          },
          "metadata": {},
          "execution_count": 10
        }
      ]
    },
    {
      "cell_type": "code",
      "source": [
        "# Correct for your dataset\n",
        "X = df['tweet_text']\n",
        "y = df['cyberbullying_type']"
      ],
      "metadata": {
        "id": "QnrYbzixbP5X"
      },
      "execution_count": 11,
      "outputs": []
    },
    {
      "cell_type": "code",
      "source": [
        "\"\"\"\n",
        "2. Text Preprocessing\n",
        "Lowercase all text.\n",
        "Remove stopwords, punctuation, numbers, and special characters.\n",
        "Tokenize the text into words.\n",
        "Apply stemming or lemmatization.\n",
        "Optionally remove very rare or very frequent words to reduce noise\n",
        "\"\"\""
      ],
      "metadata": {
        "colab": {
          "base_uri": "https://localhost:8080/",
          "height": 53
        },
        "id": "r4-QibBlaC-Q",
        "outputId": "abca4465-7322-4ead-95db-e76f12e2dcf3"
      },
      "execution_count": null,
      "outputs": [
        {
          "output_type": "execute_result",
          "data": {
            "text/plain": [
              "'\\n2. Text Preprocessing\\nLowercase all text.\\nRemove stopwords, punctuation, numbers, and special characters.\\nTokenize the text into words.\\nApply stemming or lemmatization.\\nOptionally remove very rare or very frequent words to reduce noise\\n'"
            ],
            "application/vnd.google.colaboratory.intrinsic+json": {
              "type": "string"
            }
          },
          "metadata": {},
          "execution_count": 11
        }
      ]
    },
    {
      "cell_type": "code",
      "source": [
        "['tweet_text', 'cyberbullying_type']"
      ],
      "metadata": {
        "colab": {
          "base_uri": "https://localhost:8080/"
        },
        "id": "bhL5HepqcC9n",
        "outputId": "b38dc3aa-c44c-4a0c-ae80-4562c9e26420"
      },
      "execution_count": 12,
      "outputs": [
        {
          "output_type": "execute_result",
          "data": {
            "text/plain": [
              "['tweet_text', 'cyberbullying_type']"
            ]
          },
          "metadata": {},
          "execution_count": 12
        }
      ]
    },
    {
      "cell_type": "code",
      "source": [
        "df['tweet_text']          # ✅ correct features\n",
        "df['cyberbullying_type']  # ✅ correct labels"
      ],
      "metadata": {
        "colab": {
          "base_uri": "https://localhost:8080/",
          "height": 458
        },
        "id": "VFHRXG5Ncd15",
        "outputId": "5ab7a08e-8514-43e2-f50b-1baaa9fc7b09"
      },
      "execution_count": 13,
      "outputs": [
        {
          "output_type": "execute_result",
          "data": {
            "text/plain": [
              "0        not_cyberbullying\n",
              "1        not_cyberbullying\n",
              "2        not_cyberbullying\n",
              "3        not_cyberbullying\n",
              "4        not_cyberbullying\n",
              "               ...        \n",
              "47971            ethnicity\n",
              "47972            ethnicity\n",
              "47973            ethnicity\n",
              "47974            ethnicity\n",
              "47975            ethnicity\n",
              "Name: cyberbullying_type, Length: 47647, dtype: object"
            ],
            "text/html": [
              "<div>\n",
              "<style scoped>\n",
              "    .dataframe tbody tr th:only-of-type {\n",
              "        vertical-align: middle;\n",
              "    }\n",
              "\n",
              "    .dataframe tbody tr th {\n",
              "        vertical-align: top;\n",
              "    }\n",
              "\n",
              "    .dataframe thead th {\n",
              "        text-align: right;\n",
              "    }\n",
              "</style>\n",
              "<table border=\"1\" class=\"dataframe\">\n",
              "  <thead>\n",
              "    <tr style=\"text-align: right;\">\n",
              "      <th></th>\n",
              "      <th>cyberbullying_type</th>\n",
              "    </tr>\n",
              "  </thead>\n",
              "  <tbody>\n",
              "    <tr>\n",
              "      <th>0</th>\n",
              "      <td>not_cyberbullying</td>\n",
              "    </tr>\n",
              "    <tr>\n",
              "      <th>1</th>\n",
              "      <td>not_cyberbullying</td>\n",
              "    </tr>\n",
              "    <tr>\n",
              "      <th>2</th>\n",
              "      <td>not_cyberbullying</td>\n",
              "    </tr>\n",
              "    <tr>\n",
              "      <th>3</th>\n",
              "      <td>not_cyberbullying</td>\n",
              "    </tr>\n",
              "    <tr>\n",
              "      <th>4</th>\n",
              "      <td>not_cyberbullying</td>\n",
              "    </tr>\n",
              "    <tr>\n",
              "      <th>...</th>\n",
              "      <td>...</td>\n",
              "    </tr>\n",
              "    <tr>\n",
              "      <th>47971</th>\n",
              "      <td>ethnicity</td>\n",
              "    </tr>\n",
              "    <tr>\n",
              "      <th>47972</th>\n",
              "      <td>ethnicity</td>\n",
              "    </tr>\n",
              "    <tr>\n",
              "      <th>47973</th>\n",
              "      <td>ethnicity</td>\n",
              "    </tr>\n",
              "    <tr>\n",
              "      <th>47974</th>\n",
              "      <td>ethnicity</td>\n",
              "    </tr>\n",
              "    <tr>\n",
              "      <th>47975</th>\n",
              "      <td>ethnicity</td>\n",
              "    </tr>\n",
              "  </tbody>\n",
              "</table>\n",
              "<p>47647 rows × 1 columns</p>\n",
              "</div><br><label><b>dtype:</b> object</label>"
            ]
          },
          "metadata": {},
          "execution_count": 13
        }
      ]
    },
    {
      "cell_type": "code",
      "source": [
        "import nltk\n",
        "nltk.download('punkt')\n",
        "nltk.download('punkt_tab')  # new requirement in latest NLTK\n",
        "nltk.download('stopwords')\n",
        "nltk.download('wordnet')"
      ],
      "metadata": {
        "colab": {
          "base_uri": "https://localhost:8080/"
        },
        "id": "IDWIUM6IdnBV",
        "outputId": "0ad15d51-6018-4c43-9c2f-e64eb294169d"
      },
      "execution_count": 14,
      "outputs": [
        {
          "output_type": "stream",
          "name": "stderr",
          "text": [
            "[nltk_data] Downloading package punkt to /root/nltk_data...\n",
            "[nltk_data]   Unzipping tokenizers/punkt.zip.\n",
            "[nltk_data] Downloading package punkt_tab to /root/nltk_data...\n",
            "[nltk_data]   Unzipping tokenizers/punkt_tab.zip.\n",
            "[nltk_data] Downloading package stopwords to /root/nltk_data...\n",
            "[nltk_data]   Unzipping corpora/stopwords.zip.\n",
            "[nltk_data] Downloading package wordnet to /root/nltk_data...\n"
          ]
        },
        {
          "output_type": "execute_result",
          "data": {
            "text/plain": [
              "True"
            ]
          },
          "metadata": {},
          "execution_count": 14
        }
      ]
    },
    {
      "cell_type": "code",
      "source": [
        "import pandas as pd\n",
        "import re\n",
        "import nltk\n",
        "from nltk.tokenize import word_tokenize\n",
        "from nltk.corpus import stopwords\n",
        "from nltk.stem import WordNetLemmatizer\n",
        "from collections import Counter\n",
        "\n",
        "# Download NLTK resources (only first time)\n",
        "nltk.download('punkt')\n",
        "nltk.download('stopwords')\n",
        "nltk.download('wordnet')\n",
        "nltk.download('omw-1.4')\n",
        "\n",
        "# 1. Lowercase\n",
        "df['clean_text'] = df['tweet_text'].str.lower()\n",
        "\n",
        "# 2. Remove punctuation, numbers, special characters\n",
        "df['clean_text'] = df['clean_text'].apply(lambda x: re.sub(r'[^a-z\\s]', '', x))\n",
        "\n",
        "# 3. Tokenize\n",
        "df['tokens'] = df['clean_text'].apply(word_tokenize)\n",
        "\n",
        "# 4. Remove stopwords\n",
        "stop_words = set(stopwords.words('english'))\n",
        "df['tokens'] = df['tokens'].apply(lambda x: [word for word in x if word not in stop_words])\n",
        "\n",
        "# 5. Lemmatization\n",
        "lemmatizer = WordNetLemmatizer()\n",
        "df['tokens'] = df['tokens'].apply(lambda x: [lemmatizer.lemmatize(word) for word in x])\n",
        "\n",
        "# 6. (Optional) Remove rare and frequent words\n",
        "all_words = [word for tokens in df['tokens'] for word in tokens]\n",
        "word_freq = Counter(all_words)\n",
        "\n",
        "rare_thresh = 2      # words appearing less than 2 times\n",
        "freq_thresh = 0.9    # words appearing in >90% of documents\n",
        "\n",
        "rare_words = {w for w, c in word_freq.items() if c < rare_thresh}\n",
        "total_docs = len(df)\n",
        "freq_words = {w for w, c in word_freq.items() if c/total_docs > freq_thresh}\n",
        "\n",
        "df['tokens'] = df['tokens'].apply(lambda x: [word for word in x if word not in rare_words and word not in freq_words])\n",
        "\n",
        "# 7. (Optional) Reconstruct tokens back into cleaned sentence\n",
        "df['final_text'] = df['tokens'].apply(lambda x: \" \".join(x))\n",
        "\n",
        "# Check sample\n",
        "print(df[['tweet_text','final_text','cyberbullying_type']].head())"
      ],
      "metadata": {
        "colab": {
          "base_uri": "https://localhost:8080/"
        },
        "id": "-kLYMqN7dcgu",
        "outputId": "818bb821-0fdf-4740-f0b5-9b5221f314df"
      },
      "execution_count": 15,
      "outputs": [
        {
          "output_type": "stream",
          "name": "stderr",
          "text": [
            "[nltk_data] Downloading package punkt to /root/nltk_data...\n",
            "[nltk_data]   Package punkt is already up-to-date!\n",
            "[nltk_data] Downloading package stopwords to /root/nltk_data...\n",
            "[nltk_data]   Package stopwords is already up-to-date!\n",
            "[nltk_data] Downloading package wordnet to /root/nltk_data...\n",
            "[nltk_data]   Package wordnet is already up-to-date!\n",
            "[nltk_data] Downloading package omw-1.4 to /root/nltk_data...\n"
          ]
        },
        {
          "output_type": "stream",
          "name": "stdout",
          "text": [
            "                                          tweet_text  \\\n",
            "0  In other words #katandandre, your food was cra...   \n",
            "1  Why is #aussietv so white? #MKR #theblock #ImA...   \n",
            "2  @XochitlSuckkks a classy whore? Or more red ve...   \n",
            "3  @Jason_Gio meh. :P  thanks for the heads up, b...   \n",
            "4  @RudhoeEnglish This is an ISIS account pretend...   \n",
            "\n",
            "                                          final_text cyberbullying_type  \n",
            "0                          word katandandre food mkr  not_cyberbullying  \n",
            "1  white mkr theblock imacelebrityau today sunris...  not_cyberbullying  \n",
            "2                    classy whore red velvet cupcake  not_cyberbullying  \n",
            "3  jasongio meh p thanks head concerned another a...  not_cyberbullying  \n",
            "4  rudhoeenglish isi account pretending kurdish a...  not_cyberbullying  \n"
          ]
        }
      ]
    },
    {
      "cell_type": "code",
      "source": [
        "\"\"\"\n",
        "3. Feature Extraction & Selection\n",
        "Represent text as numerical features using:\n",
        "TF-IDF vectors (word-level, n-grams, or character-level)\n",
        "Word embeddings (Word2Vec, GloVe, FastText)\n",
        "Transformer-based embeddings (BERT, DistilBERT)\n",
        "Select relevant features (e.g., Chi-Square test, mutual information) to improve efficiency.\n",
        "\"\"\""
      ],
      "metadata": {
        "colab": {
          "base_uri": "https://localhost:8080/",
          "height": 53
        },
        "id": "meXKDeged9V3",
        "outputId": "59d2f415-04dd-4758-f76e-cd05718c318c"
      },
      "execution_count": 16,
      "outputs": [
        {
          "output_type": "execute_result",
          "data": {
            "text/plain": [
              "'\\n3. Feature Extraction & Selection\\nRepresent text as numerical features using:\\nTF-IDF vectors (word-level, n-grams, or character-level)\\nWord embeddings (Word2Vec, GloVe, FastText)\\nTransformer-based embeddings (BERT, DistilBERT)\\nSelect relevant features (e.g., Chi-Square test, mutual information) to improve efficiency.\\n'"
            ],
            "application/vnd.google.colaboratory.intrinsic+json": {
              "type": "string"
            }
          },
          "metadata": {},
          "execution_count": 16
        }
      ]
    },
    {
      "cell_type": "code",
      "source": [
        "# TF-IDF Vectorization\n",
        "from sklearn.feature_extraction.text import TfidfVectorizer\n",
        "\n",
        "# Word-level TF-IDF\n",
        "tfidf = TfidfVectorizer(max_features=5000, ngram_range=(1,2))  # unigrams + bigrams\n",
        "X_tfidf = tfidf.fit_transform(df['final_text'])\n",
        "y = df['cyberbullying_type']\n",
        "\n",
        "print(\"TF-IDF shape:\", X_tfidf.shape)"
      ],
      "metadata": {
        "colab": {
          "base_uri": "https://localhost:8080/"
        },
        "id": "9O2Alme9eBLa",
        "outputId": "077fdfc6-f7bc-4252-aa73-e465fd121803"
      },
      "execution_count": 17,
      "outputs": [
        {
          "output_type": "stream",
          "name": "stdout",
          "text": [
            "TF-IDF shape: (47647, 5000)\n"
          ]
        }
      ]
    },
    {
      "cell_type": "code",
      "source": [
        "# Feature Selection\n",
        "# Chi-Square Test\n",
        "from sklearn.feature_selection import SelectKBest, chi2\n",
        "\n",
        "chi2_selector = SelectKBest(chi2, k=2000)  # keep top 2000 features\n",
        "X_chi2 = chi2_selector.fit_transform(X_tfidf, y)\n",
        "\n",
        "print(\"Chi-Square reduced shape:\", X_chi2.shape)"
      ],
      "metadata": {
        "colab": {
          "base_uri": "https://localhost:8080/"
        },
        "id": "9e6vXUGcewER",
        "outputId": "f4cf5f6a-e97e-4cec-8bd5-299a4b489265"
      },
      "execution_count": 18,
      "outputs": [
        {
          "output_type": "stream",
          "name": "stdout",
          "text": [
            "Chi-Square reduced shape: (47647, 2000)\n"
          ]
        }
      ]
    },
    {
      "cell_type": "code",
      "source": [
        "\"\"\"\n",
        "4. Model Selection\n",
        "Research suitable algorithms for text classification:\n",
        "Logistic Regression\n",
        "Naive Bayes (MultinomialNB)\n",
        "Support Vector Machine (SVM)\n",
        "Random Forest / Gradient Boosting\n",
        "Deep learning models (LSTM, BiLSTM, Transformer-based models)\n",
        "\"\"\""
      ],
      "metadata": {
        "colab": {
          "base_uri": "https://localhost:8080/",
          "height": 53
        },
        "id": "gfsA7-Tcf5nw",
        "outputId": "b5ec0987-6169-4d4b-e038-2bde336080db"
      },
      "execution_count": 19,
      "outputs": [
        {
          "output_type": "execute_result",
          "data": {
            "text/plain": [
              "'\\n4. Model Selection\\nResearch suitable algorithms for text classification:\\nLogistic Regression\\nNaive Bayes (MultinomialNB)\\nSupport Vector Machine (SVM)\\nRandom Forest / Gradient Boosting\\nDeep learning models (LSTM, BiLSTM, Transformer-based models)\\n'"
            ],
            "application/vnd.google.colaboratory.intrinsic+json": {
              "type": "string"
            }
          },
          "metadata": {},
          "execution_count": 19
        }
      ]
    },
    {
      "cell_type": "code",
      "source": [
        "# ===============================\n",
        "# IMPORTS\n",
        "# ===============================\n",
        "import pandas as pd\n",
        "from sklearn.model_selection import train_test_split\n",
        "from sklearn.preprocessing import LabelEncoder\n",
        "from sklearn.feature_extraction.text import TfidfVectorizer\n",
        "\n",
        "# ===============================\n",
        "# LOAD DATA\n",
        "# ===============================\n",
        "df = pd.read_csv(\n",
        "    \"https://raw.githubusercontent.com/ramizcihe/week4-cihe240058/main/cyberbullying_tweets.csv\",\n",
        "    engine='python',         # handles irregular CSVs better\n",
        "    on_bad_lines='skip',     # skips bad lines like line 3070\n",
        "    encoding='utf-8'\n",
        ")\n",
        "\n",
        "# ===============================\n",
        "# QUICK CHECK\n",
        "# ===============================\n",
        "print(\"Columns:\", df.columns)\n",
        "print(\"First 5 rows:\\n\", df.head())\n",
        "print(\"Label distribution:\\n\", df['cyberbullying_type'].value_counts())\n",
        "\n",
        "# ===============================\n",
        "# BASIC CLEANING\n",
        "# ===============================\n",
        "# Remove duplicates\n",
        "df = df.drop_duplicates()\n",
        "\n",
        "# Remove rows with empty tweets or missing data\n",
        "df = df[df['tweet_text'].str.strip() != \"\"]\n",
        "df = df.dropna(subset=['tweet_text', 'cyberbullying_type'])\n",
        "\n",
        "# ===============================\n",
        "# FILTER LABELS FOR STRATIFY\n",
        "# ===============================\n",
        "label_counts = df['cyberbullying_type'].value_counts()\n",
        "valid_labels = label_counts[label_counts >= 2].index\n",
        "df = df[df['cyberbullying_type'].isin(valid_labels)]\n",
        "\n",
        "# ===============================\n",
        "# FEATURE & LABEL\n",
        "# ===============================\n",
        "X = df['tweet_text']\n",
        "y = df['cyberbullying_type']\n",
        "\n",
        "# ===============================\n",
        "# LABEL ENCODING\n",
        "# ===============================\n",
        "label_encoder = LabelEncoder()\n",
        "y_encoded = label_encoder.fit_transform(y)\n",
        "print(\"Classes:\", label_encoder.classes_)\n",
        "\n",
        "# ===============================\n",
        "# TRAIN-TEST SPLIT\n",
        "# ===============================\n",
        "X_train, X_test, y_train, y_test = train_test_split(\n",
        "    X, y_encoded,\n",
        "    test_size=0.2,\n",
        "    random_state=42,\n",
        "    stratify=y_encoded\n",
        ")\n",
        "\n",
        "# ===============================\n",
        "# TEXT VECTORIZATION\n",
        "# ===============================\n",
        "tfidf = TfidfVectorizer(\n",
        "    max_features=5000,\n",
        "    stop_words='english'\n",
        ")\n",
        "X_train_tfidf = tfidf.fit_transform(X_train)\n",
        "X_test_tfidf = tfidf.transform(X_test)\n",
        "\n",
        "# ===============================\n",
        "# READY FOR MODELING\n",
        "# ===============================\n",
        "print(\"Shape of X_train:\", X_train_tfidf.shape)\n",
        "print(\"Shape of X_test:\", X_test_tfidf.shape)\n",
        "print(\"Shape of y_train:\", y_train.shape)\n",
        "print(\"Shape of y_test:\", y_test.shape)\n"
      ],
      "metadata": {
        "colab": {
          "base_uri": "https://localhost:8080/"
        },
        "id": "KPx_b2Ldf0ju",
        "outputId": "66398c82-23ba-4536-8f15-e79279ff9b1e"
      },
      "execution_count": 22,
      "outputs": [
        {
          "output_type": "stream",
          "name": "stdout",
          "text": [
            "Columns: Index(['tweet_text', 'cyberbullying_type'], dtype='object')\n",
            "First 5 rows:\n",
            "                                           tweet_text cyberbullying_type\n",
            "0  In other words #katandandre, your food was cra...  not_cyberbullying\n",
            "1  Why is #aussietv so white? #MKR #theblock #ImA...  not_cyberbullying\n",
            "2  @XochitlSuckkks a classy whore? Or more red ve...  not_cyberbullying\n",
            "3  @Jason_Gio meh. :P  thanks for the heads up, b...  not_cyberbullying\n",
            "4  @RudhoeEnglish This is an ISIS account pretend...  not_cyberbullying\n",
            "Label distribution:\n",
            " cyberbullying_type\n",
            "religion                                                                                                                                         7998\n",
            "age                                                                                                                                              7991\n",
            "gender                                                                                                                                           7971\n",
            "ethnicity                                                                                                                                        7959\n",
            "not_cyberbullying                                                                                                                                7944\n",
            "other_cyberbullying                                                                                                                              7820\n",
            " far out. #mkr                                                                                                                                      1\n",
            " maybe you can explain why there are more than 100 Islamic terrorist groups.                                                                        1\n",
            " that's a winning combo. #MKR                                                                                                                       1\n",
            " they should be safe and Kat and Andre should be going home #MKR                                                                                    1\n",
            " SEE HOW TRULY FOUL THEY ARE AND FIGHT BACK                                                                                                         1\n",
            " or drag a gay man behind a truck joke ? Think a little.                                                                                            1\n",
            " but any other driver would just drive not stop every 2 seconds when an open lane is to your left!                                                  1\n",
            " please.  No Google.                                                                                                                                1\n",
            " the reason why Lloyd hasn't proposed yet is because he is gay. Really gay. #mkr                                                                    1\n",
            " you probably don't love them.                                                                                                                      1\n",
            " crazy bitch                                                                                                                                        1\n",
            " how true.                                                                                                                                          1\n",
            " i think.                                                                                                                                           1\n",
            " windows people. Is there any free app (other than puppet) that will allow me to define apps to install on new PCs?                                 1\n",
            " I'll likely approve it. If I don't know you... meh. maybe.                                                                                         1\n",
            " the same techniques are applied to supporters to make sure that stops.                                                                             1\n",
            " we should talk. I was just about to send an email over to them right before I was told it was retracted.                                           1\n",
            " i'm literally blue. no taksies backsies.                                                                                                           1\n",
            " but I wont tolerate bullying or haranguing.                                                                                                        1\n",
            " I will play Exodia Mage which some idiots won games on rank 15 with in TOC Vienna. 2 Days till deck sâ¦                                           1\n",
            " darling MRAs. You making jabs at my appearance won't keep me from working to provide tools so others can shut you down. &lt;3                      1\n",
            " sweetie. I don't do passive aggressive. I'm aggressive aggressive. http://t.co/lge7WMbCdW                                                          1\n",
            " someone DMed me a screenshot. meh. let her. i have no idea who she even is.                                                                        1\n",
            " we definitely need to be able to respond to those appropriately. But most toxicity isn't this.                                                     1\n",
            " but do nothing beyond get RTed.                                                                                                                    1\n",
            " is that what happened? i keep hitting the wrong button.                                                                                            1\n",
            " it's the rejected first draft of To Kill A Mockingbird befor…                                                                                      1\n",
            " think I might try pomegranate in a cous cous salad.. Sounds yum  #MKR                                                                              1\n",
            " but they're beliefs are nothing like it.  So I don't (1/2)                                                                                         1\n",
            " zachs mom was kind of rude to you. she should know better than to say that.                                                                        1\n",
            " especially. appropriation of terms. text filters just don't work.                                                                                  1\n",
            " no. text filters are too high-risk.                                                                                                                1\n",
            " this happened. http://t.co/ZPTRtsYFiV                                                                                                              1\n",
            " one way or another.                                                                                                                                1\n",
            " WATCH US LOSE TO SWANSEA AND RELEGATION WILL BE IMMINENT                                                                                           1\n",
            " now she attacks unprovoked! She's a bigger bully than the Divas of Destruction!                                                                    1\n",
            " hands down. DC chars seem to emo.                                                                                                                  1\n",
            " that's kind of where their - and YOUR - involvement ends. @PendragonTarot                                                                          1\n",
            " suddenly he sees a problem                                                                                                                         1\n",
            " lady troll is a fuckin trick. https://t.co/KaTUmo83cB                                                                                              1\n",
            " but not insurmountable. People can learn. http://t.co/SUrQwclIoU                                                                                   1\n",
            " fino!                                                                                                                                              1\n",
            " brehâ¦ these niggas are horribly corny. I feel like youâre insulting my intelligence. These dweebs need help                                    1\n",
            " save me.                                                                                                                                           1\n",
            " made me a stronger person.                                                                                                                         1\n",
            " and then we have to apologize for them. Celebrities aren't special.                                                                                1\n",
            " they were all looking for a fight. They’re nothing more than a bunch of insecure school yard bullies that need the snot knocked out of them.       1\n",
            " DUMB HO NIGGER BISH. &lt; you sound a little mad. Lmaoooo.                                                                                         1\n",
            " but instead their ingrained racism will only pick up on the detail in which a Black woman refuses to help. Divide n conquer tactics at play        1\n",
            " dumb ass nigger                                                                                                                                    1\n",
            "Name: count, dtype: int64\n",
            "Classes: ['age' 'ethnicity' 'gender' 'not_cyberbullying' 'other_cyberbullying'\n",
            " 'religion']\n",
            "Shape of X_train: (38117, 5000)\n",
            "Shape of X_test: (9530, 5000)\n",
            "Shape of y_train: (38117,)\n",
            "Shape of y_test: (9530,)\n"
          ]
        }
      ]
    },
    {
      "cell_type": "code",
      "source": [
        "import pandas as pd\n",
        "import numpy as np\n",
        "from sklearn.preprocessing import LabelEncoder\n",
        "from sklearn.model_selection import train_test_split\n",
        "from tensorflow.keras.preprocessing.text import Tokenizer\n",
        "from tensorflow.keras.preprocessing.sequence import pad_sequences\n",
        "from tensorflow.keras.models import Sequential\n",
        "from tensorflow.keras.layers import Embedding, LSTM, Dense, Bidirectional\n",
        "from tensorflow.keras.utils import to_categorical\n",
        "\n",
        "# Load CSV from correct raw URL and skip bad lines\n",
        "url = \"https://raw.githubusercontent.com/ramizcihe/week4-cihe240058/main/cyberbullying_tweets.csv\"\n",
        "df = pd.read_csv(url, engine='python', on_bad_lines='skip', encoding='utf-8')\n",
        "\n",
        "# Basic cleaning\n",
        "df = df.drop_duplicates()\n",
        "df = df[df['tweet_text'].str.strip() != \"\"]\n",
        "df = df.dropna(subset=['tweet_text', 'cyberbullying_type'])\n",
        "\n",
        "# Label encoding\n",
        "label_encoder = LabelEncoder()\n",
        "y = label_encoder.fit_transform(df['cyberbullying_type'])\n",
        "\n",
        "# Filter labels with at least 2 samples to avoid stratify error\n",
        "label_counts = pd.Series(y).value_counts()\n",
        "valid_labels = label_counts[label_counts >= 2].index\n",
        "mask = np.isin(y, valid_labels)\n",
        "\n",
        "X_filtered = df.loc[mask, 'tweet_text']\n",
        "y_filtered = y[mask]\n",
        "\n",
        "# Convert filtered labels to categorical\n",
        "# Note: np.searchsorted aligns y_filtered to valid_labels index space\n",
        "y_categorical_filtered = to_categorical(np.searchsorted(valid_labels, y_filtered))\n",
        "\n",
        "# Train-test split with stratification\n",
        "X_train, X_test, y_train, y_test = train_test_split(\n",
        "    X_filtered,\n",
        "    y_categorical_filtered,\n",
        "    test_size=0.2,\n",
        "    random_state=42,\n",
        "    stratify=y_categorical_filtered.argmax(axis=1)\n",
        ")\n",
        "\n",
        "# Tokenization and padding\n",
        "max_words = 10000\n",
        "max_len = 100\n",
        "\n",
        "tokenizer = Tokenizer(num_words=max_words, oov_token=\"<OOV>\")\n",
        "tokenizer.fit_on_texts(X_train)\n",
        "\n",
        "X_train_seq = tokenizer.texts_to_sequences(X_train)\n",
        "X_test_seq = tokenizer.texts_to_sequences(X_test)\n",
        "\n",
        "X_train_pad = pad_sequences(X_train_seq, maxlen=max_len, padding='post', truncating='post')\n",
        "X_test_pad = pad_sequences(X_test_seq, maxlen=max_len, padding='post', truncating='post')\n",
        "\n",
        "# Define BiLSTM model\n",
        "model = Sequential([\n",
        "    Embedding(input_dim=max_words, output_dim=128, input_length=max_len),\n",
        "    Bidirectional(LSTM(64)),\n",
        "    Dense(y_categorical_filtered.shape[1], activation='softmax')\n",
        "])\n",
        "\n",
        "model.compile(loss='categorical_crossentropy', optimizer='adam', metrics=['accuracy'])\n",
        "model.summary()\n",
        "\n",
        "# Train the model\n",
        "history = model.fit(\n",
        "    X_train_pad, y_train,\n",
        "    epochs=5,\n",
        "    batch_size=64,\n",
        "    validation_split=0.1\n",
        ")\n",
        "\n",
        "# Evaluate the model\n",
        "loss, accuracy = model.evaluate(X_test_pad, y_test)\n",
        "print(f\"Test Accuracy: {accuracy * 100:.2f}%\")\n"
      ],
      "metadata": {
        "colab": {
          "base_uri": "https://localhost:8080/",
          "height": 468
        },
        "id": "lcmXb9nIg3yG",
        "outputId": "140ab0f3-8d29-4330-a027-07100e3728b3"
      },
      "execution_count": 25,
      "outputs": [
        {
          "output_type": "stream",
          "name": "stderr",
          "text": [
            "/usr/local/lib/python3.11/dist-packages/keras/src/layers/core/embedding.py:97: UserWarning: Argument `input_length` is deprecated. Just remove it.\n",
            "  warnings.warn(\n"
          ]
        },
        {
          "output_type": "display_data",
          "data": {
            "text/plain": [
              "\u001b[1mModel: \"sequential\"\u001b[0m\n"
            ],
            "text/html": [
              "<pre style=\"white-space:pre;overflow-x:auto;line-height:normal;font-family:Menlo,'DejaVu Sans Mono',consolas,'Courier New',monospace\"><span style=\"font-weight: bold\">Model: \"sequential\"</span>\n",
              "</pre>\n"
            ]
          },
          "metadata": {}
        },
        {
          "output_type": "display_data",
          "data": {
            "text/plain": [
              "┏━━━━━━━━━━━━━━━━━━━━━━━━━━━━━━━━━┳━━━━━━━━━━━━━━━━━━━━━━━━┳━━━━━━━━━━━━━━━┓\n",
              "┃\u001b[1m \u001b[0m\u001b[1mLayer (type)                   \u001b[0m\u001b[1m \u001b[0m┃\u001b[1m \u001b[0m\u001b[1mOutput Shape          \u001b[0m\u001b[1m \u001b[0m┃\u001b[1m \u001b[0m\u001b[1m      Param #\u001b[0m\u001b[1m \u001b[0m┃\n",
              "┡━━━━━━━━━━━━━━━━━━━━━━━━━━━━━━━━━╇━━━━━━━━━━━━━━━━━━━━━━━━╇━━━━━━━━━━━━━━━┩\n",
              "│ embedding (\u001b[38;5;33mEmbedding\u001b[0m)           │ ?                      │   \u001b[38;5;34m0\u001b[0m (unbuilt) │\n",
              "├─────────────────────────────────┼────────────────────────┼───────────────┤\n",
              "│ bidirectional (\u001b[38;5;33mBidirectional\u001b[0m)   │ ?                      │   \u001b[38;5;34m0\u001b[0m (unbuilt) │\n",
              "├─────────────────────────────────┼────────────────────────┼───────────────┤\n",
              "│ dense (\u001b[38;5;33mDense\u001b[0m)                   │ ?                      │   \u001b[38;5;34m0\u001b[0m (unbuilt) │\n",
              "└─────────────────────────────────┴────────────────────────┴───────────────┘\n"
            ],
            "text/html": [
              "<pre style=\"white-space:pre;overflow-x:auto;line-height:normal;font-family:Menlo,'DejaVu Sans Mono',consolas,'Courier New',monospace\">┏━━━━━━━━━━━━━━━━━━━━━━━━━━━━━━━━━┳━━━━━━━━━━━━━━━━━━━━━━━━┳━━━━━━━━━━━━━━━┓\n",
              "┃<span style=\"font-weight: bold\"> Layer (type)                    </span>┃<span style=\"font-weight: bold\"> Output Shape           </span>┃<span style=\"font-weight: bold\">       Param # </span>┃\n",
              "┡━━━━━━━━━━━━━━━━━━━━━━━━━━━━━━━━━╇━━━━━━━━━━━━━━━━━━━━━━━━╇━━━━━━━━━━━━━━━┩\n",
              "│ embedding (<span style=\"color: #0087ff; text-decoration-color: #0087ff\">Embedding</span>)           │ ?                      │   <span style=\"color: #00af00; text-decoration-color: #00af00\">0</span> (unbuilt) │\n",
              "├─────────────────────────────────┼────────────────────────┼───────────────┤\n",
              "│ bidirectional (<span style=\"color: #0087ff; text-decoration-color: #0087ff\">Bidirectional</span>)   │ ?                      │   <span style=\"color: #00af00; text-decoration-color: #00af00\">0</span> (unbuilt) │\n",
              "├─────────────────────────────────┼────────────────────────┼───────────────┤\n",
              "│ dense (<span style=\"color: #0087ff; text-decoration-color: #0087ff\">Dense</span>)                   │ ?                      │   <span style=\"color: #00af00; text-decoration-color: #00af00\">0</span> (unbuilt) │\n",
              "└─────────────────────────────────┴────────────────────────┴───────────────┘\n",
              "</pre>\n"
            ]
          },
          "metadata": {}
        },
        {
          "output_type": "display_data",
          "data": {
            "text/plain": [
              "\u001b[1m Total params: \u001b[0m\u001b[38;5;34m0\u001b[0m (0.00 B)\n"
            ],
            "text/html": [
              "<pre style=\"white-space:pre;overflow-x:auto;line-height:normal;font-family:Menlo,'DejaVu Sans Mono',consolas,'Courier New',monospace\"><span style=\"font-weight: bold\"> Total params: </span><span style=\"color: #00af00; text-decoration-color: #00af00\">0</span> (0.00 B)\n",
              "</pre>\n"
            ]
          },
          "metadata": {}
        },
        {
          "output_type": "display_data",
          "data": {
            "text/plain": [
              "\u001b[1m Trainable params: \u001b[0m\u001b[38;5;34m0\u001b[0m (0.00 B)\n"
            ],
            "text/html": [
              "<pre style=\"white-space:pre;overflow-x:auto;line-height:normal;font-family:Menlo,'DejaVu Sans Mono',consolas,'Courier New',monospace\"><span style=\"font-weight: bold\"> Trainable params: </span><span style=\"color: #00af00; text-decoration-color: #00af00\">0</span> (0.00 B)\n",
              "</pre>\n"
            ]
          },
          "metadata": {}
        },
        {
          "output_type": "display_data",
          "data": {
            "text/plain": [
              "\u001b[1m Non-trainable params: \u001b[0m\u001b[38;5;34m0\u001b[0m (0.00 B)\n"
            ],
            "text/html": [
              "<pre style=\"white-space:pre;overflow-x:auto;line-height:normal;font-family:Menlo,'DejaVu Sans Mono',consolas,'Courier New',monospace\"><span style=\"font-weight: bold\"> Non-trainable params: </span><span style=\"color: #00af00; text-decoration-color: #00af00\">0</span> (0.00 B)\n",
              "</pre>\n"
            ]
          },
          "metadata": {}
        },
        {
          "output_type": "stream",
          "name": "stdout",
          "text": [
            "Epoch 1/5\n",
            "\u001b[1m537/537\u001b[0m \u001b[32m━━━━━━━━━━━━━━━━━━━━\u001b[0m\u001b[37m\u001b[0m \u001b[1m142s\u001b[0m 257ms/step - accuracy: 0.5888 - loss: 1.0043 - val_accuracy: 0.8119 - val_loss: 0.4388\n",
            "Epoch 2/5\n",
            "\u001b[1m537/537\u001b[0m \u001b[32m━━━━━━━━━━━━━━━━━━━━\u001b[0m\u001b[37m\u001b[0m \u001b[1m141s\u001b[0m 257ms/step - accuracy: 0.8558 - loss: 0.3486 - val_accuracy: 0.8392 - val_loss: 0.3947\n",
            "Epoch 3/5\n",
            "\u001b[1m537/537\u001b[0m \u001b[32m━━━━━━━━━━━━━━━━━━━━\u001b[0m\u001b[37m\u001b[0m \u001b[1m139s\u001b[0m 258ms/step - accuracy: 0.8900 - loss: 0.2743 - val_accuracy: 0.8350 - val_loss: 0.4104\n",
            "Epoch 4/5\n",
            "\u001b[1m537/537\u001b[0m \u001b[32m━━━━━━━━━━━━━━━━━━━━\u001b[0m\u001b[37m\u001b[0m \u001b[1m141s\u001b[0m 257ms/step - accuracy: 0.9110 - loss: 0.2288 - val_accuracy: 0.8313 - val_loss: 0.4464\n",
            "Epoch 5/5\n",
            "\u001b[1m537/537\u001b[0m \u001b[32m━━━━━━━━━━━━━━━━━━━━\u001b[0m\u001b[37m\u001b[0m \u001b[1m141s\u001b[0m 255ms/step - accuracy: 0.9220 - loss: 0.1908 - val_accuracy: 0.8279 - val_loss: 0.4754\n",
            "\u001b[1m298/298\u001b[0m \u001b[32m━━━━━━━━━━━━━━━━━━━━\u001b[0m\u001b[37m\u001b[0m \u001b[1m10s\u001b[0m 34ms/step - accuracy: 0.8230 - loss: 0.4767\n",
            "Test Accuracy: 82.70%\n"
          ]
        }
      ]
    },
    {
      "cell_type": "code",
      "source": [
        "print(df.columns)"
      ],
      "metadata": {
        "colab": {
          "base_uri": "https://localhost:8080/"
        },
        "id": "GqYWtAUSlcIy",
        "outputId": "d138875c-89c3-42a7-df26-4fd2bc613351"
      },
      "execution_count": 27,
      "outputs": [
        {
          "output_type": "stream",
          "name": "stdout",
          "text": [
            "Index(['tweet_text', 'cyberbullying_type'], dtype='object')\n"
          ]
        }
      ]
    },
    {
      "cell_type": "code",
      "source": [
        "\"\"\"\n",
        "5. Dataset Splitting\n",
        "Split into training (70%), validation (15%), and test (15%) sets.\n",
        "Use stratified splitting to maintain class proportion.\n",
        "\"\"\""
      ],
      "metadata": {
        "colab": {
          "base_uri": "https://localhost:8080/",
          "height": 36
        },
        "id": "e-yrspp0gdMc",
        "outputId": "a1252e7c-2320-4784-a7a1-94ddb6f912d7"
      },
      "execution_count": 28,
      "outputs": [
        {
          "output_type": "execute_result",
          "data": {
            "text/plain": [
              "'\\n5. Dataset Splitting\\nSplit into training (70%), validation (15%), and test (15%) sets.\\nUse stratified splitting to maintain class proportion.\\n'"
            ],
            "application/vnd.google.colaboratory.intrinsic+json": {
              "type": "string"
            }
          },
          "metadata": {},
          "execution_count": 28
        }
      ]
    },
    {
      "cell_type": "code",
      "source": [
        "import pandas as pd\n",
        "from sklearn.model_selection import train_test_split\n",
        "import numpy as np\n",
        "\n",
        "# Load CSV safely\n",
        "url = \"https://raw.githubusercontent.com/ramizcihe/week4-cihe240058/main/cyberbullying_tweets.csv\"\n",
        "df = pd.read_csv(url, engine='python', on_bad_lines='skip', encoding='utf-8')\n",
        "\n",
        "# Drop missing values in important columns\n",
        "df = df.dropna(subset=['tweet_text', 'cyberbullying_type'])\n",
        "\n",
        "# Get label counts\n",
        "label_counts = df['cyberbullying_type'].value_counts()\n",
        "\n",
        "# Keep only classes with at least 2 samples\n",
        "valid_labels = label_counts[label_counts >= 2].index\n",
        "\n",
        "# Filter dataset for valid classes only\n",
        "df_filtered = df[df['cyberbullying_type'].isin(valid_labels)]\n",
        "\n",
        "X = df_filtered['tweet_text']\n",
        "y = df_filtered['cyberbullying_type']\n",
        "\n",
        "# Stratified train/temp split (70/30)\n",
        "X_train, X_temp, y_train, y_temp = train_test_split(\n",
        "    X, y, test_size=0.3, stratify=y, random_state=42\n",
        ")\n",
        "\n",
        "# Stratified val/test split (15/15)\n",
        "X_val, X_test, y_val, y_test = train_test_split(\n",
        "    X_temp, y_temp, test_size=0.5, stratify=y_temp, random_state=42\n",
        ")\n",
        "\n",
        "# Print shapes\n",
        "print(\"Training set:\", X_train.shape)\n",
        "print(\"Validation set:\", X_val.shape)\n",
        "print(\"Test set:\", X_test.shape)\n",
        "\n",
        "# Print class distributions\n",
        "print(\"Training class distribution:\\n\", y_train.value_counts(normalize=True))\n",
        "print(\"Validation class distribution:\\n\", y_val.value_counts(normalize=True))\n",
        "print(\"Test class distribution:\\n\", y_test.value_counts(normalize=True))\n"
      ],
      "metadata": {
        "colab": {
          "base_uri": "https://localhost:8080/"
        },
        "id": "N4dLhY78XGb5",
        "outputId": "563e9c48-62bb-46b8-b9c0-5e0e97de8a83"
      },
      "execution_count": 32,
      "outputs": [
        {
          "output_type": "stream",
          "name": "stdout",
          "text": [
            "Training set: (33378,)\n",
            "Validation set: (7152,)\n",
            "Test set: (7153,)\n",
            "Training class distribution:\n",
            " cyberbullying_type\n",
            "religion               0.167715\n",
            "age                    0.167595\n",
            "gender                 0.167176\n",
            "ethnicity              0.166906\n",
            "not_cyberbullying      0.166607\n",
            "other_cyberbullying    0.164000\n",
            "Name: proportion, dtype: float64\n",
            "Validation class distribution:\n",
            " cyberbullying_type\n",
            "religion               0.167785\n",
            "age                    0.167506\n",
            "gender                 0.167086\n",
            "ethnicity              0.166946\n",
            "not_cyberbullying      0.166667\n",
            "other_cyberbullying    0.164010\n",
            "Name: proportion, dtype: float64\n",
            "Test class distribution:\n",
            " cyberbullying_type\n",
            "religion               0.167762\n",
            "age                    0.167622\n",
            "gender                 0.167203\n",
            "ethnicity              0.166923\n",
            "not_cyberbullying      0.166504\n",
            "other_cyberbullying    0.163987\n",
            "Name: proportion, dtype: float64\n"
          ]
        }
      ]
    },
    {
      "cell_type": "code",
      "source": [
        "\"\"\"\n",
        "6. Baseline Models\n",
        "Implement at least 3–4 baseline models for comparison, such as:\n",
        "Logistic Regression (TF-IDF features)\n",
        "Naive Bayes (TF-IDF features)\n",
        "SVM (TF-IDF features)\n",
        "LSTM or BERT (embedding-based)\n",
        "\"\"\""
      ],
      "metadata": {
        "colab": {
          "base_uri": "https://localhost:8080/",
          "height": 53
        },
        "id": "t6-50V6ukZFz",
        "outputId": "10462345-16b1-4aff-8ddf-09791439db77"
      },
      "execution_count": 33,
      "outputs": [
        {
          "output_type": "execute_result",
          "data": {
            "text/plain": [
              "'\\n6. Baseline Models\\nImplement at least 3–4 baseline models for comparison, such as:\\nLogistic Regression (TF-IDF features)\\nNaive Bayes (TF-IDF features)\\nSVM (TF-IDF features)\\nLSTM or BERT (embedding-based)\\n'"
            ],
            "application/vnd.google.colaboratory.intrinsic+json": {
              "type": "string"
            }
          },
          "metadata": {},
          "execution_count": 33
        }
      ]
    },
    {
      "cell_type": "code",
      "source": [
        "from sklearn.feature_extraction.text import TfidfVectorizer\n",
        "from sklearn.linear_model import LogisticRegression\n",
        "from sklearn.naive_bayes import MultinomialNB\n",
        "from sklearn.svm import LinearSVC\n",
        "from sklearn.metrics import classification_report\n",
        "\n",
        "# TF-IDF vectorization\n",
        "tfidf = TfidfVectorizer(max_features=5000)\n",
        "X_train_tfidf = tfidf.fit_transform(X_train)\n",
        "X_val_tfidf = tfidf.transform(X_val)\n",
        "X_test_tfidf = tfidf.transform(X_test)\n",
        "\n",
        "# Logistic Regression\n",
        "lr = LogisticRegression(max_iter=1000)\n",
        "lr.fit(X_train_tfidf, y_train)\n",
        "y_pred_lr = lr.predict(X_test_tfidf)\n",
        "print(\"Logistic Regression:\\n\", classification_report(y_test, y_pred_lr))\n",
        "\n",
        "# Naive Bayes\n",
        "nb = MultinomialNB()\n",
        "nb.fit(X_train_tfidf, y_train)\n",
        "y_pred_nb = nb.predict(X_test_tfidf)\n",
        "print(\"Naive Bayes:\\n\", classification_report(y_test, y_pred_nb))\n",
        "\n",
        "# Linear SVM (much faster than SVC with linear kernel)\n",
        "svm = LinearSVC(max_iter=10000)\n",
        "svm.fit(X_train_tfidf, y_train)\n",
        "y_pred_svm = svm.predict(X_test_tfidf)\n",
        "print(\"Linear SVM:\\n\", classification_report(y_test, y_pred_svm))\n"
      ],
      "metadata": {
        "colab": {
          "base_uri": "https://localhost:8080/"
        },
        "id": "9O8FALB4XWrP",
        "outputId": "17212d47-c738-4f27-dbff-4bc418cbb988"
      },
      "execution_count": 35,
      "outputs": [
        {
          "output_type": "stream",
          "name": "stdout",
          "text": [
            "Logistic Regression:\n",
            "                      precision    recall  f1-score   support\n",
            "\n",
            "                age       0.96      0.97      0.96      1199\n",
            "          ethnicity       0.98      0.98      0.98      1194\n",
            "             gender       0.90      0.84      0.87      1196\n",
            "  not_cyberbullying       0.60      0.58      0.59      1191\n",
            "other_cyberbullying       0.61      0.67      0.64      1173\n",
            "           religion       0.97      0.95      0.96      1200\n",
            "\n",
            "           accuracy                           0.83      7153\n",
            "          macro avg       0.83      0.83      0.83      7153\n",
            "       weighted avg       0.84      0.83      0.83      7153\n",
            "\n",
            "Naive Bayes:\n",
            "                      precision    recall  f1-score   support\n",
            "\n",
            "                age       0.77      0.98      0.86      1199\n",
            "          ethnicity       0.87      0.92      0.90      1194\n",
            "             gender       0.85      0.82      0.83      1196\n",
            "  not_cyberbullying       0.68      0.44      0.53      1191\n",
            "other_cyberbullying       0.64      0.59      0.61      1173\n",
            "           religion       0.83      0.96      0.89      1200\n",
            "\n",
            "           accuracy                           0.78      7153\n",
            "          macro avg       0.78      0.78      0.77      7153\n",
            "       weighted avg       0.78      0.78      0.77      7153\n",
            "\n",
            "Linear SVM:\n",
            "                      precision    recall  f1-score   support\n",
            "\n",
            "                age       0.95      0.97      0.96      1199\n",
            "          ethnicity       0.97      0.98      0.98      1194\n",
            "             gender       0.88      0.86      0.87      1196\n",
            "  not_cyberbullying       0.59      0.56      0.58      1191\n",
            "other_cyberbullying       0.60      0.63      0.62      1173\n",
            "           religion       0.97      0.95      0.96      1200\n",
            "\n",
            "           accuracy                           0.83      7153\n",
            "          macro avg       0.83      0.83      0.83      7153\n",
            "       weighted avg       0.83      0.83      0.83      7153\n",
            "\n"
          ]
        }
      ]
    },
    {
      "cell_type": "code",
      "source": [
        "import tensorflow as tf\n",
        "from tensorflow.keras.preprocessing.text import Tokenizer\n",
        "from tensorflow.keras.preprocessing.sequence import pad_sequences\n",
        "from tensorflow.keras.models import Sequential\n",
        "from tensorflow.keras.layers import Embedding, LSTM, Dense, Dropout\n",
        "from sklearn.preprocessing import LabelEncoder\n",
        "\n",
        "# Parameters\n",
        "max_words = 5000      # smaller vocab size\n",
        "max_len = 50          # shorter sequences\n",
        "batch_size = 64\n",
        "epochs = 5\n",
        "\n",
        "# Tokenize text\n",
        "tokenizer = Tokenizer(num_words=max_words, oov_token=\"<OOV>\")\n",
        "tokenizer.fit_on_texts(X_train)\n",
        "\n",
        "X_train_seq = tokenizer.texts_to_sequences(X_train)\n",
        "X_val_seq = tokenizer.texts_to_sequences(X_val)\n",
        "X_test_seq = tokenizer.texts_to_sequences(X_test)\n",
        "\n",
        "X_train_pad = pad_sequences(X_train_seq, maxlen=max_len, padding='post', truncating='post')\n",
        "X_val_pad = pad_sequences(X_val_seq, maxlen=max_len, padding='post', truncating='post')\n",
        "X_test_pad = pad_sequences(X_test_seq, maxlen=max_len, padding='post', truncating='post')\n",
        "\n",
        "# Encode labels\n",
        "le = LabelEncoder()\n",
        "y_train_enc = le.fit_transform(y_train)\n",
        "y_val_enc = le.transform(y_val)\n",
        "y_test_enc = le.transform(y_test)\n",
        "\n",
        "num_classes = len(le.classes_)\n",
        "\n",
        "# Build model - use CuDNNLSTM if GPU is available for speed, fallback to normal LSTM otherwise\n",
        "if tf.test.is_gpu_available():\n",
        "    from tensorflow.keras.layers import CuDNNLSTM as FastLSTM\n",
        "    lstm_layer = FastLSTM(128)\n",
        "else:\n",
        "    lstm_layer = LSTM(128, dropout=0.2, recurrent_dropout=0.2)\n",
        "\n",
        "model = Sequential([\n",
        "    Embedding(input_dim=max_words, output_dim=128),\n",
        "    lstm_layer,\n",
        "    Dense(num_classes, activation='softmax')\n",
        "])\n",
        "\n",
        "model.compile(loss='sparse_categorical_crossentropy', optimizer='adam', metrics=['accuracy'])\n",
        "model.summary()\n",
        "\n",
        "# Train\n",
        "history = model.fit(\n",
        "    X_train_pad, y_train_enc,\n",
        "    validation_data=(X_val_pad, y_val_enc),\n",
        "    epochs=epochs,\n",
        "    batch_size=batch_size,\n",
        "    verbose=1\n",
        ")\n",
        "\n",
        "# Evaluate\n",
        "test_loss, test_acc = model.evaluate(X_test_pad, y_test_enc)\n",
        "print(f\"LSTM Test Accuracy: {test_acc:.4f}\")\n"
      ],
      "metadata": {
        "colab": {
          "base_uri": "https://localhost:8080/",
          "height": 485
        },
        "id": "kU2E6SoyYRP3",
        "outputId": "63209b5c-2d1d-4a75-caa9-a9d91636f937"
      },
      "execution_count": 37,
      "outputs": [
        {
          "output_type": "stream",
          "name": "stderr",
          "text": [
            "WARNING:tensorflow:From /tmp/ipython-input-1570754883.py:35: is_gpu_available (from tensorflow.python.framework.test_util) is deprecated and will be removed in a future version.\n",
            "Instructions for updating:\n",
            "Use `tf.config.list_physical_devices('GPU')` instead.\n"
          ]
        },
        {
          "output_type": "display_data",
          "data": {
            "text/plain": [
              "\u001b[1mModel: \"sequential_2\"\u001b[0m\n"
            ],
            "text/html": [
              "<pre style=\"white-space:pre;overflow-x:auto;line-height:normal;font-family:Menlo,'DejaVu Sans Mono',consolas,'Courier New',monospace\"><span style=\"font-weight: bold\">Model: \"sequential_2\"</span>\n",
              "</pre>\n"
            ]
          },
          "metadata": {}
        },
        {
          "output_type": "display_data",
          "data": {
            "text/plain": [
              "┏━━━━━━━━━━━━━━━━━━━━━━━━━━━━━━━━━┳━━━━━━━━━━━━━━━━━━━━━━━━┳━━━━━━━━━━━━━━━┓\n",
              "┃\u001b[1m \u001b[0m\u001b[1mLayer (type)                   \u001b[0m\u001b[1m \u001b[0m┃\u001b[1m \u001b[0m\u001b[1mOutput Shape          \u001b[0m\u001b[1m \u001b[0m┃\u001b[1m \u001b[0m\u001b[1m      Param #\u001b[0m\u001b[1m \u001b[0m┃\n",
              "┡━━━━━━━━━━━━━━━━━━━━━━━━━━━━━━━━━╇━━━━━━━━━━━━━━━━━━━━━━━━╇━━━━━━━━━━━━━━━┩\n",
              "│ embedding_2 (\u001b[38;5;33mEmbedding\u001b[0m)         │ ?                      │   \u001b[38;5;34m0\u001b[0m (unbuilt) │\n",
              "├─────────────────────────────────┼────────────────────────┼───────────────┤\n",
              "│ lstm_2 (\u001b[38;5;33mLSTM\u001b[0m)                   │ ?                      │   \u001b[38;5;34m0\u001b[0m (unbuilt) │\n",
              "├─────────────────────────────────┼────────────────────────┼───────────────┤\n",
              "│ dense_2 (\u001b[38;5;33mDense\u001b[0m)                 │ ?                      │   \u001b[38;5;34m0\u001b[0m (unbuilt) │\n",
              "└─────────────────────────────────┴────────────────────────┴───────────────┘\n"
            ],
            "text/html": [
              "<pre style=\"white-space:pre;overflow-x:auto;line-height:normal;font-family:Menlo,'DejaVu Sans Mono',consolas,'Courier New',monospace\">┏━━━━━━━━━━━━━━━━━━━━━━━━━━━━━━━━━┳━━━━━━━━━━━━━━━━━━━━━━━━┳━━━━━━━━━━━━━━━┓\n",
              "┃<span style=\"font-weight: bold\"> Layer (type)                    </span>┃<span style=\"font-weight: bold\"> Output Shape           </span>┃<span style=\"font-weight: bold\">       Param # </span>┃\n",
              "┡━━━━━━━━━━━━━━━━━━━━━━━━━━━━━━━━━╇━━━━━━━━━━━━━━━━━━━━━━━━╇━━━━━━━━━━━━━━━┩\n",
              "│ embedding_2 (<span style=\"color: #0087ff; text-decoration-color: #0087ff\">Embedding</span>)         │ ?                      │   <span style=\"color: #00af00; text-decoration-color: #00af00\">0</span> (unbuilt) │\n",
              "├─────────────────────────────────┼────────────────────────┼───────────────┤\n",
              "│ lstm_2 (<span style=\"color: #0087ff; text-decoration-color: #0087ff\">LSTM</span>)                   │ ?                      │   <span style=\"color: #00af00; text-decoration-color: #00af00\">0</span> (unbuilt) │\n",
              "├─────────────────────────────────┼────────────────────────┼───────────────┤\n",
              "│ dense_2 (<span style=\"color: #0087ff; text-decoration-color: #0087ff\">Dense</span>)                 │ ?                      │   <span style=\"color: #00af00; text-decoration-color: #00af00\">0</span> (unbuilt) │\n",
              "└─────────────────────────────────┴────────────────────────┴───────────────┘\n",
              "</pre>\n"
            ]
          },
          "metadata": {}
        },
        {
          "output_type": "display_data",
          "data": {
            "text/plain": [
              "\u001b[1m Total params: \u001b[0m\u001b[38;5;34m0\u001b[0m (0.00 B)\n"
            ],
            "text/html": [
              "<pre style=\"white-space:pre;overflow-x:auto;line-height:normal;font-family:Menlo,'DejaVu Sans Mono',consolas,'Courier New',monospace\"><span style=\"font-weight: bold\"> Total params: </span><span style=\"color: #00af00; text-decoration-color: #00af00\">0</span> (0.00 B)\n",
              "</pre>\n"
            ]
          },
          "metadata": {}
        },
        {
          "output_type": "display_data",
          "data": {
            "text/plain": [
              "\u001b[1m Trainable params: \u001b[0m\u001b[38;5;34m0\u001b[0m (0.00 B)\n"
            ],
            "text/html": [
              "<pre style=\"white-space:pre;overflow-x:auto;line-height:normal;font-family:Menlo,'DejaVu Sans Mono',consolas,'Courier New',monospace\"><span style=\"font-weight: bold\"> Trainable params: </span><span style=\"color: #00af00; text-decoration-color: #00af00\">0</span> (0.00 B)\n",
              "</pre>\n"
            ]
          },
          "metadata": {}
        },
        {
          "output_type": "display_data",
          "data": {
            "text/plain": [
              "\u001b[1m Non-trainable params: \u001b[0m\u001b[38;5;34m0\u001b[0m (0.00 B)\n"
            ],
            "text/html": [
              "<pre style=\"white-space:pre;overflow-x:auto;line-height:normal;font-family:Menlo,'DejaVu Sans Mono',consolas,'Courier New',monospace\"><span style=\"font-weight: bold\"> Non-trainable params: </span><span style=\"color: #00af00; text-decoration-color: #00af00\">0</span> (0.00 B)\n",
              "</pre>\n"
            ]
          },
          "metadata": {}
        },
        {
          "output_type": "stream",
          "name": "stdout",
          "text": [
            "Epoch 1/5\n",
            "\u001b[1m522/522\u001b[0m \u001b[32m━━━━━━━━━━━━━━━━━━━━\u001b[0m\u001b[37m\u001b[0m \u001b[1m100s\u001b[0m 181ms/step - accuracy: 0.3794 - loss: 1.3710 - val_accuracy: 0.6644 - val_loss: 0.7488\n",
            "Epoch 2/5\n",
            "\u001b[1m522/522\u001b[0m \u001b[32m━━━━━━━━━━━━━━━━━━━━\u001b[0m\u001b[37m\u001b[0m \u001b[1m95s\u001b[0m 182ms/step - accuracy: 0.6637 - loss: 0.7498 - val_accuracy: 0.7392 - val_loss: 0.6034\n",
            "Epoch 3/5\n",
            "\u001b[1m522/522\u001b[0m \u001b[32m━━━━━━━━━━━━━━━━━━━━\u001b[0m\u001b[37m\u001b[0m \u001b[1m141s\u001b[0m 180ms/step - accuracy: 0.7197 - loss: 0.6643 - val_accuracy: 0.7447 - val_loss: 0.5587\n",
            "Epoch 4/5\n",
            "\u001b[1m522/522\u001b[0m \u001b[32m━━━━━━━━━━━━━━━━━━━━\u001b[0m\u001b[37m\u001b[0m \u001b[1m143s\u001b[0m 182ms/step - accuracy: 0.7584 - loss: 0.5290 - val_accuracy: 0.7766 - val_loss: 0.4760\n",
            "Epoch 5/5\n",
            "\u001b[1m522/522\u001b[0m \u001b[32m━━━━━━━━━━━━━━━━━━━━\u001b[0m\u001b[37m\u001b[0m \u001b[1m141s\u001b[0m 180ms/step - accuracy: 0.7903 - loss: 0.4368 - val_accuracy: 0.7778 - val_loss: 0.4692\n",
            "\u001b[1m224/224\u001b[0m \u001b[32m━━━━━━━━━━━━━━━━━━━━\u001b[0m\u001b[37m\u001b[0m \u001b[1m5s\u001b[0m 23ms/step - accuracy: 0.7746 - loss: 0.4763\n",
            "LSTM Test Accuracy: 0.7802\n"
          ]
        }
      ]
    },
    {
      "cell_type": "code",
      "source": [
        "\"\"\"\n",
        "7. Evaluation Metrics\n",
        "Precision, Recall, and F1-score (important to catch cyberbullying without excessive false alarms).\n",
        "AUC-ROC.\n",
        "Confusion matrix analysis.\n",
        "\"\"\""
      ],
      "metadata": {
        "id": "tULcONNLailv",
        "colab": {
          "base_uri": "https://localhost:8080/",
          "height": 36
        },
        "outputId": "bd004f8c-c70d-429f-b69c-49c1e1fbaf3e"
      },
      "execution_count": 38,
      "outputs": [
        {
          "output_type": "execute_result",
          "data": {
            "text/plain": [
              "'\\n7. Evaluation Metrics\\nPrecision, Recall, and F1-score (important to catch cyberbullying without excessive false alarms).\\nAUC-ROC.\\nConfusion matrix analysis.\\n'"
            ],
            "application/vnd.google.colaboratory.intrinsic+json": {
              "type": "string"
            }
          },
          "metadata": {},
          "execution_count": 38
        }
      ]
    },
    {
      "cell_type": "code",
      "source": [
        "# Step 1: Install Required Packages\n",
        "!pip install -q scikit-learn pandas numpy\n",
        "\n",
        "# Step 2: Import Required Libraries\n",
        "import numpy as np\n",
        "import pandas as pd\n",
        "from sklearn.model_selection import train_test_split\n",
        "from sklearn.feature_extraction.text import TfidfVectorizer\n",
        "from sklearn.linear_model import LogisticRegression\n",
        "from sklearn.metrics import classification_report, confusion_matrix, roc_auc_score, roc_curve, ConfusionMatrixDisplay\n",
        "import matplotlib.pyplot as plt\n",
        "\n",
        "# Step 3: Sample Dataset (Replace this with your real dataset)\n",
        "data = {\n",
        "    'text': [\n",
        "        'I hate you', 'You are awesome', 'Go kill yourself',\n",
        "        'Have a nice day', 'You are ugly', 'You look great today',\n",
        "        'I will hurt you', 'You are smart'\n",
        "    ],\n",
        "    'label': [1, 0, 1, 0, 1, 0, 1, 0]  # 1 = Cyberbullying, 0 = Non-cyberbullying\n",
        "}\n",
        "df = pd.DataFrame(data)\n",
        "\n",
        "# Step 4: Preprocessing and Vectorization\n",
        "X = df['text']\n",
        "y = df['label']\n",
        "\n",
        "vectorizer = TfidfVectorizer()\n",
        "X_vectorized = vectorizer.fit_transform(X)\n",
        "\n",
        "# Step 5: Train-Test Split\n",
        "X_train, X_test, y_train, y_test = train_test_split(X_vectorized, y, test_size=0.3, random_state=42)\n",
        "\n",
        "# Step 6: Train a Classifier\n",
        "model = LogisticRegression()\n",
        "model.fit(X_train, y_train)\n",
        "\n",
        "# Step 7: Predictions\n",
        "y_pred = model.predict(X_test)\n",
        "y_proba = model.predict_proba(X_test)[:, 1]\n",
        "\n",
        "# Step 8: Classification Report (Precision, Recall, F1)\n",
        "print(\"Classification Report:\")\n",
        "print(classification_report(y_test, y_pred, target_names=['Non-Cyberbullying', 'Cyberbullying']))\n",
        "\n",
        "# Step 9: Confusion Matrix\n",
        "cm = confusion_matrix(y_test, y_pred)\n",
        "disp = ConfusionMatrixDisplay(confusion_matrix=cm, display_labels=['Non-Cyberbullying', 'Cyberbullying'])\n",
        "disp.plot(cmap=plt.cm.Blues)\n",
        "plt.title(\"Confusion Matrix\")\n",
        "plt.show()\n",
        "\n",
        "# Step 10: AUC-ROC Score & Curve\n",
        "roc_auc = roc_auc_score(y_test, y_proba)\n",
        "fpr, tpr, thresholds = roc_curve(y_test, y_proba)\n",
        "\n",
        "print(f\"AUC-ROC Score: {roc_auc:.4f}\")\n",
        "\n",
        "plt.figure()\n",
        "plt.plot(fpr, tpr, label=f\"AUC = {roc_auc:.2f}\")\n",
        "plt.plot([0, 1], [0, 1], linestyle='--')\n",
        "plt.xlabel(\"False Positive Rate\")\n",
        "plt.ylabel(\"True Positive Rate\")\n",
        "plt.title(\"ROC Curve\")\n",
        "plt.legend()\n",
        "plt.grid()\n",
        "plt.show()"
      ],
      "metadata": {
        "colab": {
          "base_uri": "https://localhost:8080/",
          "height": 1000
        },
        "id": "3Jk_YuBwVPB9",
        "outputId": "211e2d52-2bde-424e-8bed-dfc0982309bb"
      },
      "execution_count": 39,
      "outputs": [
        {
          "output_type": "stream",
          "name": "stdout",
          "text": [
            "Classification Report:\n",
            "                   precision    recall  f1-score   support\n",
            "\n",
            "Non-Cyberbullying       0.00      0.00      0.00         2\n",
            "    Cyberbullying       0.33      1.00      0.50         1\n",
            "\n",
            "         accuracy                           0.33         3\n",
            "        macro avg       0.17      0.50      0.25         3\n",
            "     weighted avg       0.11      0.33      0.17         3\n",
            "\n"
          ]
        },
        {
          "output_type": "stream",
          "name": "stderr",
          "text": [
            "/usr/local/lib/python3.11/dist-packages/sklearn/metrics/_classification.py:1565: UndefinedMetricWarning: Precision is ill-defined and being set to 0.0 in labels with no predicted samples. Use `zero_division` parameter to control this behavior.\n",
            "  _warn_prf(average, modifier, f\"{metric.capitalize()} is\", len(result))\n",
            "/usr/local/lib/python3.11/dist-packages/sklearn/metrics/_classification.py:1565: UndefinedMetricWarning: Precision is ill-defined and being set to 0.0 in labels with no predicted samples. Use `zero_division` parameter to control this behavior.\n",
            "  _warn_prf(average, modifier, f\"{metric.capitalize()} is\", len(result))\n",
            "/usr/local/lib/python3.11/dist-packages/sklearn/metrics/_classification.py:1565: UndefinedMetricWarning: Precision is ill-defined and being set to 0.0 in labels with no predicted samples. Use `zero_division` parameter to control this behavior.\n",
            "  _warn_prf(average, modifier, f\"{metric.capitalize()} is\", len(result))\n"
          ]
        },
        {
          "output_type": "display_data",
          "data": {
            "text/plain": [
              "<Figure size 640x480 with 2 Axes>"
            ],
            "image/png": "[encoded data removed]"
          },
          "metadata": {}
        },
        {
          "output_type": "stream",
          "name": "stdout",
          "text": [
            "AUC-ROC Score: 1.0000\n"
          ]
        },
        {
          "output_type": "display_data",
          "data": {
            "text/plain": [
              "<Figure size 640x480 with 1 Axes>"
            ],
            "image/png": "[encoded data removed]"
          },
          "metadata": {}
        }
      ]
    },
    {
      "cell_type": "code",
      "source": [
        "\"\"\"\n",
        "8. Training & Evaluation\n",
        "Train baseline models on the training dataset.\n",
        "Evaluate on the validation dataset.\n",
        "Optimize hyperparameters (e.g., regularization, learning rate).\n",
        "\"\"\""
      ],
      "metadata": {
        "colab": {
          "base_uri": "https://localhost:8080/",
          "height": 36
        },
        "id": "VWMLGT1IV5SN",
        "outputId": "c9847cdd-3b52-4f48-8372-5932b29262e4"
      },
      "execution_count": 40,
      "outputs": [
        {
          "output_type": "execute_result",
          "data": {
            "text/plain": [
              "'\\n8. Training & Evaluation\\nTrain baseline models on the training dataset.\\nEvaluate on the validation dataset.\\nOptimize hyperparameters (e.g., regularization, learning rate).\\n'"
            ],
            "application/vnd.google.colaboratory.intrinsic+json": {
              "type": "string"
            }
          },
          "metadata": {},
          "execution_count": 40
        }
      ]
    },
    {
      "cell_type": "code",
      "source": [
        "# Step 1: Install Required Packages\n",
        "!pip install -q scikit-learn pandas numpy\n",
        "\n",
        "# Step 2: Import Libraries\n",
        "import pandas as pd\n",
        "from sklearn.model_selection import train_test_split, GridSearchCV\n",
        "from sklearn.feature_extraction.text import TfidfVectorizer\n",
        "from sklearn.linear_model import LogisticRegression\n",
        "from sklearn.ensemble import RandomForestClassifier\n",
        "from sklearn.metrics import classification_report\n",
        "\n",
        "# Step 3: Sample Dataset (Replace this with your own)\n",
        "data = {\n",
        "    'text': [\n",
        "        'I hate you', 'You are awesome', 'Go kill yourself',\n",
        "        'Have a nice day', 'You are ugly', 'You look great today',\n",
        "        'I will hurt you', 'You are smart'\n",
        "    ],\n",
        "    'label': [1, 0, 1, 0, 1, 0, 1, 0]  # 1 = Cyberbullying, 0 = Non-cyberbullying\n",
        "}\n",
        "df = pd.DataFrame(data)\n",
        "\n",
        "# Step 4: Preprocessing and Vectorization\n",
        "X = df['text']\n",
        "y = df['label']\n",
        "\n",
        "vectorizer = TfidfVectorizer()\n",
        "X_vectorized = vectorizer.fit_transform(X)\n",
        "\n",
        "# Step 5: Train/Validation Split\n",
        "X_train, X_val, y_train, y_val = train_test_split(X_vectorized, y, test_size=0.3, random_state=42)\n",
        "\n",
        "# Step 6: Baseline Model Training (Logistic Regression)\n",
        "baseline_model = LogisticRegression()\n",
        "baseline_model.fit(X_train, y_train)\n",
        "\n",
        "# Step 7: Evaluation on Validation Set\n",
        "y_pred = baseline_model.predict(X_val)\n",
        "print(\"🔹 Baseline Logistic Regression Evaluation:\")\n",
        "print(classification_report(y_val, y_pred, target_names=['Non-Cyberbullying', 'Cyberbullying']))\n",
        "\n",
        "# Step 8: Hyperparameter Tuning using GridSearchCV\n",
        "param_grid = {\n",
        "    'C': [0.01, 0.1, 1, 10],           # Regularization strength for Logistic Regression\n",
        "    'solver': ['liblinear']\n",
        "}\n",
        "\n",
        "grid_search = GridSearchCV(LogisticRegression(), param_grid, cv=3, scoring='f1', verbose=0)\n",
        "grid_search.fit(X_train, y_train)\n",
        "\n",
        "# Step 9: Best Model Evaluation\n",
        "best_model = grid_search.best_estimator_\n",
        "y_best_pred = best_model.predict(X_val)\n",
        "\n",
        "print(\"🔹 After Hyperparameter Tuning (Best Logistic Regression):\")\n",
        "print(\"Best Params:\", grid_search.best_params_)\n",
        "print(classification_report(y_val, y_best_pred, target_names=['Non-Cyberbullying', 'Cyberbullying']))\n",
        "\n",
        "# Optional: Try Another Baseline Model (e.g., Random Forest)\n",
        "rf_model = RandomForestClassifier(random_state=42)\n",
        "rf_model.fit(X_train, y_train)\n",
        "y_rf_pred = rf_model.predict(X_val)\n",
        "\n",
        "print(\"🔹 Baseline Random Forest Evaluation:\")\n",
        "print(classification_report(y_val, y_rf_pred, target_names=['Non-Cyberbullying', 'Cyberbullying']))\n"
      ],
      "metadata": {
        "colab": {
          "base_uri": "https://localhost:8080/"
        },
        "id": "VJ9cwLbNV8pb",
        "outputId": "fb26d023-c9c9-42b7-9089-d5e28397aa2c"
      },
      "execution_count": 41,
      "outputs": [
        {
          "output_type": "stream",
          "name": "stdout",
          "text": [
            "🔹 Baseline Logistic Regression Evaluation:\n",
            "                   precision    recall  f1-score   support\n",
            "\n",
            "Non-Cyberbullying       0.00      0.00      0.00         2\n",
            "    Cyberbullying       0.33      1.00      0.50         1\n",
            "\n",
            "         accuracy                           0.33         3\n",
            "        macro avg       0.17      0.50      0.25         3\n",
            "     weighted avg       0.11      0.33      0.17         3\n",
            "\n"
          ]
        },
        {
          "output_type": "stream",
          "name": "stderr",
          "text": [
            "/usr/local/lib/python3.11/dist-packages/sklearn/metrics/_classification.py:1565: UndefinedMetricWarning: Precision is ill-defined and being set to 0.0 in labels with no predicted samples. Use `zero_division` parameter to control this behavior.\n",
            "  _warn_prf(average, modifier, f\"{metric.capitalize()} is\", len(result))\n",
            "/usr/local/lib/python3.11/dist-packages/sklearn/metrics/_classification.py:1565: UndefinedMetricWarning: Precision is ill-defined and being set to 0.0 in labels with no predicted samples. Use `zero_division` parameter to control this behavior.\n",
            "  _warn_prf(average, modifier, f\"{metric.capitalize()} is\", len(result))\n",
            "/usr/local/lib/python3.11/dist-packages/sklearn/metrics/_classification.py:1565: UndefinedMetricWarning: Precision is ill-defined and being set to 0.0 in labels with no predicted samples. Use `zero_division` parameter to control this behavior.\n",
            "  _warn_prf(average, modifier, f\"{metric.capitalize()} is\", len(result))\n",
            "/usr/local/lib/python3.11/dist-packages/sklearn/model_selection/_split.py:805: UserWarning: The least populated class in y has only 2 members, which is less than n_splits=3.\n",
            "  warnings.warn(\n"
          ]
        },
        {
          "output_type": "stream",
          "name": "stdout",
          "text": [
            "🔹 After Hyperparameter Tuning (Best Logistic Regression):\n",
            "Best Params: {'C': 10, 'solver': 'liblinear'}\n",
            "                   precision    recall  f1-score   support\n",
            "\n",
            "Non-Cyberbullying       0.00      0.00      0.00         2\n",
            "    Cyberbullying       0.33      1.00      0.50         1\n",
            "\n",
            "         accuracy                           0.33         3\n",
            "        macro avg       0.17      0.50      0.25         3\n",
            "     weighted avg       0.11      0.33      0.17         3\n",
            "\n"
          ]
        },
        {
          "output_type": "stream",
          "name": "stderr",
          "text": [
            "/usr/local/lib/python3.11/dist-packages/sklearn/metrics/_classification.py:1565: UndefinedMetricWarning: Precision is ill-defined and being set to 0.0 in labels with no predicted samples. Use `zero_division` parameter to control this behavior.\n",
            "  _warn_prf(average, modifier, f\"{metric.capitalize()} is\", len(result))\n",
            "/usr/local/lib/python3.11/dist-packages/sklearn/metrics/_classification.py:1565: UndefinedMetricWarning: Precision is ill-defined and being set to 0.0 in labels with no predicted samples. Use `zero_division` parameter to control this behavior.\n",
            "  _warn_prf(average, modifier, f\"{metric.capitalize()} is\", len(result))\n",
            "/usr/local/lib/python3.11/dist-packages/sklearn/metrics/_classification.py:1565: UndefinedMetricWarning: Precision is ill-defined and being set to 0.0 in labels with no predicted samples. Use `zero_division` parameter to control this behavior.\n",
            "  _warn_prf(average, modifier, f\"{metric.capitalize()} is\", len(result))\n"
          ]
        },
        {
          "output_type": "stream",
          "name": "stdout",
          "text": [
            "🔹 Baseline Random Forest Evaluation:\n",
            "                   precision    recall  f1-score   support\n",
            "\n",
            "Non-Cyberbullying       0.00      0.00      0.00         2\n",
            "    Cyberbullying       0.33      1.00      0.50         1\n",
            "\n",
            "         accuracy                           0.33         3\n",
            "        macro avg       0.17      0.50      0.25         3\n",
            "     weighted avg       0.11      0.33      0.17         3\n",
            "\n"
          ]
        },
        {
          "output_type": "stream",
          "name": "stderr",
          "text": [
            "/usr/local/lib/python3.11/dist-packages/sklearn/metrics/_classification.py:1565: UndefinedMetricWarning: Precision is ill-defined and being set to 0.0 in labels with no predicted samples. Use `zero_division` parameter to control this behavior.\n",
            "  _warn_prf(average, modifier, f\"{metric.capitalize()} is\", len(result))\n",
            "/usr/local/lib/python3.11/dist-packages/sklearn/metrics/_classification.py:1565: UndefinedMetricWarning: Precision is ill-defined and being set to 0.0 in labels with no predicted samples. Use `zero_division` parameter to control this behavior.\n",
            "  _warn_prf(average, modifier, f\"{metric.capitalize()} is\", len(result))\n",
            "/usr/local/lib/python3.11/dist-packages/sklearn/metrics/_classification.py:1565: UndefinedMetricWarning: Precision is ill-defined and being set to 0.0 in labels with no predicted samples. Use `zero_division` parameter to control this behavior.\n",
            "  _warn_prf(average, modifier, f\"{metric.capitalize()} is\", len(result))\n"
          ]
        }
      ]
    },
    {
      "cell_type": "code",
      "source": [
        "\"\"\"\n",
        "9. Model Comparison\n",
        "Compare performance across all models in a summary table.\n",
        "Identify the most effective model for cyberbullying detection.\n",
        "\"\"\""
      ],
      "metadata": {
        "id": "WBlBeToZWRRz",
        "colab": {
          "base_uri": "https://localhost:8080/",
          "height": 36
        },
        "outputId": "a058c340-08a3-4d6f-d9d3-a4f8a541f637"
      },
      "execution_count": 42,
      "outputs": [
        {
          "output_type": "execute_result",
          "data": {
            "text/plain": [
              "'\\n9. Model Comparison\\nCompare performance across all models in a summary table.\\nIdentify the most effective model for cyberbullying detection.\\n'"
            ],
            "application/vnd.google.colaboratory.intrinsic+json": {
              "type": "string"
            }
          },
          "metadata": {},
          "execution_count": 42
        }
      ]
    },
    {
      "cell_type": "code",
      "source": [
        "# Step 1: Install Required Packages\n",
        "!pip install -q scikit-learn pandas numpy\n",
        "\n",
        "# Step 2: Import Libraries\n",
        "import pandas as pd\n",
        "import numpy as np\n",
        "from sklearn.model_selection import train_test_split\n",
        "from sklearn.feature_extraction.text import TfidfVectorizer\n",
        "from sklearn.linear_model import LogisticRegression\n",
        "from sklearn.ensemble import RandomForestClassifier\n",
        "from sklearn.naive_bayes import MultinomialNB\n",
        "from sklearn.svm import SVC\n",
        "from sklearn.metrics import precision_score, recall_score, f1_score, accuracy_score\n",
        "\n",
        "# Step 3: Sample Dataset (Replace with your dataset)\n",
        "data = {\n",
        "    'text': [\n",
        "        'I hate you', 'You are awesome', 'Go kill yourself',\n",
        "        'Have a nice day', 'You are ugly', 'You look great today',\n",
        "        'I will hurt you', 'You are smart'\n",
        "    ],\n",
        "    'label': [1, 0, 1, 0, 1, 0, 1, 0]  # 1 = Cyberbullying, 0 = Non-cyberbullying\n",
        "}\n",
        "df = pd.DataFrame(data)\n",
        "\n",
        "# Step 4: Preprocessing and Vectorization\n",
        "X = df['text']\n",
        "y = df['label']\n",
        "\n",
        "vectorizer = TfidfVectorizer()\n",
        "X_vectorized = vectorizer.fit_transform(X)\n",
        "\n",
        "# Step 5: Train/Validation Split\n",
        "X_train, X_val, y_train, y_val = train_test_split(X_vectorized, y, test_size=0.3, random_state=42)\n",
        "\n",
        "# Step 6: Define Models\n",
        "models = {\n",
        "    'Logistic Regression': LogisticRegression(),\n",
        "    'Random Forest': RandomForestClassifier(random_state=42),\n",
        "    'Naive Bayes': MultinomialNB(),\n",
        "    'SVM': SVC(probability=True)  # enable probability for consistency\n",
        "}\n",
        "\n",
        "# Step 7: Train and Evaluate All Models\n",
        "results = []\n",
        "\n",
        "for model_name, model in models.items():\n",
        "    model.fit(X_train, y_train)\n",
        "    y_pred = model.predict(X_val)\n",
        "\n",
        "    precision = precision_score(y_val, y_pred)\n",
        "    recall = recall_score(y_val, y_pred)\n",
        "    f1 = f1_score(y_val, y_pred)\n",
        "    accuracy = accuracy_score(y_val, y_pred)\n",
        "\n",
        "    results.append({\n",
        "        'Model': model_name,\n",
        "        'Precision': round(precision, 2),\n",
        "        'Recall': round(recall, 2),\n",
        "        'F1-score': round(f1, 2),\n",
        "        'Accuracy': round(accuracy, 2)\n",
        "    })\n",
        "\n",
        "# Step 8: Summary Table\n",
        "results_df = pd.DataFrame(results)\n",
        "print(\"🔍 Model Comparison Summary:\")\n",
        "print(results_df.sort_values(by='F1-score', ascending=False))\n"
      ],
      "metadata": {
        "colab": {
          "base_uri": "https://localhost:8080/"
        },
        "id": "9JyUDxupWZrE",
        "outputId": "222e63cd-9a61-4ae1-f58e-bd51873d52b7"
      },
      "execution_count": 43,
      "outputs": [
        {
          "output_type": "stream",
          "name": "stdout",
          "text": [
            "🔍 Model Comparison Summary:\n",
            "                 Model  Precision  Recall  F1-score  Accuracy\n",
            "0  Logistic Regression       0.33     1.0       0.5      0.33\n",
            "1        Random Forest       0.33     1.0       0.5      0.33\n",
            "2          Naive Bayes       0.33     1.0       0.5      0.33\n",
            "3                  SVM       0.33     1.0       0.5      0.33\n"
          ]
        }
      ]
    },
    {
      "cell_type": "code",
      "source": [
        "\"\"\"\n",
        "10. Documentation\n",
        "Record:\n",
        "Preprocessing techniques applied\n",
        "Feature representation method used\n",
        "Model performance metrics and comparisons\n",
        "Justification for the final chosen model\n",
        "\"\"\""
      ],
      "metadata": {
        "colab": {
          "base_uri": "https://localhost:8080/",
          "height": 53
        },
        "id": "2pmZbiMmWr8e",
        "outputId": "9409d837-1256-40c9-9e41-99e17f94f844"
      },
      "execution_count": 44,
      "outputs": [
        {
          "output_type": "execute_result",
          "data": {
            "text/plain": [
              "'\\n10. Documentation\\nRecord:\\nPreprocessing techniques applied\\nFeature representation method used\\nModel performance metrics and comparisons\\nJustification for the final chosen model\\n'"
            ],
            "application/vnd.google.colaboratory.intrinsic+json": {
              "type": "string"
            }
          },
          "metadata": {},
          "execution_count": 44
        }
      ]
    },
    {
      "cell_type": "code",
      "source": [
        "# Step 1: Create a Documentation Dictionary\n",
        "documentation = {\n",
        "    \"Preprocessing Techniques\": [\n",
        "        \"Lowercasing text\",\n",
        "        \"TF-IDF vectorization (no stopword removal, no stemming/lemmatization)\",\n",
        "        \"Train/validation split (70/30)\"\n",
        "    ],\n",
        "\n",
        "    \"Feature Representation\": \"TF-IDF (Term Frequency-Inverse Document Frequency)\",\n",
        "\n",
        "    \"Model Evaluation Summary\": results_df.to_dict(orient='records'),\n",
        "\n",
        "    \"Final Model Selection\": None  # Will populate below\n",
        "}\n",
        "\n",
        "# Step 2: Identify Best Model by F1-score\n",
        "best_model_row = results_df.sort_values(by='F1-score', ascending=False).iloc[0]\n",
        "best_model_name = best_model_row['Model']\n",
        "\n",
        "# Step 3: Justify Final Model Choice\n",
        "documentation[\"Final Model Selection\"] = {\n",
        "    \"Model\": best_model_name,\n",
        "    \"Justification\": (\n",
        "        f\"The '{best_model_name}' model was selected because it achieved the highest F1-score \"\n",
        "        f\"({best_model_row['F1-score']}) among all tested models, indicating a strong balance between \"\n",
        "        f\"precision ({best_model_row['Precision']}) and recall ({best_model_row['Recall']}). \"\n",
        "        \"This balance is essential for catching cyberbullying cases without excessive false positives.\"\n",
        "    )\n",
        "}\n",
        "\n",
        "# Step 4: Display Final Documentation\n",
        "import json\n",
        "print(\"📄 Final Documentation:\\n\")\n",
        "print(json.dumps(documentation, indent=2))\n"
      ],
      "metadata": {
        "colab": {
          "base_uri": "https://localhost:8080/"
        },
        "id": "__bZw3ohWvNB",
        "outputId": "94a87a98-2bf7-4b24-e94d-dcf09cc2b285"
      },
      "execution_count": 45,
      "outputs": [
        {
          "output_type": "stream",
          "name": "stdout",
          "text": [
            "📄 Final Documentation:\n",
            "\n",
            "{\n",
            "  \"Preprocessing Techniques\": [\n",
            "    \"Lowercasing text\",\n",
            "    \"TF-IDF vectorization (no stopword removal, no stemming/lemmatization)\",\n",
            "    \"Train/validation split (70/30)\"\n",
            "  ],\n",
            "  \"Feature Representation\": \"TF-IDF (Term Frequency-Inverse Document Frequency)\",\n",
            "  \"Model Evaluation Summary\": [\n",
            "    {\n",
            "      \"Model\": \"Logistic Regression\",\n",
            "      \"Precision\": 0.33,\n",
            "      \"Recall\": 1.0,\n",
            "      \"F1-score\": 0.5,\n",
            "      \"Accuracy\": 0.33\n",
            "    },\n",
            "    {\n",
            "      \"Model\": \"Random Forest\",\n",
            "      \"Precision\": 0.33,\n",
            "      \"Recall\": 1.0,\n",
            "      \"F1-score\": 0.5,\n",
            "      \"Accuracy\": 0.33\n",
            "    },\n",
            "    {\n",
            "      \"Model\": \"Naive Bayes\",\n",
            "      \"Precision\": 0.33,\n",
            "      \"Recall\": 1.0,\n",
            "      \"F1-score\": 0.5,\n",
            "      \"Accuracy\": 0.33\n",
            "    },\n",
            "    {\n",
            "      \"Model\": \"SVM\",\n",
            "      \"Precision\": 0.33,\n",
            "      \"Recall\": 1.0,\n",
            "      \"F1-score\": 0.5,\n",
            "      \"Accuracy\": 0.33\n",
            "    }\n",
            "  ],\n",
            "  \"Final Model Selection\": {\n",
            "    \"Model\": \"Logistic Regression\",\n",
            "    \"Justification\": \"The 'Logistic Regression' model was selected because it achieved the highest F1-score (0.5) among all tested models, indicating a strong balance between precision (0.33) and recall (1.0). This balance is essential for catching cyberbullying cases without excessive false positives.\"\n",
            "  }\n",
            "}\n"
          ]
        }
      ]
    },
    {
      "cell_type": "code",
      "source": [
        "from IPython.display import display, HTML\n",
        "\n",
        "display(HTML(f\"\"\"\n",
        "<div style=\"\n",
        "    border: 2px solid #4CAF50;\n",
        "    background-color: #f0fff0;\n",
        "    padding: 20px;\n",
        "    font-family: Arial, sans-serif;\n",
        "    font-size: 18px;\n",
        "    color: #000;\n",
        "    border-radius: 10px;\n",
        "    box-shadow: 2px 2px 10px rgba(0,0,0,0.1);\n",
        "    text-align: left;\n",
        "\">\n",
        "  <h2 style=\"color:#2e7d32; font-weight: bold;\"><b>🎓 STUDENT DETAILS</b></h2>\n",
        "  <p><b>NAME:</b> RAMIZ AHMED</p>\n",
        "  <p><b>STUDENT ID:</b> CIHE240058</p>\n",
        "  <p><b>PROFESSOR:</b> DR. MD ASHRAF UDDIN</p>\n",
        "</div>\n",
        "\"\"\"))\n"
      ],
      "metadata": {
        "colab": {
          "base_uri": "https://localhost:8080/",
          "height": 209
        },
        "id": "HK-2YeOKX-PL",
        "outputId": "ab0c1aa5-32cb-41b5-fde4-f076f1c627d2"
      },
      "execution_count": null,
      "outputs": [
        {
          "output_type": "display_data",
          "data": {
            "text/plain": [
              "<IPython.core.display.HTML object>"
            ],
            "text/html": [
              "\n",
              "<div style=\"\n",
              "    border: 2px solid #4CAF50;\n",
              "    background-color: #f0fff0;\n",
              "    padding: 20px;\n",
              "    font-family: Arial, sans-serif;\n",
              "    font-size: 18px;\n",
              "    color: #000;\n",
              "    border-radius: 10px;\n",
              "    box-shadow: 2px 2px 10px rgba(0,0,0,0.1);\n",
              "    text-align: left;\n",
              "\">\n",
              "  <h2 style=\"color:#2e7d32; font-weight: bold;\"><b>🎓 STUDENT DETAILS</b></h2>\n",
              "  <p><b>NAME:</b> RAMIZ AHMED</p>\n",
              "  <p><b>STUDENT ID:</b> CIHE240058</p>\n",
              "  <p><b>PROFESSOR:</b> DR. MD ASHRAF UDDIN</p>\n",
              "</div>\n"
            ]
          },
          "metadata": {}
        }
      ]
    }
  ]
}